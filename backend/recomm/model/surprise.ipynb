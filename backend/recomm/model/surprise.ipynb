{
 "cells": [
  {
   "cell_type": "code",
   "execution_count": 3,
   "metadata": {},
   "outputs": [],
   "source": [
    "import os\n",
    "from dotenv import load_dotenv, find_dotenv\n",
    "import pandas as pd\n",
    "import numpy as np\n",
    "from pymongo import MongoClient\n",
    "\n",
    "from surprise import Reader\n",
    "from surprise import SVD\n",
    "from surprise import Dataset\n",
    "from surprise import accuracy\n",
    "from surprise.model_selection import train_test_split\n",
    "from surprise.dataset import DatasetAutoFolds"
   ]
  },
  {
   "cell_type": "code",
   "execution_count": 5,
   "metadata": {},
   "outputs": [],
   "source": [
    "# 환경변수 불러오기\n",
    "load_dotenv(find_dotenv())\n",
    "HOST = os.environ[\"MONGO_HOST\"]\n",
    "USER = os.environ[\"MONGO_USER\"]\n",
    "PASS = os.environ[\"MONGO_PASS\"]\n",
    "PORT = int(os.environ[\"MONGO_PORT\"])\n",
    "\n",
    "# DB 연결\n",
    "client = MongoClient(\"mongodb://\" + USER + \":\" + PASS + \"@\" + HOST, PORT)\n",
    "\n",
    "db = client.animations\n",
    "dbcol_info = db.ani_info\n",
    "dbcol_review = db.ani_review\n",
    "dbcol_log = db.ani_log"
   ]
  },
  {
   "cell_type": "code",
   "execution_count": 11,
   "metadata": {},
   "outputs": [
    {
     "name": "stdout",
     "output_type": "stream",
     "text": [
      "      id                    name  series_id\n",
      "0  39986             주술회전 part 1     4057.0\n",
      "1  39431            (무삭제) 귀멸의 칼날     3923.0\n",
      "2  16075                   은혼 1기     3989.0\n",
      "3  38912  전생했더니 슬라임이었던 건에 대하여 1기     3856.0\n",
      "4  40562        귀멸의 칼날 : 환락의 거리편     3923.0\n",
      "   ani_id  user_id score\n",
      "0   39986  4523846   5.0\n",
      "1   39986  2976649   3.5\n",
      "2   39986  4759828   5.0\n",
      "3   39986   134827   5.0\n",
      "4   39986  5873764   5.0\n",
      "   user_id  ani_id score         name\n",
      "0  4523846   39986   5.0  주술회전 part 1\n",
      "1  2976649   39986   3.5  주술회전 part 1\n",
      "2  4759828   39986   5.0  주술회전 part 1\n",
      "3   134827   39986   5.0  주술회전 part 1\n",
      "4  5873764   39986   5.0  주술회전 part 1\n"
     ]
    }
   ],
   "source": [
    "# 애니 정보 불러오기\n",
    "ani_df = pd.DataFrame(dbcol_info.find({}, {\"_id\": 0, \"id\": 1, \"name\": 1, \"series_id\": 1}))\n",
    "print(ani_df.head())\n",
    "\n",
    "# 평가 데이터 불러오기\n",
    "rating_df = pd.DataFrame(dbcol_review.find({}, {\"_id\": 0, \"profile\": 1, \"animation\": 1, \"score\": 1 }))\n",
    "rating_df.rename(columns={\"profile\": \"user_id\", \"animation\": \"ani_id\"}, inplace=True)\n",
    "print(rating_df.head())\n",
    "\n",
    "# 애니정보-평가 합치기\n",
    "ani_ratings = pd.merge(rating_df, ani_df, left_on=\"ani_id\", right_on=\"id\")\n",
    "ani_ratings = ani_ratings[[\"user_id\", \"ani_id\", \"score\", \"name\"]]\n",
    "print(ani_ratings.head())"
   ]
  },
  {
   "cell_type": "code",
   "execution_count": 18,
   "metadata": {},
   "outputs": [],
   "source": [
    "# ani_ratings.csv 파일로 언로드 시 인덱스와 헤더를 모두 제거한 새로운 파일 생성.\n",
    "path = os.path.abspath(os.path.join(os.getcwd(), \"..\", \"model\", \"data\"))\n",
    "\n",
    "ani_ratings.to_csv(path + \"/ani_ratings.csv\", index=False, encoding=\"utf-8\")"
   ]
  },
  {
   "cell_type": "code",
   "execution_count": 19,
   "metadata": {},
   "outputs": [],
   "source": [
    "df = pd.read_csv(\"./data/ani_ratings.csv\")\n",
    "reader = Reader(rating_scale=(0.5, 5))\n",
    "data = Dataset.load_from_df(df[[\"user_id\", \"ani_id\", \"score\"]], reader=reader)"
   ]
  },
  {
   "cell_type": "code",
   "execution_count": 20,
   "metadata": {},
   "outputs": [
    {
     "name": "stdout",
     "output_type": "stream",
     "text": [
      "RMSE: 0.9406\n"
     ]
    },
    {
     "data": {
      "text/plain": [
       "0.940623415397703"
      ]
     },
     "execution_count": 20,
     "metadata": {},
     "output_type": "execute_result"
    }
   ],
   "source": [
    "train, test = train_test_split(data, test_size=.25, random_state=0)\n",
    "\n",
    "# 수행 시마다 동일한 결과를 도출하기 위해 random_state 설정\n",
    "algo = SVD(n_factors=50, random_state=0)\n",
    "\n",
    "# 학습 데이터 세트로 학습하고 나서 테스트 데이터 세트로 평점 예측 후 RMSE 평가\n",
    "algo.fit(train)\n",
    "predictions = algo.test(test)\n",
    "accuracy.rmse(predictions)"
   ]
  },
  {
   "cell_type": "code",
   "execution_count": 21,
   "metadata": {},
   "outputs": [
    {
     "data": {
      "text/plain": [
       "<surprise.prediction_algorithms.matrix_factorization.SVD at 0x1f1899ac190>"
      ]
     },
     "execution_count": 21,
     "metadata": {},
     "output_type": "execute_result"
    }
   ],
   "source": [
    "algo = SVD(n_epochs=20, n_factors=50, random_state=0)\n",
    "algo.fit(train)"
   ]
  },
  {
   "cell_type": "code",
   "execution_count": 22,
   "metadata": {},
   "outputs": [
    {
     "name": "stdout",
     "output_type": "stream",
     "text": [
      "      id         name  series_id\n",
      "0  39986  주술회전 part 1     4057.0\n"
     ]
    }
   ],
   "source": [
    "# user_id: 4523846의 ani_id 데이터를 추출해 ani_id: 39986 데이터가 있는지 확인.\n",
    "user_id = 4523846\n",
    "ani_id = 39986\n",
    "animations = ani_ratings[ani_ratings[\"user_id\"] == user_id][\"ani_id\"]\n",
    "\n",
    "if animations[animations==ani_id].count() == 0 :\n",
    "    print(\"평점 없음\")\n",
    "\n",
    "# 도서에 대한 상세 속성 정보 DataFrame 로딩\n",
    "\n",
    "print(ani_df[ani_df[\"id\"]==ani_id])"
   ]
  },
  {
   "cell_type": "code",
   "execution_count": 32,
   "metadata": {},
   "outputs": [
    {
     "name": "stdout",
     "output_type": "stream",
     "text": [
      "user: 4523846    item: 39986      r_ui = None   est = 4.41   {'was_impossible': False}\n"
     ]
    }
   ],
   "source": [
    "uid = str(user_id)\n",
    "iid = str(ani_id)\n",
    "pred = algo.predict(str(user_id), str(ani_id), verbose=True)"
   ]
  },
  {
   "cell_type": "code",
   "execution_count": 35,
   "metadata": {},
   "outputs": [],
   "source": [
    "def get_unseen_surprise(ani_ratings, ani_id, user_id):\n",
    "    # 입력값으로 들어온 userId에 해당하는 사용자가 평점을 매긴 모든 도서를 리스트로 생성\n",
    "    seen_ani = ani_ratings[ani_ratings[\"user_id\"]==user_id][\"ani_id\"].tolist()\n",
    "\n",
    "    # 모든 도셔의 ISBN를 리스트로 생성.\n",
    "    ani_list = ani_df[\"id\"].tolist()\n",
    "\n",
    "    # 이미 평점을 매긴 애니의 id를 제외한 후 리스트로 생성\n",
    "    unseen_ani = [ani for ani in ani_list if ani not in seen_ani]\n",
    "    print(\"평점 매긴 애니 수: \", len(seen_ani), \"\\n추천 대상 애니 수: \", len(unseen_ani), \"\\n전체 애니 수: \", len(ani_list))\n",
    "\n",
    "    return unseen_ani\n",
    "\n",
    "def recomm_ani_by_surprise(algo, user_id, unseen_ani, top_n):\n",
    "\n",
    "  # 알고리즘 객체의 predict() 메서드를 평점이 없는 영화에 반복 수행한 후 결과를 list 객체로 저장\n",
    "  predictions = [algo.predict(str(user_id), str(ani_id)) for ani_id in unseen_ani]\n",
    "  # predictions list 객체는 surprise의 Prediction 객체를 원소로 가지고 있음.\n",
    "  # [Prediction(uid='276847', iid='1', est=3.69), Prediction(uid='276847', iid='2', est=2.98),,,,]\n",
    "\n",
    "  # 이를 est 값으로 정렬하기 위해서 아래의 sortkey_eat 함수를 정의함.\n",
    "  # sortkey_est 함수는 list 객체의 sort() 함수의 키 값으로 사용되어 정렬 수행.\n",
    "  def sortkey_est(pred):\n",
    "    return pred.est\n",
    "    \n",
    "  # sortkey_est() 반환값의 내림 차순으로 정렬 수행하고 top_n개의 최상위 값 추출.\n",
    "  predictions.sort(key=sortkey_est, reverse=True)\n",
    "  top_predictions = predictions[:top_n]\n",
    "\n",
    "  # top_n으로 추출된 영화의 정보 추출, 영화 아이디, 추천 예상 평점, 제목 추출\n",
    "  top_ani_ids = [ int(pred.iid) for pred in top_predictions]\n",
    "  top_ani_rating = [ pred.est for pred in top_predictions]\n",
    "  top_ani_names = ani_ratings[ani_ratings.isin(top_ani_ids)][\"name\"]\n",
    "\n",
    "  top_ani_preds = [ (id, rating) for id, rating in zip(top_ani_ids, top_ani_rating)]\n",
    "  return top_ani_preds"
   ]
  },
  {
   "cell_type": "code",
   "execution_count": 36,
   "metadata": {},
   "outputs": [
    {
     "name": "stdout",
     "output_type": "stream",
     "text": [
      "평점 매긴 애니 수:  16 \n",
      "추천 대상 애니 수:  6144 \n",
      "전체 애니 수:  6160\n"
     ]
    }
   ],
   "source": [
    "unseen_ani = get_unseen_surprise(ani_ratings, ani_df, user_id)\n",
    "top_ani_preds = recomm_ani_by_surprise(algo, user_id, unseen_ani, top_n=10)"
   ]
  },
  {
   "cell_type": "code",
   "execution_count": 38,
   "metadata": {},
   "outputs": [
    {
     "name": "stdout",
     "output_type": "stream",
     "text": [
      "16075 :  4.410256410256411\n",
      "38912 :  4.410256410256411\n",
      "23661 :  4.410256410256411\n",
      "40815 :  4.410256410256411\n",
      "25004 :  4.410256410256411\n",
      "40382 :  4.410256410256411\n",
      "39081 :  4.410256410256411\n",
      "39631 :  4.410256410256411\n",
      "39654 :  4.410256410256411\n",
      "22643 :  4.410256410256411\n"
     ]
    },
    {
     "data": {
      "text/html": [
       "<div>\n",
       "<style scoped>\n",
       "    .dataframe tbody tr th:only-of-type {\n",
       "        vertical-align: middle;\n",
       "    }\n",
       "\n",
       "    .dataframe tbody tr th {\n",
       "        vertical-align: top;\n",
       "    }\n",
       "\n",
       "    .dataframe thead th {\n",
       "        text-align: right;\n",
       "    }\n",
       "</style>\n",
       "<table border=\"1\" class=\"dataframe\">\n",
       "  <thead>\n",
       "    <tr style=\"text-align: right;\">\n",
       "      <th></th>\n",
       "      <th>id</th>\n",
       "      <th>name</th>\n",
       "      <th>series_id</th>\n",
       "    </tr>\n",
       "  </thead>\n",
       "  <tbody>\n",
       "    <tr>\n",
       "      <th>2</th>\n",
       "      <td>16075</td>\n",
       "      <td>은혼 1기</td>\n",
       "      <td>3989.0</td>\n",
       "    </tr>\n",
       "    <tr>\n",
       "      <th>3</th>\n",
       "      <td>38912</td>\n",
       "      <td>전생했더니 슬라임이었던 건에 대하여 1기</td>\n",
       "      <td>3856.0</td>\n",
       "    </tr>\n",
       "    <tr>\n",
       "      <th>5</th>\n",
       "      <td>23661</td>\n",
       "      <td>하이큐!! 1기</td>\n",
       "      <td>3894.0</td>\n",
       "    </tr>\n",
       "    <tr>\n",
       "      <th>7</th>\n",
       "      <td>40815</td>\n",
       "      <td>(자막) 스파이 패밀리 part 1</td>\n",
       "      <td>4206.0</td>\n",
       "    </tr>\n",
       "    <tr>\n",
       "      <th>8</th>\n",
       "      <td>25004</td>\n",
       "      <td>(자막) 하이큐!! 2기</td>\n",
       "      <td>3894.0</td>\n",
       "    </tr>\n",
       "    <tr>\n",
       "      <th>9</th>\n",
       "      <td>40382</td>\n",
       "      <td>전생했더니 슬라임이었던 건에 대하여 2기 2부</td>\n",
       "      <td>3856.0</td>\n",
       "    </tr>\n",
       "    <tr>\n",
       "      <th>10</th>\n",
       "      <td>39081</td>\n",
       "      <td>방패 용사 성공담 Season 1</td>\n",
       "      <td>4180.0</td>\n",
       "    </tr>\n",
       "    <tr>\n",
       "      <th>11</th>\n",
       "      <td>39631</td>\n",
       "      <td>하이큐!! TO THE TOP part 1</td>\n",
       "      <td>3894.0</td>\n",
       "    </tr>\n",
       "    <tr>\n",
       "      <th>12</th>\n",
       "      <td>39654</td>\n",
       "      <td>지박소년 하나코 군</td>\n",
       "      <td>NaN</td>\n",
       "    </tr>\n",
       "    <tr>\n",
       "      <th>13</th>\n",
       "      <td>22643</td>\n",
       "      <td>소드 아트 온라인 1기</td>\n",
       "      <td>3968.0</td>\n",
       "    </tr>\n",
       "  </tbody>\n",
       "</table>\n",
       "</div>"
      ],
      "text/plain": [
       "       id                       name  series_id\n",
       "2   16075                      은혼 1기     3989.0\n",
       "3   38912     전생했더니 슬라임이었던 건에 대하여 1기     3856.0\n",
       "5   23661                   하이큐!! 1기     3894.0\n",
       "7   40815        (자막) 스파이 패밀리 part 1     4206.0\n",
       "8   25004              (자막) 하이큐!! 2기     3894.0\n",
       "9   40382  전생했더니 슬라임이었던 건에 대하여 2기 2부     3856.0\n",
       "10  39081         방패 용사 성공담 Season 1     4180.0\n",
       "11  39631    하이큐!! TO THE TOP part 1     3894.0\n",
       "12  39654                 지박소년 하나코 군        NaN\n",
       "13  22643               소드 아트 온라인 1기     3968.0"
      ]
     },
     "execution_count": 38,
     "metadata": {},
     "output_type": "execute_result"
    }
   ],
   "source": [
    "top_ani_list = []\n",
    "for top_ani in top_ani_preds :\n",
    "  top_ani_list.append(top_ani[0])\n",
    "  print(top_ani[0], \": \", top_ani[1])\n",
    "\n",
    "ani_df[ani_df[\"id\"].isin(top_ani_list)]"
   ]
  }
 ],
 "metadata": {
  "kernelspec": {
   "display_name": "Python 3.8.10 ('venv')",
   "language": "python",
   "name": "python3"
  },
  "language_info": {
   "codemirror_mode": {
    "name": "ipython",
    "version": 3
   },
   "file_extension": ".py",
   "mimetype": "text/x-python",
   "name": "python",
   "nbconvert_exporter": "python",
   "pygments_lexer": "ipython3",
   "version": "3.8.10"
  },
  "orig_nbformat": 4,
  "vscode": {
   "interpreter": {
    "hash": "188c778312df74935ebea6756e74ac520620f8a603fe73046d6bd711fc0fa0e6"
   }
  }
 },
 "nbformat": 4,
 "nbformat_minor": 2
}
