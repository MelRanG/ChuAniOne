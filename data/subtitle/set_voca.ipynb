{
 "cells": [
  {
   "cell_type": "markdown",
   "id": "fc587f02",
   "metadata": {},
   "source": [
    "# 📌 id값 추가\n",
    "- 이후 값 추가 시 ai함수 생성 필요\n",
    "\n",
    "### ✏️ local DB 연결(TEST용)"
   ]
  },
  {
   "cell_type": "code",
   "execution_count": 2,
   "id": "5d163c83",
   "metadata": {},
   "outputs": [],
   "source": [
    "import pymongo\n",
    "\n",
    "conn = pymongo.MongoClient(\"localhost\", 27017)\n",
    "\n",
    "db_soaeng = conn.soaeng\n",
    "dbcol_origin = db_soaeng.words\n",
    "dbcol_words = db_soaeng.voca\n",
    "\n",
    "# db_bigvoca = conn.bigvoca\n",
    "# dbcol_voca = db_bigvoca.bigvoca_words\n",
    "\n",
    "words = list(dbcol_word.find({}).sort(\"frequency\", -1))\n",
    "for idx, word in enumerate(words):\n",
    "    word[\"voca_id\"] = idx + 1\n",
    "    dbcol_word.update_one({\"_id\": word[\"_id\"]}, {\"$set\": word})"
   ]
  },
  {
   "cell_type": "markdown",
   "id": "7dd4a177",
   "metadata": {},
   "source": [
    "### ✏️ ChuAnyOne DB 연결"
   ]
  },
  {
   "cell_type": "code",
   "execution_count": 26,
   "id": "5f06f759",
   "metadata": {},
   "outputs": [],
   "source": [
    "import pymongo\n",
    "import dotenv\n",
    "import os\n",
    "\n",
    "# 환경변수 불러오기\n",
    "dotenv.load_dotenv(dotenv.find_dotenv())\n",
    "USER = os.environ[\"MONGODB_USER\"] # MongoDB user\n",
    "PASSWORD = os.environ[\"MONGODB_PW\"] # MongoDB password\n",
    "PORT = int(os.environ[\"MONGODB_PORT\"]) # MongoDB port\n",
    "\n",
    "# DB 연결\n",
    "client = pymongo.MongoClient(\"mongodb://\" + USER + \":\" + PASSWORD + \"@j7e104.p.ssafy.io\", PORT)\n",
    "db_bigvoca = client.bigvoca\n",
    "dbcol_voca = db_bigvoca.words\n",
    "\n",
    "# 빈도수 순으로 정렬\n",
    "words = list(dbcol_voca.find({}).sort(\"frequency\", -1))\n",
    "\n",
    "# voca_id 추가\n",
    "for idx, word in enumerate(words):\n",
    "    word[\"voca_id\"] = idx + 1\n",
    "    dbcol_voca.update_one({\"_id\": word[\"_id\"]}, {\"$set\": word})"
   ]
  },
  {
   "cell_type": "markdown",
   "id": "efb3d650",
   "metadata": {},
   "source": [
    "# 📌 번역 설정"
   ]
  },
  {
   "cell_type": "code",
   "execution_count": 14,
   "id": "51e70423",
   "metadata": {},
   "outputs": [],
   "source": [
    "origin = list(dbcol_origin.find({}).sort(\"frequency\", -1).limit(1500))\n",
    "\n",
    "# 확인할 단어\n",
    "diff = []\n",
    "\n",
    "# 단어장에 들어갈 단어\n",
    "voca = []\n",
    "for word in origin:\n",
    "    # 다르게 번역된 리스트\n",
    "    if word[\"korean\"] != word[\"papago\"]:\n",
    "        diff.append(word)\n",
    "    # 똑같이 번역된 리스트\n",
    "    else:\n",
    "        input = {\"japanese\": word[\"japanese\"], \"pronunciation\": word[\"pronunciation\"], \"korean\": word[\"korean\"], \"frequency\": word[\"frequency\"]}\n",
    "        voca.append(input)\n",
    "\n",
    "# 똑같이 번역된 리스트만 단어장에 집어넣기\n",
    "for word in voca:\n",
    "    dbcol_words.update_one({\"japanese\":word[\"japanese\"]}, {\"$set\": word}, upsert = True)\n",
    "    \n",
    "# print(len(diff))\n",
    "# print(len(voca))\n",
    "# print(voca)\n",
    "print(\"단어 저장 완료\")"
   ]
  },
  {
   "cell_type": "markdown",
   "id": "be042c0d",
   "metadata": {},
   "source": [
    "### ✏️ 데이터값 확인"
   ]
  },
  {
   "cell_type": "code",
   "execution_count": 15,
   "id": "e6e9ea4a",
   "metadata": {},
   "outputs": [
    {
     "name": "stdout",
     "output_type": "stream",
     "text": [
      "                        _id  frequency korean pronunciation papago japanese\n",
      "0  631f757b1750bef094a82161     305364     아니           Nai     없다       無い\n",
      "1  631f757b1750bef094a8217f     239317    ~이다           Iru     있다       居る\n",
      "2  631f757b1750bef094a82171     232232     사례          Koto      일        事\n",
      "3  631f757b1750bef094a82169     221927     좋은           Yoi     좋다       良い\n",
      "4  631f757b1750bef094a82175     176825   이 되다          Naru  이루어지다       成る\n",
      "5  631f757b1750bef094a82173     176726    가지다           Aru     있다       有る\n",
      "6  631f757b1750bef094a8218d     160185      예            Sō     그래       そう\n",
      "7  631f757b1750bef094a82207     146042     구리            Dō    어떻게       どう\n",
      "8  631f757b1750bef094a8216f     128920    보내다          Yaru     주다       遣る\n",
      "9  631f757b1750bef094a821c5     114859     남성          Hito     사람        人\n"
     ]
    }
   ],
   "source": [
    "import pandas as pd\n",
    "\n",
    "print(pd.DataFrame(diff[:10]))"
   ]
  },
  {
   "cell_type": "code",
   "execution_count": null,
   "id": "783ef992",
   "metadata": {},
   "outputs": [],
   "source": [
    "for word in diff:\n",
    "    input = {\"japanese\": word[\"japanese\"], \"pronunciation\": word[\"pronunciation\"], \"korean\": word[\"korean\"]+\", \"+word[\"papago\"], \"frequency\": word[\"frequency\"]}\n",
    "    dbcol_words.update_one({\"japanese\":word[\"japanese\"]}, {\"$set\": input}, upsert = True)\n",
    "print(\"단어 저장 완료\")"
   ]
  }
 ],
 "metadata": {
  "kernelspec": {
   "display_name": "Python 3.9.13 64-bit (microsoft store)",
   "language": "python",
   "name": "python3"
  },
  "language_info": {
   "codemirror_mode": {
    "name": "ipython",
    "version": 3
   },
   "file_extension": ".py",
   "mimetype": "text/x-python",
   "name": "python",
   "nbconvert_exporter": "python",
   "pygments_lexer": "ipython3",
   "version": "3.9.13"
  },
  "vscode": {
   "interpreter": {
    "hash": "ce17403facf23653dc515fb98e645033ef8ff5fe0851357b8a24e1fbb165b806"
   }
  }
 },
 "nbformat": 4,
 "nbformat_minor": 5
}
