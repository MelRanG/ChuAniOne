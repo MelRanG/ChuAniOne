{
 "cells": [
  {
   "cell_type": "markdown",
   "id": "fc587f02",
   "metadata": {},
   "source": [
    "# 📌 id값 추가\n",
    "- 이후 값 추가 시 ai함수 생성 필요\n",
    "\n",
    "### ✏️ local DB 연결(TEST용)"
   ]
  },
  {
   "cell_type": "code",
   "execution_count": 2,
   "id": "5d163c83",
   "metadata": {},
   "outputs": [],
   "source": [
    "import pymongo\n",
    "\n",
    "conn = pymongo.MongoClient(\"localhost\", 27017)\n",
    "\n",
    "db_soaeng = conn.soaeng\n",
    "dbcol_origin = db_soaeng.words\n",
    "dbcol_words = db_soaeng.voca\n",
    "\n",
    "# db_bigvoca = conn.bigvoca\n",
    "# dbcol_voca = db_bigvoca.bigvoca_words\n",
    "\n",
    "words = list(dbcol_word.find({}).sort(\"frequency\", -1))\n",
    "for idx, word in enumerate(words):\n",
    "    word[\"voca_id\"] = idx + 1\n",
    "    dbcol_word.update_one({\"_id\": word[\"_id\"]}, {\"$set\": word})"
   ]
  },
  {
   "cell_type": "markdown",
   "id": "7dd4a177",
   "metadata": {},
   "source": [
    "### ✏️ ChuAnyOne DB 연결"
   ]
  },
  {
   "cell_type": "code",
   "execution_count": 26,
   "id": "5f06f759",
   "metadata": {},
   "outputs": [],
   "source": [
    "import pymongo\n",
    "import dotenv\n",
    "import os\n",
    "\n",
    "# 환경변수 불러오기\n",
    "dotenv.load_dotenv(dotenv.find_dotenv())\n",
    "USER = os.environ[\"MONGODB_USER\"] # MongoDB user\n",
    "PASSWORD = os.environ[\"MONGODB_PW\"] # MongoDB password\n",
    "PORT = int(os.environ[\"MONGODB_PORT\"]) # MongoDB port\n",
    "\n",
    "# DB 연결\n",
    "client = pymongo.MongoClient(\"mongodb://\" + USER + \":\" + PASSWORD + \"@j7e104.p.ssafy.io\", PORT)\n",
    "db_bigvoca = client.bigvoca\n",
    "dbcol_voca = db_bigvoca.words\n",
    "\n",
    "# 빈도수 순으로 정렬\n",
    "words = list(dbcol_voca.find({}).sort(\"frequency\", -1))\n",
    "\n",
    "# voca_id 추가\n",
    "for idx, word in enumerate(words):\n",
    "    word[\"voca_id\"] = idx + 1\n",
    "    dbcol_voca.update_one({\"_id\": word[\"_id\"]}, {\"$set\": word})"
   ]
  }
 ],
 "metadata": {
  "kernelspec": {
   "display_name": "Python 3.9.13 64-bit (microsoft store)",
   "language": "python",
   "name": "python3"
  },
  "language_info": {
   "codemirror_mode": {
    "name": "ipython",
    "version": 3
   },
   "file_extension": ".py",
   "mimetype": "text/x-python",
   "name": "python",
   "nbconvert_exporter": "python",
   "pygments_lexer": "ipython3",
   "version": "3.9.13"
  },
  "vscode": {
   "interpreter": {
    "hash": "ce17403facf23653dc515fb98e645033ef8ff5fe0851357b8a24e1fbb165b806"
   }
  }
 },
 "nbformat": 4,
 "nbformat_minor": 5
}
