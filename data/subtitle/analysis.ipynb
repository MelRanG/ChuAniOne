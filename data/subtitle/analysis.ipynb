{
 "cells": [
  {
   "cell_type": "markdown",
   "metadata": {},
   "source": [
    "# 📌 형태소 분석"
   ]
  },
  {
   "cell_type": "markdown",
   "metadata": {},
   "source": [
    "### ✏️ 파일 읽기"
   ]
  },
  {
   "cell_type": "code",
   "execution_count": 27,
   "metadata": {},
   "outputs": [
    {
     "name": "stdout",
     "output_type": "stream",
     "text": [
      "[파일명] Getter_Robot_Go_001.txt\n",
      "[파일명] Getter_Robot_Go_002.txt\n",
      "[파일명] Getter_Robot_Go_003.txt\n",
      "[파일명] Getter_Robot_Go_004.txt\n",
      "[파일명] Getter_Robot_Go_005.txt\n",
      "[파일명] Getter_Robot_Go_006.txt\n",
      "[파일명] Getter_Robot_Go_007.txt\n",
      "[파일명] Getter_Robot_Go_008.txt\n",
      "[파일명] Getter_Robot_Go_009.txt\n",
      "[파일명] Getter_Robot_Go_010.txt\n",
      "[파일명] Getter_Robot_Go_011.txt\n",
      "[파일명] Getter_Robot_Go_012.txt\n",
      "[파일명] Getter_Robot_Go_013.txt\n",
      "[파일명] Getter_Robot_Go_014.txt\n",
      "[파일명] Getter_Robot_Go_015.txt\n",
      "[파일명] Getter_Robot_Go_016.txt\n",
      "[파일명] Getter_Robot_Go_017.txt\n",
      "[파일명] Getter_Robot_Go_018.txt\n",
      "[파일명] Getter_Robot_Go_019.txt\n",
      "[파일명] Getter_Robot_Go_020.txt\n",
      "[파일명] Getter_Robot_Go_021.txt\n",
      "[파일명] Getter_Robot_Go_022.txt\n",
      "[파일명] Getter_Robot_Go_023.txt\n",
      "[파일명] Getter_Robot_Go_024.txt\n",
      "[파일명] Getter_Robot_Go_025.txt\n",
      "[파일명] Getter_Robot_Go_026.txt\n",
      "[파일명] Getter_Robot_Go_027.txt\n",
      "[파일명] Getter_Robot_Go_028.txt\n",
      "[파일명] Getter_Robot_Go_029.txt\n",
      "[파일명] Getter_Robot_Go_030.txt\n",
      "[파일명] Getter_Robot_Go_031.txt\n",
      "[파일명] Getter_Robot_Go_032.txt\n",
      "[파일명] Getter_Robot_Go_033.txt\n",
      "[파일명] Getter_Robot_Go_034.txt\n",
      "[파일명] Getter_Robot_Go_035.txt\n",
      "[파일명] Getter_Robot_Go_036.txt\n",
      "[파일명] Getter_Robot_Go_037.txt\n",
      "[파일명] Getter_Robot_Go_038.txt\n",
      "[파일명] Getter_Robot_Go_039.txt\n",
      "[파일명] Getter_Robot_Go_040.txt\n",
      "[파일명] Getter_Robot_Go_041.txt\n",
      "[파일명] Getter_Robot_Go_042.txt\n",
      "[파일명] Getter_Robot_Go_043.txt\n",
      "[파일명] Getter_Robot_Go_044.txt\n",
      "[파일명] Getter_Robot_Go_045.txt\n",
      "[파일명] Getter_Robot_Go_046.txt\n",
      "[파일명] Getter_Robot_Go_047.txt\n",
      "[파일명] Getter_Robot_Go_048.txt\n",
      "[파일명] Getter_Robot_Go_049.txt\n",
      "[파일명] Getter_Robot_Go_050.txt\n"
     ]
    }
   ],
   "source": [
    "import os\n",
    "\n",
    "# 파일 읽기\n",
    "def read_txt_file(file_name):\n",
    "  print(\"[파일명] \" + file_name)\n",
    "  text = \"\"\n",
    "  \n",
    "  # 파일 열기\n",
    "  with open(file_path + file_name, \"r\", encoding=\"UTF8\") as txt_file:\n",
    "    # 파일 라인별로 텍스트만 추출\n",
    "    for line in txt_file:\n",
    "      line = line.strip()\n",
    "      text += line\n",
    "  return text\n",
    "\n",
    "file_path = \"C:\\\\Users\\\\sodud\\\\study\\\\ssafy_spec_pjt\\\\subtitle\\\\data\\\\refined_text\\\\\"\n",
    "\n",
    "# 자막 파일 폴더\n",
    "file_list = os.listdir(file_path)\n",
    "\n",
    "# 자막 파일 목록\n",
    "txt_files = [txt_file for txt_file in file_list]\n",
    "\n",
    "for txt_file in txt_files:\n",
    "  read_txt_file(txt_file)"
   ]
  },
  {
   "cell_type": "markdown",
   "metadata": {},
   "source": [
    "### ✏️ 불용어 제거"
   ]
  },
  {
   "cell_type": "code",
   "execution_count": 37,
   "metadata": {},
   "outputs": [
    {
     "name": "stdout",
     "output_type": "stream",
     "text": [
      "불용어:  ['これ', 'それ', 'あれ', 'この', 'その', 'あの', 'ここ', 'そこ', 'あそこ', 'こちら', 'どこ', 'だれ', 'なに', 'なん', '何', '私', '貴方', '貴方方', '我々', '私達', 'あの人', 'あのかた', '彼女', '彼', 'です', 'あります', 'おります', 'います', 'は', 'が', 'の', 'に', 'を', 'で', 'え', 'から', 'まで', 'より', 'も', 'どの', 'と', 'し', 'それで', 'しかし']\n"
     ]
    }
   ],
   "source": [
    "import re\n",
    "\n",
    "# 불용어 리스트 생성\n",
    "stop_words = []\n",
    "with open(\"stop_words_japanese.txt\", \"r\", encoding=\"UTF8\") as f :\n",
    "  lines = f.readlines()\n",
    "  # for stop_word in lines:\n",
    "  #   stop_words.append(stop_word.strip())\n",
    "  stop_words = [stop_word.strip() for stop_word in lines]\n",
    "\n",
    "# 생성된 불용어 리스트 확인\n",
    "print(\"불용어: \", stop_words)\n",
    "\n"
   ]
  },
  {
   "cell_type": "code",
   "execution_count": 46,
   "metadata": {},
   "outputs": [
    {
     "name": "stderr",
     "output_type": "stream",
     "text": [
      "[nltk_data] Downloading package stopwords to\n",
      "[nltk_data]     C:\\Users\\sodud\\AppData\\Roaming\\nltk_data...\n",
      "[nltk_data]   Unzipping corpora\\stopwords.zip.\n"
     ]
    },
    {
     "data": {
      "text/plain": [
       "True"
      ]
     },
     "execution_count": 46,
     "metadata": {},
     "output_type": "execute_result"
    },
    {
     "ename": "",
     "evalue": "",
     "output_type": "error",
     "traceback": [
      "\u001b[1;31m현재 셀 또는 이전 셀에서 코드를 실행하는 동안 Kernel이 충돌했습니다. 셀의 코드를 검토하여 오류의 가능한 원인을 식별하세요. 자세한 내용을 보려면 <a href='https://aka.ms/vscodeJupyterKernelCrash'> 여기 </a> 를 클릭하세요. 자세한 내용은 Jupyter <a href='command:jupyter.viewOutput'>로그</a>를 참조하세요."
     ]
    }
   ],
   "source": [
    "import nltk\n",
    "nltk.download('stopwords')"
   ]
  },
  {
   "cell_type": "code",
   "execution_count": 7,
   "metadata": {},
   "outputs": [
    {
     "name": "stdout",
     "output_type": "stream",
     "text": [
      "['バクハツ', 'オン', 'ヒメイ', 'バクハツ', 'オン', 'バクハツ', 'オン', 'ナレーター', 'トツゼン', 'シュツゲン', 'スル', 'ロボット', 'カイジュウ', 'メタル', 'ビースト', 'ヨル', 'アメリカ', 'トシ', 'カイメツ', 'ダゲキ', 'ウケル', 'ソレン', 'ジケン', 'オキル', 'イル', 'バクハツ', 'オン', 'ラン', 'ヨク', 'キク', 'ド', 'ナ', 'プロフェッサーランドウ', 'セカイ', 'チキュウ', 'タダ', 'イマ', 'シハイ', 'スル', 'ムダ', 'テイコウ', 'ヤメル', 'コト', 'メタル', 'ビースト', 'セカイ', 'モノ', 'ツクリアゲル', 'チカラ', 'オモウ', 'ミセル', 'ヤル', 'ワライゴエ', 'ワライゴエ', 'ラセツ', 'ヨブ', 'ゴザル', 'ランドウ', 'ヤシャ', 'アニ', 'キゲン', 'ウルワシイ', 'ヘヘッヤシャ', 'ツギ', 'ニッポン', 'トウキョウ', 'マカセ', 'ヤシャ', 'マカセ', '號', '剴', 'ラスト', 'イク', '號', 'オーケー', '剴', 'コンド', 'ウマイ', 'ヤル', 'ミセル', 'レベル', 'スイッチ', 'オン', 'ヨイ', 'チョウシ', 'モクヒョウ', 'アト', 'メートル', 'ウワ', 'シマウ', 'ウッ', 'シンイチ', '號', 'キョウ', 'パーフェクト', 'ゴザル', '剴', 'モウ', 'ヒトイキ', '剴', 'ジブン', 'ナサケナイ', 'アシタ', 'ウマイ', 'イク', '號気', 'スル', 'キ', 'スル', 'ナグサメル', 'イウ', 'クレル', 'ホウ', 'ウエ', 'スル', 'クンレン', 'ジカン', 'サ', 'チーフ', 'イウ', 'トオリ', '剴', 'タチバナ', 'シンイチ', 'F', 'クル', 'クレル', 'メイ', 'キョウ', 'イチダン', 'メイ', 'キョウ', 'モツ', 'イウ', 'イチ', 'モジ', '號君', 'ダイドウ', '剴君', 'ムトウ', 'アル', 'アイダ', 'イク', 'ケンコウ', 'シンダン', 'ケッカ', 'ヨン', 'イジョウ', 'ナシ', 'イタッテ', 'ケンコウ', 'メイ', 'ワルイ', 'トコロ', 'アル', 'メイ', 'イル', 'メディカル', 'センター', 'チョクチョク', 'カオ', 'ミル', 'イク', 'ワライゴエ', 'セキバライ', 'ミナ', 'ドウゾ', 'タマ', 'マズイ', 'ニャー', 'ポチ', 'マズイ', 'ワン', 'チチ', 'プロフェッサー', 'ラン', 'イウ', 'ロボット', 'コウガク', 'コンピューター', 'カイハツ', 'ケンイ', 'ネン', 'マエ', 'ガッカイ', 'コツゼン', 'スガタ', 'ケス', 'オモウ', 'セカイ', 'シハイ', 'トウゼン', 'ニッポン', 'ターゲット', 'タチバナ', 'カンガエル', 'ナイ', 'ホッキョク', 'コクセキ', 'キギョウ', 'ポーラ', 'ステーション', 'ノリトル', 'ユイイツ', 'サイクツ', 'スル', 'G', 'コウセキ', 'テ', 'ハイル', 'ニャア', 'ロボット', 'セイサク', 'シショウ', 'キタス', 'コト', 'G', 'コウセキ', 'ビチク', 'アル', 'モウ', 'ホトンド', 'ソコ', 'ツク', 'ニャア', 'ソウ', 'ショウ', 'チチ', 'タチバナ', 'ショウ', 'コウシ', 'コンドウ', 'スル', 'イウ', 'シンイチ', 'ヒト', 'コト', 'イウ', 'ワン', 'ショウ', 'ウヒヒ', 'コト', 'イウ', 'ヨウジ', 'カガク', 'ギジュツ', 'チョウカン', 'ボウエイ', 'チョウカン', 'チチ', 'イク', 'タチバナ', 'ハカセ', 'アウ', 'スル', 'ミエル', 'ナル', 'ゲッター', 'ロボ', 'セントウ', 'ヘイキ', 'カガク', 'ギジュツ', 'チョウカン', 'カイゾウ', 'スル', 'イタダク', 'ニャア', 'ポチ', 'ワン', 'マツ', 'クダサル', 'ゲッター', 'ロボ', 'ツクル', 'ワカル', 'イル', 'ウチュウ', 'カイハツ', 'ヘイワ', 'リヨウ', 'タメ', 'イウ', 'コト', 'ボウエイ', 'チョウカン', 'タチバナ', 'ハカセ', 'ニューヨーク', 'ハジメ', 'セカイ', 'トシ', 'ハカイ', 'スル', 'メタル', 'ビースト', 'カナラズ', 'ニッポン', 'コウゲキ', 'スル', 'クル', 'ダイヤモンド', 'セラミック', 'スウヒャク', 'バイ', 'キョウド', 'モツ', 'G', 'コウセキ', 'ツクル', 'メタル', 'ビースト', 'タチムカウ', 'G', 'コウセキ', 'ツクル', 'ゲッター', 'ロボ', 'ハカセ', 'ネガウ', 'スル', 'ゲッター', 'ロボ', 'セントウ', 'ヘイキ', 'ヒト', 'ソウビ', 'スル', 'オル', 'ヤツ', 'アラワレル', 'マエ', 'イソグ', 'カイゾウ', 'コトワル', 'スル', 'イマ', 'ケンキュウ', 'スル', 'クル', 'コト', 'セントウ', 'ツカウ', 'シツレイ', 'スル', 'ボウエイ', 'チョウカン', 'クチブエ', 'サギョウ', 'ヒメイ', 'カイジュウ', 'ヒメイ', 'バクハツ', 'オン', 'シンイチ', 'メタル', 'ビースト', 'トウキョウ', 'アラワレル', 'ニャー', 'チチ', 'ハカセ', 'ゲッター', 'ロボ', 'シュツドウ', 'スル', '號', 'ゲッター', 'ロボ', 'ママ', 'オオク', 'ギセイ', 'デル', 'キョカ', 'スル', 'イタダク', 'ジブン', 'イク', 'イウ', 'イク', 'クダサル', 'シンイチ', '剴', 'イク', 'バトル', 'ヘリ', 'エンゴ', 'スル', 'クレル', 'ワキヤク', 'マワル', 'イウ', 'ゲッター', 'ロボ', 'ホウ', 'ナレル', 'イル', 'ナレ', 'フナレ', 'モンダイ', 'ナイ', 'ユルス', 'イウ', 'キモチ', 'ツヨイ', 'ヤツ', 'ウゴキ', 'ソシ', 'デキル', 'ヨセ', '號', 'ママ', 'ヤツ', 'スル', 'オク', 'イウ', 'ボウエイ', 'チョウカン', 'コウ', 'ナル', 'ジタイ', 'オソレル', 'ハカセ', 'タトエ', 'ツカウ', 'モクテキ', 'チガウ', 'スル', 'オオク', 'ヒトビト', 'イノチ', 'マモル', 'ハカセ', 'ツクル', 'ゲッター', 'ロボ', 'カナラズ', 'イカス', 'オモウ', 'マカセル', 'クダサル', 'マカセル', 'モラウ', '號', 'ゲッター', 'ロボ', 'ノル', 'クレル', '剴', 'ジブン', 'バトル', 'ヘリ', 'ノル', 'エンゴ', 'マワル', 'ヨシ', 'ジ', 'オオガタ', 'ヘリ', 'ゲッター', 'ロボ', 'ハコブ', 'クレル', '剴', 'ヨイ', '剴', 'イイアラソウ', 'シヨウ', 'ナイ', 'コンカイ', 'ユズル', '號', 'シュツドウ', 'ケイホウ', 'カッテ', 'モチダス', 'ヨイ', 'ヨイ', 'ワン', '號', 'オオク', 'ヒトビト', 'イノチ', 'マモル', 'ハカセ', 'ツクル', 'ゲッター', 'ロボ', 'カナラズ', 'イカス', 'オモウ', 'ゲッター', 'ロボ', 'タノム', 'シンイチ', 'シュツドウ', 'シミュレーション', 'ナイ', 'ジッセン', 'ホントウ', 'マカセル', 'クダサル', 'シンイチ', 'イキ', 'シンイチ', 'バトル', 'ワン', 'スタンバイ', '剴', 'バトル', 'ツー', 'スタンバイ', 'リョウカイ', 'オーケー', 'リョウカイ', 'イク', 'オカダ', 'オーケー', 'キ', 'ツケル', 'アニ', 'パトカー', 'サイレン', 'バクハツ', 'オン', 'ワライゴエ', 'ハハメタルビーストギルガ', 'テッテイ', 'ハカイ', 'スル', 'ツクス', 'ウミノオヤ', 'プロフェッサーランドウ', 'チカラ', 'ニッポン', 'モノ', 'ミセツケル', 'ヤル', '號今', 'アタリ', 'シンイチ', 'トウキョウ', 'ハイル', 'ソウトウ', 'アバレル', '剴', 'ヒドイ', 'モノ', 'ミエル', 'シンイチ', 'エンジョウ', 'スル', 'イル', 'ソラ', '號', 'オリル', 'タテル', 'ジュンビ', 'スル', 'オク', 'リョウカイ', 'シンイチ', '剴', 'ボウエイ', 'アズカル', 'イル', 'バトル', 'ヘリ', 'ブキ', 'アル', 'ソウコウ', 'スベテ', 'G', 'コウセキ', 'カイゾウ', 'スル', 'アル', 'ワケ', 'ナイ', 'コト', 'ゼッタイ', 'ワスレル', '剴', 'イジョウ', 'カッテ', 'マネ', 'スル', 'ヒメイ', 'ケイサツ', 'シジ', 'シタガウ', 'ヒナン', 'スル', 'クダサル', 'ドライバー', 'ミナ', 'クルマ', 'ミチ', 'カタガワ', 'ホウチ', 'スル', 'タダチニ', 'ヒナン', 'スル', 'クダサル', 'バクハツ', 'オン', 'ナカ', 'ウツ', 'テ', 'カギル', 'クル', 'スル', 'ワカル', 'ツタエル', 'ゴザル', 'チョウカン', 'ゲッター', 'ロボ', 'カマ', 'ナイ', 'ゲンバ', 'トウチャク', 'スル', 'ソウ', 'ゲッター', 'ロボ', 'オチツク', 'オチツク', 'G', 'コウセキ', 'デキル', 'イル', 'シンズル', 'シンイチ', 'メタル', 'ビースト', 'ハッケン', 'ススム', 'クル', 'トオリ', 'オリル', 'リョウカイ', 'イチ', '號號', 'ジョウダン', 'ジョウダン', 'シンイチ', '號', 'ヨイ', 'キク', 'ヤツ', 'メ', 'デキル', 'カギリ', 'ホウ', 'ヒキツケル', 'ヤツ', 'ブキ', 'ウデ', 'シュホウ', 'スキ', 'ミル', 'ツカウ', 'スル', 'オーケー', '號', '號', 'ソウコウ', 'ドウ', 'ナル', 'ミル', 'トコロ', 'ムキズ', 'ビクト', 'スル', 'コト', 'サイショ', 'ワカル', 'ハズ', 'ヨイ', '剴俺', 'ヤクメ', 'ゲッター', 'ロボ', 'セッキン', 'チャンス', 'アタエル', 'コト', 'ウワ', 'イク', 'ウワ', 'ミル', 'ワンイテテ', 'ニャー', 'イマ', 'ウッウワッウッ', '號', 'ウゴキ', 'トメル', 'ヤル', 'シンイチ', '號胸', 'ネラウ', '號胸', 'シンイチ', 'トドメ', 'サス', 'シレル', 'コンテナ', 'オトス', 'クル', 'クレル', 'リョウカイ', 'クタバル', 'ウッウウウッ', 'バクハツ', 'オン', 'ナニモノ', 'ヤシャ', 'ヤツザキ', 'スル', 'ヤル', 'ヤシャ', 'アニ', 'マツ', 'プロフェッサーランドウ', 'シジ', 'アオグ', 'ググ', 'チチ', 'ナキゴエ', 'ドウ', 'スル', 'ワンドクタータマ', 'テシオ', 'カケル', 'ゲッター', 'ロボ', 'ニッポン', 'スクウ', 'ナク', 'イル', 'ニャードクターポチ', 'オトコ', 'ワン', 'ツキアウ', 'ヤル', 'ワン', 'ナキゴエ', '號', 'ヨイ', 'ヤル', 'ウデ', 'ソンケイ', 'スル', 'ゲッター', 'ロボ', 'オカゲ', 'セカイ', 'セイフク', 'ユメ', 'タツ', 'ラン', 'ターゲット', 'ネイザー', 'キチ', 'シボリコム', 'イマ', 'ゲッター', 'ロボ', 'カチメ', 'ナイ', 'トキ', 'シンイチ', 'ノル', 'バトル', 'ヘリ', 'ステミ', 'コウゲキ', 'カイシ', 'スル', 'ジカイ', 'ゲッター', 'ロボ', '號', 'バトル', 'ヘリ', 'コウボウ', 'チェンジ', 'ゲッター', '號']\n"
     ]
    },
    {
     "data": {
      "image/png": "[encoded data removed]",
      "text/plain": [
       "<Figure size 432x288 with 1 Axes>"
      ]
     },
     "metadata": {
      "needs_background": "light"
     },
     "output_type": "display_data"
    }
   ],
   "source": [
    "import sys\n",
    "import MeCab\n",
    "import neologdn\n",
    "from nltk.probability import FreqDist\n",
    "from matplotlib import rcParams\n",
    "rcParams[\"font.family\"] = 'sans-serif'\n",
    "\n",
    "CONTENT_WORD_POS = (\"名詞\", \"動詞\", \"形容詞\", \"副詞\", \"未知語\")\n",
    "IGNORE = (\"接尾\", \"非自立\", \"代名詞\")\n",
    "\n",
    "def is_content_word(feature):\n",
    "    return feature.startswith(CONTENT_WORD_POS) and all(f not in IGNORE for f in feature.split(\",\")[:6])\n",
    "\n",
    "sentence = \"\"\n",
    "file_path = \"C:\\\\Users\\\\sodud\\\\study\\\\ssafy_spec_pjt\\\\subtitle\\\\data\\\\refined_text\\\\\"\n",
    "text = open(file_path + \"Getter_Robot_Go_001.txt\", \"r\", encoding=\"UTF8\")\n",
    "for line in text:\n",
    "  sentence += line\n",
    "\n",
    "try:\n",
    "  # 품사 분석\n",
    "  tagger = MeCab.Tagger()\n",
    "  \n",
    "  # 기본 출력 결과\n",
    "  # print(tagger.parse(sentence))\n",
    "  \n",
    "  sentence = neologdn.normalize(sentence,repeat = 2)\n",
    "  sentence = \"\".join([i for i in sentence if i.isalpha() or i.isspace()])\n",
    "  result = tagger.parseToNode(sentence)\n",
    "  \n",
    "  stop_words = []\n",
    "  with open(\"stop_words_japanese.txt\", \"r\", encoding=\"UTF8\") as f :\n",
    "    lines = f.readlines()\n",
    "    stop_words = [stop_word.strip() for stop_word in lines]\n",
    "    \n",
    "  content_words = []\n",
    "  \n",
    "  while result:\n",
    "    if is_content_word(result.feature):\n",
    "      lemma = result.feature.split(\",\")[6] if len(result.feature.split(\",\")) > 6 and result.feature.split(\",\")[6] != \"*\" else result.surface\n",
    "      if lemma not in stop_words:\n",
    "        content_words.append((lemma))\n",
    "    result = result.next\n",
    "  \n",
    "  print(content_words)\n",
    "  \n",
    "  fdist = FreqDist(content_words)\n",
    "  fdist.plot(10, cumulative=False)\n",
    "  \n",
    "  # m = tagger.parseToNode(sentence)\n",
    "  # while m:\n",
    "  #   print(m.surface, \"\\t\", m.feature)\n",
    "  #   m = m.next\n",
    "  # print(\"EOS\")\n",
    "\n",
    "  # 일본어 사전 정보 출력\n",
    "  # d = tagger.dictionary_info()\n",
    "  # while d:\n",
    "  #   print(\"filename: %s\" % d.filename)\n",
    "  #   print(\"charset: %s\" %  d.charset)\n",
    "  #   print(\"size: %d\" %  d.size)\n",
    "  #   print(\"type: %d\" %  d.type)\n",
    "  #   print(\"lsize: %d\" %  d.lsize)\n",
    "  #   print(\"rsize: %d\" %  d.rsize)\n",
    "  #   print(\"version: %d\" %  d.version)\n",
    "  #   d = d.next\n",
    "\n",
    "\n",
    "except RuntimeError as e:\n",
    "    print(\"RuntimeError:\", e)"
   ]
  },
  {
   "cell_type": "code",
   "execution_count": 43,
   "metadata": {},
   "outputs": [
    {
     "ename": "ModuleNotFoundError",
     "evalue": "No module named 'natto'",
     "output_type": "error",
     "traceback": [
      "\u001b[1;31m---------------------------------------------------------------------------\u001b[0m",
      "\u001b[1;31mModuleNotFoundError\u001b[0m                       Traceback (most recent call last)",
      "\u001b[1;32mc:\\Users\\sodud\\study\\ssafy_spec_pjt\\S07P22E104\\data\\subtitle\\analysis.ipynb 셀 7\u001b[0m in \u001b[0;36m<cell line: 17>\u001b[1;34m()\u001b[0m\n\u001b[0;32m     <a href='vscode-notebook-cell:/c%3A/Users/sodud/study/ssafy_spec_pjt/S07P22E104/data/subtitle/analysis.ipynb#W2sZmlsZQ%3D%3D?line=18'>19</a>\u001b[0m t \u001b[39m=\u001b[39m MeCab\u001b[39m.\u001b[39mTagger()\n\u001b[0;32m     <a href='vscode-notebook-cell:/c%3A/Users/sodud/study/ssafy_spec_pjt/S07P22E104/data/subtitle/analysis.ipynb#W2sZmlsZQ%3D%3D?line=20'>21</a>\u001b[0m \u001b[39m# 기본 출력 결과\u001b[39;00m\n\u001b[0;32m     <a href='vscode-notebook-cell:/c%3A/Users/sodud/study/ssafy_spec_pjt/S07P22E104/data/subtitle/analysis.ipynb#W2sZmlsZQ%3D%3D?line=21'>22</a>\u001b[0m \u001b[39m# print(t.parse(sentence))\u001b[39;00m\n\u001b[1;32m---> <a href='vscode-notebook-cell:/c%3A/Users/sodud/study/ssafy_spec_pjt/S07P22E104/data/subtitle/analysis.ipynb#W2sZmlsZQ%3D%3D?line=22'>23</a>\u001b[0m tokenizer \u001b[39m=\u001b[39m WordTokenizer(\u001b[39m'\u001b[39;49m\u001b[39mMeCab\u001b[39;49m\u001b[39m'\u001b[39;49m)\n\u001b[0;32m     <a href='vscode-notebook-cell:/c%3A/Users/sodud/study/ssafy_spec_pjt/S07P22E104/data/subtitle/analysis.ipynb#W2sZmlsZQ%3D%3D?line=23'>24</a>\u001b[0m \u001b[39mprint\u001b[39m(tokenizer\u001b[39m.\u001b[39mtokenize(sentence))\n\u001b[0;32m     <a href='vscode-notebook-cell:/c%3A/Users/sodud/study/ssafy_spec_pjt/S07P22E104/data/subtitle/analysis.ipynb#W2sZmlsZQ%3D%3D?line=25'>26</a>\u001b[0m m \u001b[39m=\u001b[39m t\u001b[39m.\u001b[39mparseToNode(sentence)\n",
      "File \u001b[1;32mc:\\software\\Anaconda3\\lib\\site-packages\\konoha\\word_tokenizer.py:44\u001b[0m, in \u001b[0;36mWordTokenizer.__init__\u001b[1;34m(self, tokenizer, user_dictionary_path, system_dictionary_path, model_path, mode, dictionary_format, endpoint, ssl, port)\u001b[0m\n\u001b[0;32m     41\u001b[0m \u001b[39mself\u001b[39m\u001b[39m.\u001b[39m_port \u001b[39m=\u001b[39m port\n\u001b[0;32m     43\u001b[0m \u001b[39mif\u001b[39;00m \u001b[39mnot\u001b[39;00m \u001b[39misinstance\u001b[39m(endpoint, \u001b[39mstr\u001b[39m):\n\u001b[1;32m---> 44\u001b[0m     \u001b[39mself\u001b[39;49m\u001b[39m.\u001b[39;49m_setup_tokenizer()\n",
      "File \u001b[1;32mc:\\software\\Anaconda3\\lib\\site-packages\\konoha\\word_tokenizer.py:63\u001b[0m, in \u001b[0;36mWordTokenizer._setup_tokenizer\u001b[1;34m(self)\u001b[0m\n\u001b[0;32m     60\u001b[0m     \u001b[39mself\u001b[39m\u001b[39m.\u001b[39m_tokenizer \u001b[39m=\u001b[39m word_tokenizers\u001b[39m.\u001b[39mSentencepieceTokenizer(model_path\u001b[39m=\u001b[39m\u001b[39mself\u001b[39m\u001b[39m.\u001b[39m_model_path)\n\u001b[0;32m     62\u001b[0m \u001b[39mif\u001b[39;00m \u001b[39mself\u001b[39m\u001b[39m.\u001b[39m_tokenizer_name \u001b[39m==\u001b[39m \u001b[39m\"\u001b[39m\u001b[39mmecab\u001b[39m\u001b[39m\"\u001b[39m:\n\u001b[1;32m---> 63\u001b[0m     \u001b[39mself\u001b[39m\u001b[39m.\u001b[39m_tokenizer \u001b[39m=\u001b[39m word_tokenizers\u001b[39m.\u001b[39;49mMeCabTokenizer(\n\u001b[0;32m     64\u001b[0m         user_dictionary_path\u001b[39m=\u001b[39;49m\u001b[39mself\u001b[39;49m\u001b[39m.\u001b[39;49m_user_dictionary_path,\n\u001b[0;32m     65\u001b[0m         system_dictionary_path\u001b[39m=\u001b[39;49m\u001b[39mself\u001b[39;49m\u001b[39m.\u001b[39;49m_system_dictionary_path,\n\u001b[0;32m     66\u001b[0m         dictionary_format\u001b[39m=\u001b[39;49m\u001b[39mself\u001b[39;49m\u001b[39m.\u001b[39;49m_dictionary_format,\n\u001b[0;32m     67\u001b[0m     )\n\u001b[0;32m     69\u001b[0m \u001b[39mif\u001b[39;00m \u001b[39mself\u001b[39m\u001b[39m.\u001b[39m_tokenizer_name \u001b[39m==\u001b[39m \u001b[39m\"\u001b[39m\u001b[39mjanome\u001b[39m\u001b[39m\"\u001b[39m:\n\u001b[0;32m     70\u001b[0m     \u001b[39mself\u001b[39m\u001b[39m.\u001b[39m_tokenizer \u001b[39m=\u001b[39m word_tokenizers\u001b[39m.\u001b[39mJanomeTokenizer(user_dictionary_path\u001b[39m=\u001b[39m\u001b[39mself\u001b[39m\u001b[39m.\u001b[39m_user_dictionary_path)\n",
      "File \u001b[1;32mc:\\software\\Anaconda3\\lib\\site-packages\\konoha\\word_tokenizers\\mecab_tokenizer.py:76\u001b[0m, in \u001b[0;36mMeCabTokenizer.__init__\u001b[1;34m(self, user_dictionary_path, system_dictionary_path, dictionary_format)\u001b[0m\n\u001b[0;32m     70\u001b[0m \u001b[39mdef\u001b[39;00m \u001b[39m__init__\u001b[39m(\n\u001b[0;32m     71\u001b[0m     \u001b[39mself\u001b[39m,\n\u001b[0;32m     72\u001b[0m     user_dictionary_path: Optional[\u001b[39mstr\u001b[39m] \u001b[39m=\u001b[39m \u001b[39mNone\u001b[39;00m,\n\u001b[0;32m     73\u001b[0m     system_dictionary_path: Optional[\u001b[39mstr\u001b[39m] \u001b[39m=\u001b[39m \u001b[39mNone\u001b[39;00m,\n\u001b[0;32m     74\u001b[0m     dictionary_format: Optional[\u001b[39mstr\u001b[39m] \u001b[39m=\u001b[39m \u001b[39mNone\u001b[39;00m,\n\u001b[0;32m     75\u001b[0m ) \u001b[39m-\u001b[39m\u001b[39m>\u001b[39m \u001b[39mNone\u001b[39;00m:\n\u001b[1;32m---> 76\u001b[0m     \u001b[39mfrom\u001b[39;00m \u001b[39mnatto\u001b[39;00m \u001b[39mimport\u001b[39;00m MeCab\n\u001b[0;32m     77\u001b[0m     \u001b[39msuper\u001b[39m()\u001b[39m.\u001b[39m\u001b[39m__init__\u001b[39m(name\u001b[39m=\u001b[39m\u001b[39m\"\u001b[39m\u001b[39mmecab\u001b[39m\u001b[39m\"\u001b[39m)\n\u001b[0;32m     78\u001b[0m     options \u001b[39m=\u001b[39m []\n",
      "\u001b[1;31mModuleNotFoundError\u001b[0m: No module named 'natto'"
     ]
    }
   ],
   "source": [
    "import MeCab\n",
    "\n",
    "sentence = \"\"\n",
    "file_path = \"C:\\\\Users\\\\sodud\\\\study\\\\ssafy_spec_pjt\\\\subtitle\\\\data\\\\refined_text\\\\\"\n",
    "text = open(file_path + \"Getter_Robot_Go_001.txt\", \"r\", encoding=\"UTF8\")\n",
    "for line in text:\n",
    "  sentence += line\n",
    "\n",
    "try:\n",
    "  # 품사 분석\n",
    "  t = MeCab.Tagger()\n",
    "  \n",
    "  # 기본 출력 결과\n",
    "  # print(t.parse(sentence))\n",
    "\n",
    "  m = t.parseToNode(sentence)\n",
    "  # while m:\n",
    "  #   print(m.surface, \"\\t\", m.feature)\n",
    "  #   m = m.next\n",
    "  # print(\"EOS\")\n",
    "\n",
    "  # 일본어 사전 정보 출력\n",
    "  d = t.dictionary_info()\n",
    "  while d:\n",
    "    print(\"filename: %s\" % d.filename)\n",
    "    print(\"charset: %s\" %  d.charset)\n",
    "    print(\"size: %d\" %  d.size)\n",
    "    print(\"type: %d\" %  d.type)\n",
    "    print(\"lsize: %d\" %  d.lsize)\n",
    "    print(\"rsize: %d\" %  d.rsize)\n",
    "    print(\"version: %d\" %  d.version)\n",
    "    d = d.next\n",
    "\n",
    "\n",
    "except RuntimeError as e:\n",
    "    print(\"RuntimeError:\", e)"
   ]
  }
 ],
 "metadata": {
  "kernelspec": {
   "display_name": "Python 3.9.12 ('base')",
   "language": "python",
   "name": "python3"
  },
  "language_info": {
   "codemirror_mode": {
    "name": "ipython",
    "version": 3
   },
   "file_extension": ".py",
   "mimetype": "text/x-python",
   "name": "python",
   "nbconvert_exporter": "python",
   "pygments_lexer": "ipython3",
   "version": "3.9.12"
  },
  "orig_nbformat": 4,
  "vscode": {
   "interpreter": {
    "hash": "eebaf1173d8d9c3c4ee9a7b8bb1432a7f576348d6cb7a26bc263375fbc310797"
   }
  }
 },
 "nbformat": 4,
 "nbformat_minor": 2
}
