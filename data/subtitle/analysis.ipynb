{
 "cells": [
  {
   "cell_type": "markdown",
   "metadata": {},
   "source": [
    "# 📌 형태소 분석"
   ]
  },
  {
   "cell_type": "code",
   "execution_count": null,
   "metadata": {},
   "outputs": [],
   "source": [
    "import os\n",
    "\n",
    "# 파일 읽기\n",
    "def read_txt_file(file_name):\n",
    "  print(\"[파일명] \" + file_name)\n",
    "  text = \"\"\n",
    "  \n",
    "  # 파일 열기\n",
    "  with open(file_path + file_name, \"r\", encoding=\"UTF8\") as txt_file:\n",
    "    # 파일 라인별로 텍스트만 추출\n",
    "    for line in txt_file:\n",
    "      line = line.strip()\n",
    "      text += line\n",
    "  return text\n",
    "\n",
    "file_path = \"C:\\\\Users\\\\sodud\\\\study\\\\ssafy_spec_pjt\\\\subtitle\\\\data\\\\refined_text\\\\\"\n",
    "\n",
    "# 자막 파일 폴더\n",
    "file_list = os.listdir(file_path)\n",
    "\n",
    "# 자막 파일 목록\n",
    "txt_files = [txt_file for txt_files in file_list]\n",
    "\n",
    "for txt_file in txt_files:\n",
    "  read_txt_file(txt_file)"
   ]
  },
  {
   "cell_type": "code",
   "execution_count": null,
   "metadata": {},
   "outputs": [],
   "source": [
    "import MeCab\n",
    "\n",
    "# 품사 분석\n",
    "m = MeCab.Tagger()\n",
    "\n",
    "sentence = \"\"\n",
    "text = open(file_path + \"Getter_Robot_Go_001.txt\", \"r\", encoding=\"UTF8\")\n",
    "for line in text:\n",
    "  sentence += line\n",
    "\n",
    "# 기본 출력 결과\n",
    "print(m.parse(sentence))"
   ]
  }
 ],
 "metadata": {
  "kernelspec": {
   "display_name": "Python 3.9.12 ('base')",
   "language": "python",
   "name": "python3"
  },
  "language_info": {
   "codemirror_mode": {
    "name": "ipython",
    "version": 3
   },
   "file_extension": ".py",
   "mimetype": "text/x-python",
   "name": "python",
   "nbconvert_exporter": "python",
   "pygments_lexer": "ipython3",
   "version": "3.9.12"
  },
  "orig_nbformat": 4,
  "vscode": {
   "interpreter": {
    "hash": "ad2bdc8ecc057115af97d19610ffacc2b4e99fae6737bb82f5d7fb13d2f2c186"
   }
  }
 },
 "nbformat": 4,
 "nbformat_minor": 2
}
