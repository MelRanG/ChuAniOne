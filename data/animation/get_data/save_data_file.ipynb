{
 "cells": [
  {
   "cell_type": "markdown",
   "id": "7ae84de3",
   "metadata": {},
   "source": [
    "# 📌 데이터 프레임을 CSV로 저장"
   ]
  },
  {
   "cell_type": "code",
   "execution_count": null,
   "id": "6ad68ffc",
   "metadata": {},
   "outputs": [],
   "source": [
    "import dotenv\n",
    "import os\n",
    "import pymongo\n",
    "import pandas as pd"
   ]
  },
  {
   "cell_type": "code",
   "execution_count": null,
   "id": "3745b62a",
   "metadata": {},
   "outputs": [],
   "source": [
    "# 환경변수 불러오기\n",
    "dotenv.load_dotenv(dotenv.find_dotenv())\n",
    "USER = os.environ[\"MONGODB_USER\"] # MongoDB user\n",
    "PASSWORD = os.environ[\"MONGODB_PW\"] # MongoDB password\n",
    "PORT = int(os.environ[\"MONGODB_PORT\"]) # MongoDB port\n",
    "\n",
    "# DB 연결\n",
    "# conn = pymongo.MongoClient(\"localhost\", 27017)\n",
    "conn = pymongo.MongoClient(\"mongodb://\" + USER + \":\" + PASSWORD + \"@j7e104.p.ssafy.io\", PORT)\n",
    "db = conn.animation\n",
    "dbcol_detail = db.ani_detail\n",
    "\n",
    "df = pd.DataFrame(dbcol_detail.find({}, {\"id\": 1, \"air_year_quarter\": 1, \"author\": 1, \"avg_rating\": 1, \"content\": 1, \"content_rating\": 1, \"distributed_air_time\": 1, \"genres\": 1, \"highlight_video.dash_url\": 1, \"images\": 1, \"is_adult\": 1, \"is_ending\": 1, \"name\": 1, \"production\": 1, \"series_id\": 1, \"tags\": 1}))\n",
    "df = df[[\"id\", \"air_year_quarter\", \"author\", \"avg_rating\", \"content\", \"content_rating\", \"distributed_air_time\", \"genres\", \"highlight_video\", \"images\", \"is_adult\", \"is_ending\", \"name\", \"production\", \"series_id\", \"tags\"]]\n",
    "df"
   ]
  },
  {
   "cell_type": "code",
   "execution_count": null,
   "id": "5431e3cc",
   "metadata": {},
   "outputs": [],
   "source": [
    "# 해당 폴더로 이동\n",
    "os.chdir(os.getcwd())"
   ]
  },
  {
   "cell_type": "code",
   "execution_count": null,
   "id": "504f03ee",
   "metadata": {},
   "outputs": [],
   "source": [
    "# csv 저장\n",
    "df.to_csv(\"ani_detail.csv\", index=False)"
   ]
  },
  {
   "cell_type": "code",
   "execution_count": null,
   "id": "db46553b",
   "metadata": {},
   "outputs": [],
   "source": [
    "df_1 = pd.read_csv('ani_detail.csv')\n",
    "df_1"
   ]
  },
  {
   "cell_type": "code",
   "execution_count": null,
   "id": "918d09b9",
   "metadata": {},
   "outputs": [],
   "source": [
    "# json  저장\n",
    "df.to_json('ani_detail.json', orient = 'records', indent = 4)"
   ]
  },
  {
   "cell_type": "code",
   "execution_count": null,
   "id": "03bee1f5",
   "metadata": {},
   "outputs": [],
   "source": [
    "# json 2 df\n",
    "df_2 = pd.read_json('ani_detail.json', orient = 'records')\n",
    "df_2"
   ]
  }
 ],
 "metadata": {
  "kernelspec": {
   "display_name": "Python 3 (ipykernel)",
   "language": "python",
   "name": "python3"
  },
  "language_info": {
   "codemirror_mode": {
    "name": "ipython",
    "version": 3
   },
   "file_extension": ".py",
   "mimetype": "text/x-python",
   "name": "python",
   "nbconvert_exporter": "python",
   "pygments_lexer": "ipython3",
   "version": "3.9.12"
  }
 },
 "nbformat": 4,
 "nbformat_minor": 5
}
