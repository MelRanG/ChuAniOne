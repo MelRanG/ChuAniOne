{
 "cells": [
  {
   "cell_type": "markdown",
   "id": "e90715f7",
   "metadata": {},
   "source": [
    "#  📌 협업 필터링 애니메이션 추천(SVD)"
   ]
  },
  {
   "cell_type": "markdown",
   "id": "7c10088b",
   "metadata": {},
   "source": [
    "### ✏️ DB 연결"
   ]
  },
  {
   "cell_type": "code",
   "execution_count": 1,
   "id": "613f6d17",
   "metadata": {},
   "outputs": [],
   "source": [
    "import dotenv\n",
    "import os\n",
    "from pymongo import MongoClient\n",
    "\n",
    "# 환경변수 불러오기\n",
    "dotenv.load_dotenv(dotenv.find_dotenv())\n",
    "USER = os.environ[\"MONGODB_USER\"] # MongoDB user\n",
    "PASSWORD = os.environ[\"MONGODB_PW\"] # MongoDB password\n",
    "PORT = int(os.environ[\"MONGODB_PORT\"]) # MongoDB port\n",
    "\n",
    "# DB 연결\n",
    "client = MongoClient(\"mongodb://\" + USER + \":\" + PASSWORD + \"@j7e104.p.ssafy.io\", PORT)\n",
    "\n",
    "db = client.animation\n",
    "dbcol_detail = db.ani_info\n",
    "dbcol_review = db.review"
   ]
  },
  {
   "cell_type": "markdown",
   "id": "0e1fa759",
   "metadata": {},
   "source": [
    "### ✏️ import"
   ]
  },
  {
   "cell_type": "code",
   "execution_count": 2,
   "id": "620d1e6b",
   "metadata": {},
   "outputs": [],
   "source": [
    "import pandas as pd\n",
    "import numpy as np\n",
    "from scipy.sparse.linalg import svds"
   ]
  },
  {
   "cell_type": "markdown",
   "id": "631118d6",
   "metadata": {},
   "source": [
    "### ✏️ DataFrame 가져오고 columns 수정"
   ]
  },
  {
   "cell_type": "code",
   "execution_count": 3,
   "id": "ef5441d0",
   "metadata": {},
   "outputs": [],
   "source": [
    "# 애니 정보 불러오기\n",
    "ani_df = pd.DataFrame(dbcol_detail.find({},{\"id\":1, \"name\":1, \"series_id\":1}))\n",
    "ani_df.drop('_id', axis = 1, inplace = True)\n",
    "ani_df.columns = [\"ani_id\", \"ani_name\", \"series_id\"]\n",
    "# ani_df"
   ]
  },
  {
   "cell_type": "code",
   "execution_count": 4,
   "id": "7fb2cd5f",
   "metadata": {},
   "outputs": [],
   "source": [
    "# 평가 데이터 불러오기\n",
    "profile = list(dbcol_review.find({}))\n",
    "rating_df = pd.DataFrame(profile)\n",
    "rating_df = rating_df[[\"profile\", \"animation\", \"score\"]]\n",
    "rating_df.columns = [\"user_id\", \"ani_id\", \"score\"]\n",
    "# rating_df = rating_df.sort_values('user_id')\n",
    "# rating_df"
   ]
  },
  {
   "cell_type": "markdown",
   "id": "66483bdf",
   "metadata": {},
   "source": [
    "### ✏️ Matrix로 변경"
   ]
  },
  {
   "cell_type": "code",
   "execution_count": 5,
   "id": "668301ae",
   "metadata": {},
   "outputs": [],
   "source": [
    "# 사용자 - 애니 pivot table 생성\n",
    "user_ani_ratings_df = rating_df.pivot(\n",
    "    index='user_id',\n",
    "    columns='ani_id',\n",
    "    values='score'\n",
    ").fillna(0)\n",
    "# user_ani_ratings_df"
   ]
  },
  {
   "cell_type": "code",
   "execution_count": 6,
   "id": "c397c7de",
   "metadata": {},
   "outputs": [],
   "source": [
    "# matrix는 pivot_table 값을 numpy matrix로 만든 것 \n",
    "matrix = user_ani_ratings_df.values\n",
    "\n",
    "# user_ratings_mean은 사용자의 평균 평점 \n",
    "user_ratings_mean = np.mean(matrix, axis = 1)\n",
    "\n",
    "# R_user_mean : 사용자-애니에 대해 사용자 평균 평점을 뺀 것.\n",
    "matrix_user_mean = matrix - user_ratings_mean.reshape(-1, 1)\n",
    "\n",
    "# matrix\n",
    "# matrix.shape #(91423, 4586)\n",
    "# user_ratings_mean.shape #(91423,)\n",
    "# matrix_user_mean.shape #(91423, 4586)\n",
    "# pd.DataFrame(matrix_user_mean, index = user_ani_ratings_df.index, columns = user_ani_ratings_df.columns).head()"
   ]
  },
  {
   "cell_type": "markdown",
   "id": "c0449d54",
   "metadata": {},
   "source": [
    "여기까지 진행하며 사용자가 애니에 대해 남긴 평점을 변경"
   ]
  },
  {
   "cell_type": "markdown",
   "id": "a65f92fe",
   "metadata": {},
   "source": [
    "### ✏️ SVD를 이용해 Matrix Factorization\n",
    "- spicy를 이용해서 Truncated SVD를 구하기\n",
    "- scikit learn에서 제공하는 Truncated SVD는 U, Sigma, Vt 반환 값을 제공x\n",
    "- spicy에서 제공하는 TruncatedSVD는 scipy.sparse.linalg.svds를 이용하면 제공o"
   ]
  },
  {
   "cell_type": "code",
   "execution_count": 7,
   "id": "7cfdd28b",
   "metadata": {},
   "outputs": [],
   "source": [
    "# scipy에서 제공해주는 svd.  \n",
    "# U 행렬, sigma 행렬, V 전치 행렬을 반환.\n",
    "\n",
    "U, sigma, Vt = svds(matrix_user_mean, k = 12)\n",
    "# print(U.shape) #(91423, 12)\n",
    "# print(sigma.shape) #(12,)\n",
    "# print(Vt.shape) #(12, 4586)"
   ]
  },
  {
   "cell_type": "code",
   "execution_count": 8,
   "id": "96726d4e",
   "metadata": {},
   "outputs": [],
   "source": [
    "# 위는 0이 아닌 값만 포함되었기에 0이 포함된 대칭행렬로 diag를 이용해 변환\n",
    "sigma = np.diag(sigma)\n",
    "# sigma.shape #(12, 12)\n",
    "# sigma[0]\n",
    "# sigma[1]"
   ]
  },
  {
   "cell_type": "code",
   "execution_count": 9,
   "id": "a23c8423",
   "metadata": {},
   "outputs": [],
   "source": [
    "# U, Sigma, Vt의 내적을 수행하면, 다시 원본 행렬로 복원이 된다. \n",
    "# 거기에 아까 평균을 빼었으니 다시 사용자 평균 rating 더한다. \n",
    "svd_user_predicted_ratings = np.dot(np.dot(U, sigma), Vt) + user_ratings_mean.reshape(-1, 1)\n",
    "df_svd_preds = pd.DataFrame(svd_user_predicted_ratings, index = user_ani_ratings_df.index, columns = user_ani_ratings_df.columns)\n",
    "# df_svd_preds.head()\n",
    "# df_svd_preds.shape #(91423, 4586)\n",
    "# df_svd_preds.loc[15].sort_values(ascending=False)"
   ]
  },
  {
   "cell_type": "markdown",
   "id": "bbcda354",
   "metadata": {},
   "source": [
    "### ✏️ SVD를 활용한 애니메이션 추천\n",
    "- 사용자 아이디에 SVD로 나온 결과의 애니 평점이 가장 높은 데이터 순으로 정렬\n",
    "- 사용자가 본 애니를 제외\n",
    "- 사용자가 안 본 애니에서 평점이 높은 것을 반환\n",
    "- 같은 시리즈인 것이 이미 추천되었다면 추가 안 함\n",
    "- 30개의 애니메이션 아이디를 반환"
   ]
  },
  {
   "cell_type": "code",
   "execution_count": 10,
   "id": "9f0f5802",
   "metadata": {},
   "outputs": [],
   "source": [
    "id_to_idx = dict(zip(ani_df[\"ani_id\"], ani_df.index))\n",
    "idx_to_series = dict(zip(ani_df.index, ani_df[\"series_id\"]))\n",
    "id_to_series = dict(zip(ani_df[\"ani_id\"], ani_df[\"series_id\"]))"
   ]
  },
  {
   "cell_type": "code",
   "execution_count": 11,
   "id": "c6fcbdf1",
   "metadata": {},
   "outputs": [],
   "source": [
    "def recommend_ani(df_svd_preds, userId, ori_ani_df, ori_score_df):\n",
    "    \n",
    "    # 최종적으로 만든 pred_df에서 사용자 index에 따라 애니 데이터 정렬 -> 애니 평점이 높은 순으로 정렬 됌\n",
    "    sorted_user_predictions = df_svd_preds.loc[userId].sort_values(ascending=False)\n",
    "    \n",
    "    # 원본 평점 데이터에서 user id에 해당하는 데이터를 뽑아낸다. \n",
    "    user_data = ori_score_df[ori_score_df.user_id == userId]\n",
    "    \n",
    "    # 위에서 뽑은 user_data와 원본 애니 데이터를 합친다. \n",
    "    user_history = user_data.merge(ori_ani_df, on = 'ani_id').sort_values(['score'], ascending=False)\n",
    "    \n",
    "    # 원본 애니 데이터에서 사용자가 본 애니 데이터를 제외한 데이터를 추출\n",
    "    recommendations = ori_ani_df[~ori_ani_df['ani_id'].isin(user_history['ani_id'])]\n",
    "    \n",
    "    # 사용자의 애니 평점이 높은 순으로 정렬된 데이터와 위 recommendations을 합친다. \n",
    "    recommendations = recommendations.merge(pd.DataFrame(sorted_user_predictions).reset_index(), on = 'ani_id')\n",
    "    \n",
    "    # 컬럼 이름 바꾸고 정렬해서 return\n",
    "    recommendation_list = list(recommendations.sort_values(userId, ascending = False)['ani_id'])\n",
    "\n",
    "    # 추천 애니메이션 저장 리스트\n",
    "    recommendation = []\n",
    "    \n",
    "    # 시리즈 저장 리스트\n",
    "    series_list = []\n",
    "    \n",
    "    for id in recommendation_list:\n",
    "        \n",
    "        # 선택한 애니메이션의 인덱스 가져옴\n",
    "        idx = id_to_idx[id]\n",
    "\n",
    "        # 해당 인덱스의 시리즈 아이디 가져옴\n",
    "        series = idx_to_series[idx]\n",
    "        \n",
    "        # 시리즈가 미리 추가되어 있다면 결과에 추가하지 않음\n",
    "        if series not in series_list:\n",
    "            recommendation.append(id)\n",
    "            if np.isnan(series) == False:\n",
    "                series_list.append(series)\n",
    "        \n",
    "        # 30개가 추천되면 종료\n",
    "        if len(recommendation) == 30:\n",
    "            return recommendation"
   ]
  },
  {
   "cell_type": "code",
   "execution_count": 12,
   "id": "dfde0ba1",
   "metadata": {},
   "outputs": [],
   "source": [
    "input_user_id = 4523846"
   ]
  },
  {
   "cell_type": "code",
   "execution_count": 13,
   "id": "a1b2dd80",
   "metadata": {},
   "outputs": [],
   "source": [
    "recommendation_list = recommend_ani(df_svd_preds, input_user_id, ani_df, rating_df)\n",
    "# recommendation_list"
   ]
  },
  {
   "cell_type": "code",
   "execution_count": 14,
   "id": "c513d761",
   "metadata": {},
   "outputs": [
    {
     "data": {
      "text/plain": [
       "[40085,\n",
       " 40630,\n",
       " 40510,\n",
       " 39070,\n",
       " 23661,\n",
       " 39081,\n",
       " 40794,\n",
       " 40153,\n",
       " 39992,\n",
       " 40163,\n",
       " 39985,\n",
       " 38921,\n",
       " 40159,\n",
       " 40790,\n",
       " 40829,\n",
       " 39856,\n",
       " 39745,\n",
       " 40276,\n",
       " 40394,\n",
       " 40272,\n",
       " 39648,\n",
       " 40682,\n",
       " 40266,\n",
       " 39847,\n",
       " 40533,\n",
       " 40261,\n",
       " 40692,\n",
       " 40693,\n",
       " 39731,\n",
       " 40181]"
      ]
     },
     "execution_count": 14,
     "metadata": {},
     "output_type": "execute_result"
    }
   ],
   "source": [
    "recommendation_list"
   ]
  },
  {
   "cell_type": "markdown",
   "id": "76e5f211",
   "metadata": {},
   "source": [
    "### ✏️ 참고\n",
    "\n",
    "##### 이미 본 애니들과 추천 애니들을 보기 위한 코드\n",
    "```python\n",
    "def recommend_ani(df_svd_preds, userId, ori_ani_df, ori_score_df, num_recommendations):\n",
    "    \n",
    "    # 최종적으로 만든 pred_df에서 사용자 index에 따라 애니 데이터 정렬 -> 애니 평점이 높은 순으로 정렬 됌\n",
    "    sorted_user_predictions = df_svd_preds.loc[userId].sort_values(ascending=False)\n",
    "    \n",
    "    # 원본 평점 데이터에서 user id에 해당하는 데이터를 뽑아낸다. \n",
    "    user_data = ori_score_df[ori_score_df.user_id == userId]\n",
    "    \n",
    "    # 위에서 뽑은 user_data와 원본 애니 데이터를 합친다. \n",
    "    user_history = user_data.merge(ori_ani_df, on = 'ani_id').sort_values(['score'], ascending=False)\n",
    "    \n",
    "    # 원본 애니 데이터에서 사용자가 본 애니 데이터를 제외한 데이터를 추출\n",
    "    recommendations = ori_ani_df[~ori_ani_df['ani_id'].isin(user_history['ani_id'])]\n",
    "    \n",
    "    # 사용자의 애니 평점이 높은 순으로 정렬된 데이터와 위 recommendations을 합친다. \n",
    "    recommendations = recommendations.merge( pd.DataFrame(sorted_user_predictions).reset_index(), on = 'ani_id')\n",
    "    \n",
    "    # 컬럼 이름 바꾸고 정렬해서 return\n",
    "    recommendations = recommendations.rename(columns = {userId: 'Predictions'}).sort_values('Predictions', ascending = False).iloc[:num_recommendations, :]  \n",
    "\n",
    "    return return user_history, recommendations\n",
    "\n",
    "already_rated, predictions = recommend_ani(df_svd_preds, input_user_id, ani_df, rating_df, 30)\n",
    "print(already_rated)\n",
    "print(predictions)\n",
    "```\n",
    "#####  num_recommendations개를 추천받는 코드\n",
    "```python\n",
    "def recommend_ani(df_svd_preds, userId, ori_ani_df, ori_score_df, num_recommendations):\n",
    "    \n",
    "    # 최종적으로 만든 pred_df에서 사용자 index에 따라 애니 데이터 정렬 -> 애니 평점이 높은 순으로 정렬 됌\n",
    "    sorted_user_predictions = df_svd_preds.loc[userId].sort_values(ascending=False)\n",
    "    \n",
    "    # 원본 평점 데이터에서 user id에 해당하는 데이터를 뽑아낸다. \n",
    "    user_data = ori_score_df[ori_score_df.user_id == userId]\n",
    "    \n",
    "    # 위에서 뽑은 user_data와 원본 애니 데이터를 합친다. \n",
    "    user_history = user_data.merge(ori_ani_df, on = 'ani_id').sort_values(['score'], ascending=False)\n",
    "    \n",
    "    # 원본 애니 데이터에서 사용자가 본 애니 데이터를 제외한 데이터를 추출\n",
    "    recommendations = ori_ani_df[~ori_ani_df['ani_id'].isin(user_history['ani_id'])]\n",
    "    \n",
    "    # 사용자의 애니 평점이 높은 순으로 정렬된 데이터와 위 recommendations을 합친다. \n",
    "    recommendations = recommendations.merge( pd.DataFrame(sorted_user_predictions).reset_index(), on = 'ani_id')\n",
    "    \n",
    "    # 컬럼 이름 바꾸고 정렬해서 return\n",
    "    recommendation_list = list(recommendations.sort_values(userId, ascending = False)['ani_id'])[:num_recommendations]\n",
    "\n",
    "    return recommendation_list\n",
    "```\n",
    "##### 시리즈 체크 코드\n",
    "```python\n",
    "id_to_idx = dict(zip(ani_df[\"ani_id\"], ani_df.index))\n",
    "idx_to_series = dict(zip(ani_df.index, ani_df[\"series_id\"]))\n",
    "id_to_series = dict(zip(ani_df[\"ani_id\"], ani_df[\"series_id\"]))\n",
    "\n",
    "def series_check(recommendation_list):\n",
    "    # 추천 애니메이션 저장 리스트\n",
    "    recommendation = []\n",
    "    # 시리즈 저장 리스트\n",
    "    series_list = []\n",
    "    \n",
    "    for id in recommendation_list:\n",
    "        # 선택한 애니메이션의 인덱스 가져옴\n",
    "        idx = id_to_idx[id]\n",
    "\n",
    "        # 해당 인덱스의 시리즈 아이디 가져옴\n",
    "        series = idx_to_series[idx]\n",
    "        \n",
    "        if series not in series_list:\n",
    "            recommendation.append(id)\n",
    "            if np.isnan(series) == False:\n",
    "                series_list.append(series)\n",
    "\n",
    "    return recommendation\n",
    "```"
   ]
  },
  {
   "cell_type": "code",
   "execution_count": null,
   "id": "88fb0dc3",
   "metadata": {},
   "outputs": [],
   "source": []
  }
 ],
 "metadata": {
  "kernelspec": {
   "display_name": "Python 3 (ipykernel)",
   "language": "python",
   "name": "python3"
  },
  "language_info": {
   "codemirror_mode": {
    "name": "ipython",
    "version": 3
   },
   "file_extension": ".py",
   "mimetype": "text/x-python",
   "name": "python",
   "nbconvert_exporter": "python",
   "pygments_lexer": "ipython3",
   "version": "3.8.0"
  },
  "vscode": {
   "interpreter": {
    "hash": "eebaf1173d8d9c3c4ee9a7b8bb1432a7f576348d6cb7a26bc263375fbc310797"
   }
  }
 },
 "nbformat": 4,
 "nbformat_minor": 5
}
