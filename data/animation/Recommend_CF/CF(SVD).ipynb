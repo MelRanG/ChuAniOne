{
 "cells": [
  {
   "cell_type": "markdown",
   "id": "e90715f7",
   "metadata": {},
   "source": [
    "#  📌 협업 필터링 애니메이션 추천(SVD)"
   ]
  },
  {
   "cell_type": "markdown",
   "id": "7c10088b",
   "metadata": {},
   "source": [
    "### ✏️ DB 연결"
   ]
  },
  {
   "cell_type": "code",
   "execution_count": 26,
   "id": "613f6d17",
   "metadata": {},
   "outputs": [],
   "source": [
    "import dotenv\n",
    "import os\n",
    "from pymongo import MongoClient\n",
    "\n",
    "# 환경변수 불러오기\n",
    "dotenv.load_dotenv(dotenv.find_dotenv())\n",
    "USER = os.environ[\"MONGODB_USER\"] # MongoDB user\n",
    "PASSWORD = os.environ[\"MONGODB_PW\"] # MongoDB password\n",
    "PORT = int(os.environ[\"MONGODB_PORT\"]) # MongoDB port\n",
    "\n",
    "# DB 연결\n",
    "client = MongoClient(\"mongodb://\" + USER + \":\" + PASSWORD + \"@j7e104.p.ssafy.io\", PORT)\n",
    "\n",
    "db = client.animation\n",
    "dbcol_detail = db.ani_info\n",
    "dbcol_review = db.review"
   ]
  },
  {
   "cell_type": "markdown",
   "id": "0e1fa759",
   "metadata": {},
   "source": [
    "### ✏️ import"
   ]
  },
  {
   "cell_type": "code",
   "execution_count": 27,
   "id": "620d1e6b",
   "metadata": {},
   "outputs": [],
   "source": [
    "import pandas as pd\n",
    "import numpy as np\n",
    "from scipy.sparse.linalg import svds"
   ]
  },
  {
   "cell_type": "markdown",
   "id": "631118d6",
   "metadata": {},
   "source": [
    "### ✏️ DataFrame 가져오고 columns 수정"
   ]
  },
  {
   "cell_type": "code",
   "execution_count": 28,
   "id": "ef5441d0",
   "metadata": {},
   "outputs": [],
   "source": [
    "# 애니 정보 불러오기\n",
    "ani_df = pd.DataFrame(dbcol_detail.find({},{\"id\":1, \"name\":1, \"series_id\":1}))\n",
    "ani_df.drop('_id', axis = 1, inplace = True)\n",
    "ani_df.columns = [\"ani_id\", \"ani_name\", \"series_id\"]\n",
    "# ani_df"
   ]
  },
  {
   "cell_type": "code",
   "execution_count": 29,
   "id": "7fb2cd5f",
   "metadata": {},
   "outputs": [],
   "source": [
    "# 평가 데이터 불러오기\n",
    "profile = list(dbcol_review.find({}))\n",
    "rating_df = pd.DataFrame(profile)\n",
    "rating_df = rating_df[[\"profile\", \"animation\", \"score\"]]\n",
    "rating_df.columns = [\"user_id\", \"ani_id\", \"score\"]\n",
    "# rating_df = rating_df.sort_values('user_id')\n",
    "# rating_df"
   ]
  },
  {
   "cell_type": "markdown",
   "id": "66483bdf",
   "metadata": {},
   "source": [
    "### ✏️ Matrix로 변경"
   ]
  },
  {
   "cell_type": "code",
   "execution_count": 30,
   "id": "668301ae",
   "metadata": {},
   "outputs": [],
   "source": [
    "# 사용자 - 애니 pivot table 생성\n",
    "user_ani_ratings_df = rating_df.pivot(\n",
    "    index='user_id',\n",
    "    columns='ani_id',\n",
    "    values='score'\n",
    ").fillna(0)\n",
    "# user_ani_ratings_df"
   ]
  },
  {
   "cell_type": "code",
   "execution_count": 31,
   "id": "c397c7de",
   "metadata": {},
   "outputs": [],
   "source": [
    "# matrix는 pivot_table 값을 numpy matrix로 만든 것 \n",
    "matrix = user_ani_ratings_df.values\n",
    "\n",
    "# user_ratings_mean은 사용자의 평균 평점 \n",
    "user_ratings_mean = np.mean(matrix, axis = 1)\n",
    "\n",
    "# R_user_mean : 사용자-애니에 대해 사용자 평균 평점을 뺀 것.\n",
    "matrix_user_mean = matrix - user_ratings_mean.reshape(-1, 1)\n",
    "\n",
    "# matrix\n",
    "# matrix.shape #(91423, 4586)\n",
    "# user_ratings_mean.shape #(91423,)\n",
    "# matrix_user_mean.shape #(91423, 4586)\n",
    "# pd.DataFrame(matrix_user_mean, index = user_ani_ratings_df.index, columns = user_ani_ratings_df.columns).head()"
   ]
  },
  {
   "cell_type": "markdown",
   "id": "c0449d54",
   "metadata": {},
   "source": [
    "여기까지 진행하며 사용자가 애니에 대해 남긴 평점을 변경"
   ]
  },
  {
   "cell_type": "markdown",
   "id": "a65f92fe",
   "metadata": {},
   "source": [
    "### ✏️ SVD를 이용해 Matrix Factorization\n",
    "- spicy를 이용해서 Truncated SVD를 구하기\n",
    "- scikit learn에서 제공하는 Truncated SVD는 U, Sigma, Vt 반환 값을 제공x\n",
    "- spicy에서 제공하는 TruncatedSVD는 scipy.sparse.linalg.svds를 이용하면 제공o"
   ]
  },
  {
   "cell_type": "code",
   "execution_count": 32,
   "id": "7cfdd28b",
   "metadata": {},
   "outputs": [],
   "source": [
    "# scipy에서 제공해주는 svd.  \n",
    "# U 행렬, sigma 행렬, V 전치 행렬을 반환.\n",
    "\n",
    "U, sigma, Vt = svds(matrix_user_mean, k = 12)\n",
    "# print(U.shape) #(91423, 12)\n",
    "# print(sigma.shape) #(12,)\n",
    "# print(Vt.shape) #(12, 4586)"
   ]
  },
  {
   "cell_type": "code",
   "execution_count": 33,
   "id": "96726d4e",
   "metadata": {},
   "outputs": [],
   "source": [
    "# 위는 0이 아닌 값만 포함되었기에 0이 포함된 대칭행렬로 diag를 이용해 변환\n",
    "sigma = np.diag(sigma)\n",
    "# sigma.shape #(12, 12)\n",
    "# sigma[0]\n",
    "# sigma[1]"
   ]
  },
  {
   "cell_type": "code",
   "execution_count": 34,
   "id": "a23c8423",
   "metadata": {},
   "outputs": [],
   "source": [
    "# U, Sigma, Vt의 내적을 수행하면, 다시 원본 행렬로 복원이 된다. \n",
    "# 거기에 아까 평균을 빼었으니 다시 사용자 평균 rating 더한다. \n",
    "svd_user_predicted_ratings = np.dot(np.dot(U, sigma), Vt) + user_ratings_mean.reshape(-1, 1)\n",
    "df_svd_preds = pd.DataFrame(svd_user_predicted_ratings, index = user_ani_ratings_df.index, columns = user_ani_ratings_df.columns)\n",
    "# df_svd_preds.head()\n",
    "# df_svd_preds.shape #(91423, 4586)\n",
    "# df_svd_preds.loc[15].sort_values(ascending=False)"
   ]
  },
  {
   "cell_type": "markdown",
   "id": "bbcda354",
   "metadata": {},
   "source": [
    "### ✏️ SVD를 활용한 애니메이션 추천\n",
    "- 사용자 아이디에 SVD로 나온 결과의 애니 평점이 가장 높은 데이터 순으로 정렬\n",
    "- 사용자가 본 애니를 제외\n",
    "- 사용자가 안 본 애니에서 평점이 높은 것을 반환\n",
    "- 같은 시리즈인 것이 이미 추천되었다면 추가 안 함\n",
    "- 30개의 애니메이션 아이디를 반환"
   ]
  },
  {
   "cell_type": "code",
   "execution_count": 35,
   "id": "9f0f5802",
   "metadata": {},
   "outputs": [],
   "source": [
    "id_to_idx = dict(zip(ani_df[\"ani_id\"], ani_df.index))\n",
    "idx_to_series = dict(zip(ani_df.index, ani_df[\"series_id\"]))\n",
    "id_to_series = dict(zip(ani_df[\"ani_id\"], ani_df[\"series_id\"]))"
   ]
  },
  {
   "cell_type": "code",
   "execution_count": 36,
   "id": "c6fcbdf1",
   "metadata": {},
   "outputs": [],
   "source": [
    "def recommend_ani(df_svd_preds, userId, ori_ani_df, ori_score_df):\n",
    "    \n",
    "    # 최종적으로 만든 pred_df에서 사용자 index에 따라 애니 데이터 정렬 -> 애니 평점이 높은 순으로 정렬 됌\n",
    "    sorted_user_predictions = df_svd_preds.loc[userId].sort_values(ascending=False)\n",
    "    \n",
    "    # 원본 평점 데이터에서 user id에 해당하는 데이터를 뽑아낸다. \n",
    "    user_data = ori_score_df[ori_score_df.user_id == userId]\n",
    "    \n",
    "    # 위에서 뽑은 user_data와 원본 애니 데이터를 합친다. \n",
    "    user_history = user_data.merge(ori_ani_df, on = 'ani_id').sort_values(['score'], ascending=False)\n",
    "    \n",
    "    # 유저가 이미 본 애니 id를 뽑는다. (TF-IDF에 사용)\n",
    "    user_history_list = user_history['ani_id'].values.tolist()\n",
    "    \n",
    "    # 유저가 이미 본 애니 series id를 뽑는다.\n",
    "    user_history_series_list_all = user_history['series_id'].values.tolist()\n",
    "    user_history_series_list = []\n",
    "    for id in user_history_series_list_all:\n",
    "        # 시리즈가 미리 추가되어 있지 않고 nan이 아니면 히스토리 시리즈 리스트에 추가\n",
    "        if id not in user_history_series_list and np.isnan(id) == False:\n",
    "            user_history_series_list.append(id)\n",
    "    \n",
    "    # 원본 애니 데이터에서 사용자가 본 애니 데이터를 제외한 데이터를 추출\n",
    "    recommendations = ori_ani_df[~ori_ani_df['ani_id'].isin(user_history['ani_id'])]\n",
    "    \n",
    "    # 사용자의 애니 평점이 높은 순으로 정렬된 데이터와 위 recommendations을 합친다. \n",
    "    recommendations = recommendations.merge(pd.DataFrame(sorted_user_predictions).reset_index(), on = 'ani_id')\n",
    "    \n",
    "    # 컬럼 이름 바꾸고 정렬해서 return\n",
    "    recommendation_list_all = list(recommendations.sort_values(userId, ascending = False)['ani_id'])\n",
    "\n",
    "    # 추천 애니메이션 저장 리스트\n",
    "    recommendation_list = []\n",
    "    \n",
    "    # 시리즈 저장 리스트\n",
    "    series_list = user_history_series_list[:]\n",
    "    \n",
    "    for id in recommendation_list_all:\n",
    "        \n",
    "        # 선택한 애니메이션의 인덱스 가져옴\n",
    "        idx = id_to_idx[id]\n",
    "\n",
    "        # 해당 인덱스의 시리즈 아이디 가져옴\n",
    "        series = idx_to_series[idx]\n",
    "        \n",
    "        # 시리즈가 미리 추가되어 있지 않다면 추천결과에 추가\n",
    "        if series not in series_list:\n",
    "            recommendation_list.append(id)\n",
    "            # nan이 아니면 시리즈 리스트에 추가\n",
    "            if np.isnan(series) == False:\n",
    "                series_list.append(series)\n",
    "        \n",
    "        # 30개가 추천되면 종료\n",
    "        if len(recommendation_list) == 30:\n",
    "            return user_history_list, recommendation_list"
   ]
  },
  {
   "cell_type": "code",
   "execution_count": 37,
   "id": "dfde0ba1",
   "metadata": {},
   "outputs": [],
   "source": [
    "input_user_id = 4523846"
   ]
  },
  {
   "cell_type": "code",
   "execution_count": 38,
   "id": "a1b2dd80",
   "metadata": {},
   "outputs": [],
   "source": [
    "user_history_list, recommendation_list = recommend_ani(df_svd_preds, input_user_id, ani_df, rating_df)"
   ]
  },
  {
   "cell_type": "code",
   "execution_count": 39,
   "id": "591ec464",
   "metadata": {},
   "outputs": [
    {
     "data": {
      "text/plain": [
       "[39986,\n",
       " 39431,\n",
       " 25049,\n",
       " 40684,\n",
       " 39857,\n",
       " 40249,\n",
       " 38258,\n",
       " 23698,\n",
       " 40532,\n",
       " 39996,\n",
       " 40575,\n",
       " 40825,\n",
       " 39730,\n",
       " 40372,\n",
       " 36775,\n",
       " 39072,\n",
       " 40655,\n",
       " 40192,\n",
       " 40562,\n",
       " 39935]"
      ]
     },
     "execution_count": 39,
     "metadata": {},
     "output_type": "execute_result"
    }
   ],
   "source": [
    "user_history_list"
   ]
  },
  {
   "cell_type": "code",
   "execution_count": 40,
   "id": "6129c8c2",
   "metadata": {},
   "outputs": [
    {
     "data": {
      "text/plain": [
       "[40630,\n",
       " 40510,\n",
       " 39070,\n",
       " 23661,\n",
       " 39081,\n",
       " 40794,\n",
       " 40153,\n",
       " 39992,\n",
       " 40163,\n",
       " 39985,\n",
       " 38921,\n",
       " 40159,\n",
       " 40790,\n",
       " 40829,\n",
       " 39856,\n",
       " 39745,\n",
       " 40276,\n",
       " 40394,\n",
       " 40272,\n",
       " 39648,\n",
       " 40682,\n",
       " 40266,\n",
       " 39847,\n",
       " 40533,\n",
       " 40261,\n",
       " 40692,\n",
       " 40693,\n",
       " 39731,\n",
       " 40181,\n",
       " 28765]"
      ]
     },
     "execution_count": 40,
     "metadata": {},
     "output_type": "execute_result"
    }
   ],
   "source": [
    "recommendation_list"
   ]
  },
  {
   "cell_type": "markdown",
   "id": "76e5f211",
   "metadata": {},
   "source": [
    "### ✏️ 참고\n",
    "\n",
    "##### 이미 본 애니들과 추천 애니들을 보기 위한 코드\n",
    "```python\n",
    "def recommend_ani(df_svd_preds, userId, ori_ani_df, ori_score_df, num_recommendations):\n",
    "    \n",
    "    # 최종적으로 만든 pred_df에서 사용자 index에 따라 애니 데이터 정렬 -> 애니 평점이 높은 순으로 정렬 됌\n",
    "    sorted_user_predictions = df_svd_preds.loc[userId].sort_values(ascending=False)\n",
    "    \n",
    "    # 원본 평점 데이터에서 user id에 해당하는 데이터를 뽑아낸다. \n",
    "    user_data = ori_score_df[ori_score_df.user_id == userId]\n",
    "    \n",
    "    # 위에서 뽑은 user_data와 원본 애니 데이터를 합친다. \n",
    "    user_history = user_data.merge(ori_ani_df, on = 'ani_id').sort_values(['score'], ascending=False)\n",
    "    \n",
    "    # 원본 애니 데이터에서 사용자가 본 애니 데이터를 제외한 데이터를 추출\n",
    "    recommendations = ori_ani_df[~ori_ani_df['ani_id'].isin(user_history['ani_id'])]\n",
    "    \n",
    "    # 사용자의 애니 평점이 높은 순으로 정렬된 데이터와 위 recommendations을 합친다. \n",
    "    recommendations = recommendations.merge( pd.DataFrame(sorted_user_predictions).reset_index(), on = 'ani_id')\n",
    "    \n",
    "    # 컬럼 이름 바꾸고 정렬해서 return\n",
    "    recommendations = recommendations.rename(columns = {userId: 'Predictions'}).sort_values('Predictions', ascending = False).iloc[:num_recommendations, :]  \n",
    "\n",
    "    return return user_history, recommendations\n",
    "\n",
    "already_rated, predictions = recommend_ani(df_svd_preds, input_user_id, ani_df, rating_df, 30)\n",
    "print(already_rated)\n",
    "print(predictions)\n",
    "```\n",
    "#####  num_recommendations개를 추천받는 코드\n",
    "```python\n",
    "def recommend_ani(df_svd_preds, userId, ori_ani_df, ori_score_df, num_recommendations):\n",
    "    \n",
    "    # 최종적으로 만든 pred_df에서 사용자 index에 따라 애니 데이터 정렬 -> 애니 평점이 높은 순으로 정렬 됌\n",
    "    sorted_user_predictions = df_svd_preds.loc[userId].sort_values(ascending=False)\n",
    "    \n",
    "    # 원본 평점 데이터에서 user id에 해당하는 데이터를 뽑아낸다. \n",
    "    user_data = ori_score_df[ori_score_df.user_id == userId]\n",
    "    \n",
    "    # 위에서 뽑은 user_data와 원본 애니 데이터를 합친다. \n",
    "    user_history = user_data.merge(ori_ani_df, on = 'ani_id').sort_values(['score'], ascending=False)\n",
    "    \n",
    "    # 원본 애니 데이터에서 사용자가 본 애니 데이터를 제외한 데이터를 추출\n",
    "    recommendations = ori_ani_df[~ori_ani_df['ani_id'].isin(user_history['ani_id'])]\n",
    "    \n",
    "    # 사용자의 애니 평점이 높은 순으로 정렬된 데이터와 위 recommendations을 합친다. \n",
    "    recommendations = recommendations.merge( pd.DataFrame(sorted_user_predictions).reset_index(), on = 'ani_id')\n",
    "    \n",
    "    # 컬럼 이름 바꾸고 정렬해서 return\n",
    "    recommendation_list = list(recommendations.sort_values(userId, ascending = False)['ani_id'])[:num_recommendations]\n",
    "\n",
    "    return recommendation_list\n",
    "```\n",
    "##### 시리즈 체크 코드\n",
    "```python\n",
    "id_to_idx = dict(zip(ani_df[\"ani_id\"], ani_df.index))\n",
    "idx_to_series = dict(zip(ani_df.index, ani_df[\"series_id\"]))\n",
    "id_to_series = dict(zip(ani_df[\"ani_id\"], ani_df[\"series_id\"]))\n",
    "\n",
    "def series_check(recommendation_list):\n",
    "    # 추천 애니메이션 저장 리스트\n",
    "    recommendation = []\n",
    "    # 시리즈 저장 리스트\n",
    "    series_list = []\n",
    "    \n",
    "    for id in recommendation_list:\n",
    "        # 선택한 애니메이션의 인덱스 가져옴\n",
    "        idx = id_to_idx[id]\n",
    "\n",
    "        # 해당 인덱스의 시리즈 아이디 가져옴\n",
    "        series = idx_to_series[idx]\n",
    "        \n",
    "        if series not in series_list:\n",
    "            recommendation.append(id)\n",
    "            if np.isnan(series) == False:\n",
    "                series_list.append(series)\n",
    "\n",
    "    return recommendation\n",
    "```"
   ]
  },
  {
   "cell_type": "markdown",
   "id": "0f0b29bf",
   "metadata": {},
   "source": [
    "### ✏️ SVD를 활용한 30개의 추천에서 TF-IDF를 활용한 14개 추천"
   ]
  },
  {
   "cell_type": "code",
   "execution_count": 41,
   "id": "9e5983fd",
   "metadata": {},
   "outputs": [],
   "source": [
    "dbcol_feat = db.ani_feature"
   ]
  },
  {
   "cell_type": "code",
   "execution_count": 42,
   "id": "910c0ae3",
   "metadata": {},
   "outputs": [],
   "source": [
    "feat_df = pd.DataFrame(dbcol_feat.find({},{\"id\":1, \"feat_str\":1}))"
   ]
  },
  {
   "cell_type": "code",
   "execution_count": 43,
   "id": "f872b39a",
   "metadata": {},
   "outputs": [],
   "source": [
    "id_to_idx = dict(zip(feat_df[\"id\"], feat_df.index))\n",
    "idx_to_feat = dict(zip(feat_df.index, feat_df[\"feat_str\"]))"
   ]
  },
  {
   "cell_type": "code",
   "execution_count": 44,
   "id": "ecff5181",
   "metadata": {},
   "outputs": [],
   "source": [
    "tf_idf_list = list()\n",
    "user_feat = ''\n",
    "for i in user_history_list:\n",
    "    idx = id_to_idx[i]\n",
    "    feat = idx_to_feat[idx]\n",
    "    user_feat += feat\n",
    "    user_feat += ' '\n",
    "tf_idf_list.append(user_feat)\n",
    "# print(tf_idf_list)"
   ]
  },
  {
   "cell_type": "code",
   "execution_count": 45,
   "id": "c54d3885",
   "metadata": {},
   "outputs": [],
   "source": [
    "for j in recommendation_list:\n",
    "    idx = id_to_idx[j]\n",
    "    reco_feat = idx_to_feat[idx]\n",
    "    tf_idf_list.append(reco_feat)\n",
    "# print(tf_idf_list)"
   ]
  },
  {
   "cell_type": "code",
   "execution_count": 46,
   "id": "89893c0b",
   "metadata": {},
   "outputs": [
    {
     "name": "stdout",
     "output_type": "stream",
     "text": [
      "TF-IDF 행렬의 크기(shape):  (31, 1344)\n",
      "코사인 유사도 연산 결과:  (31, 31)\n"
     ]
    }
   ],
   "source": [
    "from sklearn.feature_extraction.text import TfidfVectorizer\n",
    "from sklearn.metrics.pairwise import cosine_similarity\n",
    "\n",
    "# TF-IDF 분석\n",
    "tf_idf = TfidfVectorizer()\n",
    "tf_idf_matrix = tf_idf.fit_transform(tf_idf_list)\n",
    "print(\"TF-IDF 행렬의 크기(shape): \", tf_idf_matrix.shape)\n",
    "\n",
    "cosine_sim = cosine_similarity(tf_idf_matrix, tf_idf_matrix)\n",
    "print(\"코사인 유사도 연산 결과: \",cosine_sim.shape)"
   ]
  },
  {
   "cell_type": "code",
   "execution_count": 47,
   "id": "30f44022",
   "metadata": {},
   "outputs": [
    {
     "data": {
      "text/plain": [
       "array([1.        , 0.06303984, 0.11713234, 0.06221434, 0.03477249,\n",
       "       0.06642304, 0.16320931, 0.09846057, 0.09324396, 0.14613305,\n",
       "       0.07312431, 0.09807444, 0.14761016, 0.21761293, 0.05648138,\n",
       "       0.13864421, 0.05311521, 0.12725926, 0.10011708, 0.1147141 ,\n",
       "       0.08505919, 0.14569474, 0.01964442, 0.03615426, 0.04768092,\n",
       "       0.07229158, 0.02547821, 0.09490013, 0.14851751, 0.14792421,\n",
       "       0.10119623])"
      ]
     },
     "execution_count": 47,
     "metadata": {},
     "output_type": "execute_result"
    }
   ],
   "source": [
    "# cosine_sim\n",
    "cosine_sim[0]"
   ]
  },
  {
   "cell_type": "code",
   "execution_count": 48,
   "id": "92176758",
   "metadata": {},
   "outputs": [
    {
     "name": "stdout",
     "output_type": "stream",
     "text": [
      "[40790, 40794, 39731, 40181, 40159, 40163, 40682, 39856, 40276, 40510, 40272, 28765, 40394, 40153]\n"
     ]
    }
   ],
   "source": [
    "# 유저가 시청한 모든 자료의 합인 첫 행과의 유사도를 가져온다.\n",
    "sim_scores = list(enumerate(cosine_sim[0]))\n",
    "# 유사도에 따라 애니 정렬 후 14개 추출\n",
    "sim_scores = sorted(sim_scores, key=lambda x: x[1], reverse=True)\n",
    "# print(sim_scores)\n",
    "sim_scores = sim_scores[1:15]\n",
    "# print(sim_scores)\n",
    "# 추천 애니메이션 저장 리스트\n",
    "id_list = list()\n",
    "# 14개 추출\n",
    "for num in range(14):\n",
    "#     print(sim_scores[num][0])\n",
    "#     print(recommendation_list[sim_scores[num][0]-1])\n",
    "    id_list.append(recommendation_list[sim_scores[num][0]-1])\n",
    "print(id_list)"
   ]
  },
  {
   "cell_type": "code",
   "execution_count": 49,
   "id": "ea03634b",
   "metadata": {},
   "outputs": [
    {
     "name": "stdout",
     "output_type": "stream",
     "text": [
      "아하렌 양은 알 수가 없어\n",
      "귀엽기만 한 게 아닌 시키모리 양\n",
      "역시 내 청춘 러브코메디는 잘못됐다. 완\n",
      "괴물사변\n",
      "5등분의 신부 ∬\n",
      "전생했더니 슬라임이었던 건에 대하여 2기 1부\n",
      "아케비의 세일러복\n",
      "여친, 빌리겠습니다\n",
      "(자막) 나의 히어로 아카데미아 5기\n",
      "무직전생 : 이세계에 갔으면 최선을 다한다 2기\n",
      "불멸의 그대에게 part 1\n",
      "암살교실 2기\n",
      "도쿄 리벤저스 part 2\n",
      "Re : 제로부터 시작하는 이세계 생활 2기 part 2\n"
     ]
    }
   ],
   "source": [
    "# for result in id_list:\n",
    "id_to_name = dict(zip(ani_df[\"ani_id\"], ani_df[\"ani_name\"]))\n",
    "for result in id_list:\n",
    "    print(id_to_name[result])"
   ]
  },
  {
   "cell_type": "code",
   "execution_count": 50,
   "id": "b0e2f9cc",
   "metadata": {},
   "outputs": [
    {
     "name": "stdout",
     "output_type": "stream",
     "text": [
      "주술회전 part 1\n",
      "(무삭제) 귀멸의 칼날\n",
      "니세코이: (2기)\n",
      "장난을 잘 치는 타카기 양 3기\n",
      "우자키 양은 놀고 싶어!\n",
      "괴롭히지 말아요, 나가토로 양\n",
      "장난을 잘 치는 타카기 양 1기\n",
      "니세코이\n",
      "선배가 짜증나는 후배이야기\n",
      "어쨌든 귀여워\n",
      "귀멸의 칼날 : 무한열차편\n",
      "카구야 님은 고백받고 싶어 -울트라 로맨틱-\n",
      "카구야 님은 고백받고 싶어 ~천재들의 연애 두뇌전~ 2기\n",
      "코바야시네 메이드래곤 S\n",
      "코바야시네 메이드래곤\n",
      "카구야 님은 고백받고 싶어 ~천재들의 연애 두뇌전~ 1기\n",
      "그 비스크 돌은 사랑을 한다\n",
      "주술회전 part 2\n",
      "귀멸의 칼날 : 환락의 거리편\n",
      "바케모노가타리 - 판권 부활\n"
     ]
    }
   ],
   "source": [
    "for result in user_history_list:\n",
    "    print(id_to_name[result])"
   ]
  },
  {
   "cell_type": "code",
   "execution_count": null,
   "id": "4ccf4829",
   "metadata": {},
   "outputs": [],
   "source": []
  }
 ],
 "metadata": {
  "kernelspec": {
   "display_name": "Python 3 (ipykernel)",
   "language": "python",
   "name": "python3"
  },
  "language_info": {
   "codemirror_mode": {
    "name": "ipython",
    "version": 3
   },
   "file_extension": ".py",
   "mimetype": "text/x-python",
   "name": "python",
   "nbconvert_exporter": "python",
   "pygments_lexer": "ipython3",
   "version": "3.8.0"
  },
  "vscode": {
   "interpreter": {
    "hash": "eebaf1173d8d9c3c4ee9a7b8bb1432a7f576348d6cb7a26bc263375fbc310797"
   }
  }
 },
 "nbformat": 4,
 "nbformat_minor": 5
}
