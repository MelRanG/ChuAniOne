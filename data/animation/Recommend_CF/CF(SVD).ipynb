{
 "cells": [
  {
   "cell_type": "markdown",
   "id": "e90715f7",
   "metadata": {},
   "source": [
    "#  📌 비슷한 애니메이션 추천(TF-IDF)\n",
    "### ✏️ DB 연결"
   ]
  },
  {
   "cell_type": "code",
   "execution_count": 17,
   "id": "76977bf2",
   "metadata": {},
   "outputs": [],
   "source": [
    "import dotenv\n",
    "import os\n",
    "from pymongo import MongoClient\n",
    "\n",
    "# 환경변수 불러오기\n",
    "dotenv.load_dotenv(dotenv.find_dotenv())\n",
    "USER = os.environ[\"MONGODB_USER\"] # MongoDB user\n",
    "PASSWORD = os.environ[\"MONGODB_PW\"] # MongoDB password\n",
    "PORT = int(os.environ[\"MONGODB_PORT\"]) # MongoDB port\n",
    "\n",
    "# DB 연결\n",
    "client = MongoClient(\"mongodb://\" + USER + \":\" + PASSWORD + \"@j7e104.p.ssafy.io\", PORT)\n",
    "\n",
    "db = client.animation\n",
    "dbcol_detail = db.ani_detail\n",
    "dbcol_review = db.review"
   ]
  },
  {
   "cell_type": "markdown",
   "id": "631118d6",
   "metadata": {},
   "source": [
    "### ✏️ DataFrame 가져오기"
   ]
  },
  {
   "cell_type": "code",
   "execution_count": 18,
   "id": "64bc48c4",
   "metadata": {},
   "outputs": [],
   "source": [
    "import pandas as pd\n",
    "\n",
    "# 애니 정보 불러오기\n",
    "ani_df = pd.DataFrame(dbcol_detail.find({},{\"id\":1, \"name\":1}))\n",
    "ani_df.columns = [\"_id\", \"animation\", \"ani_name\"]\n",
    "\n",
    "# 평가 데이터 불러오기\n",
    "profile = list(dbcol_review.find({}))\n",
    "rating_df = pd.DataFrame(profile)\n",
    "rating_df = rating_df[[\"animation\", \"profile\", \"score\"]]\n",
    "rating_df[\"profile\"] = rating_df[\"profile\"].map(lambda x:x[\"id\"])\n",
    "rating_df.columns = [\"animation\", \"user_id\", \"score\"]"
   ]
  },
  {
   "cell_type": "markdown",
   "id": "584f97cb",
   "metadata": {},
   "source": [
    "### ✏️ 결측값과 0 삭제"
   ]
  },
  {
   "cell_type": "code",
   "execution_count": 19,
   "id": "617cf79d",
   "metadata": {},
   "outputs": [],
   "source": [
    "# 평점이 0이거나 결측값인 경우 제외\n",
    "drop_index = rating_df[rating_df['score'] == 0].index\n",
    "rating_df.drop(drop_index, inplace=True)\n",
    "drop_index = rating_df[rating_df['score'].isnull() == True].index\n",
    "rating_df.drop(drop_index, inplace=True)"
   ]
  },
  {
   "cell_type": "markdown",
   "id": "374e0841",
   "metadata": {},
   "source": [
    "### ✏️ DataFrame 정리"
   ]
  },
  {
   "cell_type": "code",
   "execution_count": 20,
   "id": "f0104b94",
   "metadata": {},
   "outputs": [],
   "source": [
    "# animation을 기준으로 merge\n",
    "ani_ratings = pd.merge(ani_df, rating_df, left_on='animation', right_on='animation')\n",
    "df = pd.DataFrame(ani_ratings, columns=['user_id', 'animation', 'score'])"
   ]
  },
  {
   "cell_type": "markdown",
   "id": "d2a492ca",
   "metadata": {},
   "source": [
    "### ✏️ 데이터 변환"
   ]
  },
  {
   "cell_type": "code",
   "execution_count": 21,
   "id": "21282437",
   "metadata": {},
   "outputs": [],
   "source": [
    "from surprise import Reader, Dataset, SVD, accuracy, NormalPredictor\n",
    "\n",
    "reader = Reader(line_format = 'user item rating', rating_scale=(0.5,5))\n",
    "data = Dataset.load_from_df(df[['user_id', 'animation', 'score']], reader)"
   ]
  },
  {
   "cell_type": "markdown",
   "id": "68b30f07",
   "metadata": {},
   "source": [
    "### ✏️ 훈련 및 테스트 데이터 분리"
   ]
  },
  {
   "cell_type": "code",
   "execution_count": 22,
   "id": "968e8db0",
   "metadata": {},
   "outputs": [],
   "source": [
    "from surprise.model_selection import train_test_split\n",
    "\n",
    "trainset, testset = train_test_split(data, test_size=.25, random_state=0)"
   ]
  },
  {
   "cell_type": "markdown",
   "id": "881e3f4f",
   "metadata": {},
   "source": [
    "### ✏️ 학습 후 예측, RMSE 평가"
   ]
  },
  {
   "cell_type": "code",
   "execution_count": 23,
   "id": "6925940c",
   "metadata": {},
   "outputs": [
    {
     "name": "stdout",
     "output_type": "stream",
     "text": [
      "RMSE: 0.9020\n"
     ]
    },
    {
     "data": {
      "text/plain": [
       "0.9020296338037631"
      ]
     },
     "execution_count": 23,
     "metadata": {},
     "output_type": "execute_result"
    }
   ],
   "source": [
    "# 수행시마다 동일한 결과 도출을 위해 random_state 설정\n",
    "algo = SVD(n_factors=50, random_state=0)\n",
    "\n",
    "# 학습 데이터 세트로 학습 후 테스트 데이터 세트로 평점 예측 후 RMSE 평가\n",
    "algo.fit(trainset)\n",
    "predictions = algo.test(testset)\n",
    "# for i in range(100):\n",
    "#     print(predictions[i])\n",
    "accuracy.rmse(predictions)"
   ]
  },
  {
   "cell_type": "markdown",
   "id": "b7cc81f6",
   "metadata": {},
   "source": [
    "### -----------------------------------------------------------------------"
   ]
  },
  {
   "cell_type": "markdown",
   "id": "b9cc87fc",
   "metadata": {},
   "source": [
    "이것 저것 정보 확인을 위한 코드 모음"
   ]
  },
  {
   "cell_type": "code",
   "execution_count": null,
   "id": "39eef225",
   "metadata": {},
   "outputs": [],
   "source": [
    "print(ani_df.shape) # (6121, 3)\n",
    "print(rating_df.shape) # (284221, 3)\n",
    "print(ani_ratings.shape) # (284221, 5)\n",
    "\n",
    "ani_ratings[\"animation\"].nunique() # 4586\n",
    "# ani가 6121개 있으나 평가가 있는 ani는 4586개 (평점을 남기지 않고도 댓글을 달 수 있기에 더 차이가 생김)\n",
    "# 1535개의 ani는 평가 혹은 평점이 없음\n",
    "\n",
    "ani_ratings[\"user_id\"].nunique() # 91429\n",
    "# 91429명의 사용자가 6121개의 애니에 대해 284225 평가를 남긴 것을 알 수 있음\n",
    "\n",
    "# 애니를 중심으로 평점을 보기 위한 데이터 프레임 생성\n",
    "ani_rating_summary = ani_ratings[[\"animation\", \"score\"]].groupby([\"animation\"]).agg([\"count\", \"median\", \"mean\"])\n",
    "# score 안에 count, median, mean으로 멀티 인덱스이므로 수정\n",
    "ani_rating_summary.columns = [\"count\", \"median\", \"mean\"]\n",
    "\n",
    "# 가장 많은 평점을 받은 애니 Top10\n",
    "ani_rating_summary.sort_values(\"count\", ascending=False).head(10)\n",
    "\n",
    "# 평점의 평균이 높은 순으로 애니 10개 출력\n",
    "# but!출력물을 보면 알 수 있겠지만 이렇게하면 평점을 1개만 받았는데 5점이라서 출력되는 결과 발생\n",
    "ani_rating_summary.sort_values(\"mean\", ascending=False).head(10)\n",
    "\n",
    "#위의 문제를 해결하기 위해 평점의 갯수가 50개 이상인 애니 중에서 평점 평균이 높은 애니 Top10출력\n",
    "ani_rating_summary[ani_rating_summary[\"count\"] >= 50].sort_values(\"mean\", ascending=False).head(10)\n",
    "\n",
    "\n",
    "import seaborn as sns\n",
    "import matplotlib.pyplot as plt\n",
    "\n",
    "f, axes = plt.subplots(1, 2, figsize=(16, 8), sharex=True)\n",
    "# 아래의 첫 번째 그래프를 보았을 때 5점의 비율이 높음을 알 수 있음.\n",
    "# 평가 수가 적은 애니가 존재하기에 50개 이상의 평가가 있는 것만으로 진행.\n",
    "sns.distplot(ani_rating_summary['mean'], kde=True, color='r', ax=axes[0])\n",
    "# 0.5점은 주로 평가가 적은 애니에서 발생함을 알 수 있음.\n",
    "sns.distplot(ani_rating_summary[ani_rating_summary[\"count\"] >= 50]['mean'], kde=True, color='b', ax=axes[1])\n",
    "# 그래프가 약간 오른쪽으로 치우진 것을 보았을 때 상대적으로 후하게 평점을 줌을 알 수 있음.\n",
    "plt.show()\n",
    "\n",
    "\n",
    "#가장 많이 평점을 작성한 사용자 Top10\n",
    "user_rating_summary.sort_values(\"count\", ascending=False).head(10)\n",
    "#가장 평점을 후하게 준 사용자 Top10\n",
    "# user_rating_summary.sort_values(\"median\", ascending=False).head(10)\n",
    "#가장 평점을 짜게 준 사용자 Top10\n",
    "# user_rating_summary.sort_values(\"median\", ascending=True).head(10)"
   ]
  },
  {
   "cell_type": "markdown",
   "id": "ee37ed09",
   "metadata": {},
   "source": [
    "### -----------------------------------------------------------------------"
   ]
  },
  {
   "cell_type": "code",
   "execution_count": 32,
   "id": "bd970c22",
   "metadata": {},
   "outputs": [
    {
     "name": "stdout",
     "output_type": "stream",
     "text": [
      "[40260]\n",
      "['도쿄 리벤저스 part 1']\n"
     ]
    }
   ],
   "source": [
    "# animation를 기준으로 애니의 이름 return\n",
    "def getAniName(ani_ratings, aniID):\n",
    "    return ani_ratings[ani_ratings[\"animation\"] == aniID][[\"ani_name\"]].values[0]\n",
    "\n",
    "# ani이름을 기준으로 애니의 ID return\n",
    "def getAniID(ani_ratings, aniName):\n",
    "    return ani_ratings[ani_ratings[\"ani_name\"] == aniName][[\"animation\"]].values[0]\n",
    "\n",
    "print(getAniID(ani_ratings, '도쿄 리벤저스 part 1')) # array([40260], dtype=int64)\n",
    "print(getAniName(ani_ratings, 40260))"
   ]
  },
  {
   "cell_type": "code",
   "execution_count": 33,
   "id": "508d4609",
   "metadata": {},
   "outputs": [
    {
     "data": {
      "text/plain": [
       "{'test_rmse': array([1.4078566 , 1.40707465]),\n",
       " 'test_mae': array([0.97322704, 0.97026805]),\n",
       " 'fit_time': (0.1722095012664795, 0.23290085792541504),\n",
       " 'test_time': (0.7022557258605957, 0.7182276248931885)}"
      ]
     },
     "execution_count": 33,
     "metadata": {},
     "output_type": "execute_result"
    }
   ],
   "source": [
    "from surprise.model_selection import cross_validate\n",
    "\n",
    "reader = Reader(rating_scale=(0.5, 5))\n",
    "data = Dataset.load_from_df(df[[\"user_id\", \"animation\", \"score\"]], reader)\n",
    "cross_validate(NormalPredictor(), data, cv=2)"
   ]
  },
  {
   "cell_type": "code",
   "execution_count": 37,
   "id": "fbc75e60",
   "metadata": {
    "scrolled": false
   },
   "outputs": [],
   "source": [
    "# from surprise import KNNBasic\n",
    "# import heapq\n",
    "# from collections import defaultdict\n",
    "# from surprise.dataset import DatasetAutoFolds\n",
    "# from surprise.model_selection import GridSearchCV\n",
    "\n",
    "# #유사도 측정함수의 속성\n",
    "# sim_options = {\n",
    "#     'name': 'cosine',\t#코사인 유사도\n",
    "#     'user_based': True\t#사용자 기반 협업 필터링\n",
    "# }\n",
    "\n",
    "# model = KNNBasic(sim_options=sim_options)\n",
    "# model.fit(trainset)\n",
    "# simsMatrix = model.compute_similarities()"
   ]
  },
  {
   "cell_type": "code",
   "execution_count": 38,
   "id": "76e0ae83",
   "metadata": {},
   "outputs": [],
   "source": [
    "# testUser = '85'\n",
    "# k = 10\n",
    "\n",
    "# # 주어진 사용자와 가장 흡사한 사용자 N을 찾는다\n",
    "# # 먼저 이를 Surprise 내부 ID로 변환\n",
    "# testUserInnerID = trainSet.to_inner_uid(testUser)\n",
    "# print(testUserInnerID)\n",
    "# #84\n",
    "\n",
    "# # 이 사용자에 해당하는 레코드를 읽어온다\n",
    "# similarityRow = simsMatrix[testUserInnerID]"
   ]
  },
  {
   "cell_type": "code",
   "execution_count": 39,
   "id": "121e9119",
   "metadata": {},
   "outputs": [],
   "source": [
    "# # users에 모든 사용자들을 일련번호와 유사도를 갖는 튜플의 형태로 저장\n",
    "# # 이 때 본인은 제외\n",
    "# users = []\n",
    "# for innerID, score in enumerate(similarityRow):\n",
    "#     if (innerID != testUserInnerID):\n",
    "#         users.append( (innerID, score) )\n",
    "\n",
    "# # 이제 users 리스트에서 유사도 값을 기준으로 가장 큰 k개를 찾는다\n",
    "# kNeighbors = heapq.nlargest(k, users, key=lambda t: t[1])\n",
    "\n",
    "# kNeighbors\n",
    "# '''\n",
    "# [(10,1.0),\n",
    "#  (11,1.0),\n",
    "#  (13,1.0),\n",
    "#  (24,1.0),\n",
    "#  (36,1.0),\n",
    "#  (44,1.0),\n",
    "#  (45,1.0),\n",
    "#  (51,1.0),\n",
    "#  (53,1.0),\n",
    "#  (61,1.0)]\n",
    "# '''\n",
    "# #(사용자ID, 유사도)\n",
    "# #즉, 85번 사용자와 100%일치하는 사용자 10명이 출력된 것"
   ]
  },
  {
   "cell_type": "code",
   "execution_count": 40,
   "id": "287f2d28",
   "metadata": {},
   "outputs": [],
   "source": [
    "# # 이제 유사 사용자들을 하나씩 보면서 그들이 평가한 아이템들별로 원 사용자와 유사 사용자간의 유사도를 가중치로 준 평점을 누적한다\n",
    "\n",
    "# # candidates에는 아이템별로 점수를 누적한다. 유사사용자(u')의 평점 * 사용자(u)와 유사 사용자(u')의 유사도\n",
    "# candidates = defaultdict(float)\n",
    "\n",
    "# # 이 K명의 최고 유사 사용자를 한명씩 루프를 돌면서 살펴본다\n",
    "# for similarUser in kNeighbors:\n",
    "#     # similarUser는 앞서 enumerate로 만든 그 포맷임 - (내부ID, 유사도값)\n",
    "#     innerID = similarUser[0]\n",
    "#     userSimilarityScore = similarUser[1]\n",
    "\n",
    "#     # innerID에 해당하는 사용자의 아이템과 평점 정보를 읽어온다.\n",
    "#     # theirRatings는 (아이템ID, 평점)의 리스트임\n",
    "#     theirRatings = trainSet.ur[innerID]\n",
    "#     # innerID가 평가한 모든 아이템 리스트를 하나씩 보면서 \n",
    "#     # 아이템ID별로 평점 정보를 합산하되 사용자와의 유사도값을 가중치로 준다\n",
    "#     for rating in theirRatings:\n",
    "#         candidates[rating[0]] += (rating[1]) * userSimilarityScore\n",
    "        \n",
    "# # 사용자가 이미 평가한 아이템들을 제거할 사전을 만든다\n",
    "# watched = {}\n",
    "# for itemID, rating in trainSet.ur[testUserInnerID]:\n",
    "#     watched[itemID] = 1"
   ]
  },
  {
   "cell_type": "code",
   "execution_count": 41,
   "id": "f065b0fe",
   "metadata": {},
   "outputs": [],
   "source": [
    "# # 앞서 candidates에서 합산된 스코어를 기준으로 내림차순으로 소팅한 후\n",
    "# # 사용자(u)가 아직 못본 아이템인 경우 추천한다\n",
    "# pos = 0\n",
    "# for itemID, ratingSum in sorted(candidates.items(), key=lambda k: k[1], reverse=True):\n",
    "#     if not itemID in watched:\n",
    "#         movieID = trainSet.to_raw_iid(itemID)\n",
    "#         print(movieID, getMovieName(movie_ratings, int(movieID)), ratingSum)\n",
    "#         pos += 1\n",
    "#         if (pos > 10):\n",
    "#             break"
   ]
  },
  {
   "cell_type": "code",
   "execution_count": 42,
   "id": "b47cd6e1",
   "metadata": {},
   "outputs": [],
   "source": [
    "# #앞의 testUser = '85'부터 코드를 함수로 만든 것\n",
    "# def recommendForUser(userID):\n",
    "#     testUserInnerID = trainSet.to_inner_uid(userID)\n",
    "#     similarityRow = simsMatrix[testUserInnerID]\n",
    "\n",
    "#     users = []\n",
    "#     for innerID, score in enumerate(similarityRow):\n",
    "#         if (innerID != testUserInnerID):\n",
    "#             users.append( (innerID, score) )\n",
    "\n",
    "#     kNeighbors = heapq.nlargest(k, users, key=lambda t: t[1])\n",
    "\n",
    "#     candidates = defaultdict(float)\n",
    "#     for similarUser in kNeighbors:\n",
    "#         innerID = similarUser[0]\n",
    "#         userSimilarityScore = similarUser[1]\n",
    "#         theirRatings = trainSet.ur[innerID]\n",
    "#         for rating in theirRatings:\n",
    "#             candidates[rating[0]] += (rating[1]) * userSimilarityScore\n",
    "\n",
    "#     watched = {}\n",
    "#     for itemID, rating in trainSet.ur[testUserInnerID]:\n",
    "#         watched[itemID] = 1\n",
    "\n",
    "#     pos = 0\n",
    "#     for itemID, ratingSum in sorted(candidates.items(), key=lambda k: k[1], reverse=True):\n",
    "#         if not itemID in watched:\n",
    "#             movieID = trainSet.to_raw_iid(itemID)\n",
    "#             print(movieID, getMovieName(movie_ratings, int(movieID)), ratingSum)\n",
    "#             pos += 1\n",
    "#             if (pos > 10):\n",
    "#                 break\n",
    "\n",
    "# recommendForUser('85')"
   ]
  }
 ],
 "metadata": {
  "kernelspec": {
   "display_name": "Python 3 (ipykernel)",
   "language": "python",
   "name": "python3"
  },
  "language_info": {
   "codemirror_mode": {
    "name": "ipython",
    "version": 3
   },
   "file_extension": ".py",
   "mimetype": "text/x-python",
   "name": "python",
   "nbconvert_exporter": "python",
   "pygments_lexer": "ipython3",
   "version": "3.8.0"
  },
  "vscode": {
   "interpreter": {
    "hash": "eebaf1173d8d9c3c4ee9a7b8bb1432a7f576348d6cb7a26bc263375fbc310797"
   }
  }
 },
 "nbformat": 4,
 "nbformat_minor": 5
}
