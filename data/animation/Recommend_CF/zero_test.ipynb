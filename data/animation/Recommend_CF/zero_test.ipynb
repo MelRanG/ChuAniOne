{
 "cells": [
  {
   "cell_type": "code",
   "execution_count": 27,
   "id": "851ac604",
   "metadata": {},
   "outputs": [],
   "source": [
    "import dotenv\n",
    "import os\n",
    "from pymongo import MongoClient\n",
    "\n",
    "# 환경변수 불러오기\n",
    "dotenv.load_dotenv(dotenv.find_dotenv())\n",
    "USER = os.environ[\"MONGODB_USER\"] # MongoDB user\n",
    "PASSWORD = os.environ[\"MONGODB_PW\"] # MongoDB password\n",
    "PORT = int(os.environ[\"MONGODB_PORT\"]) # MongoDB port\n",
    "\n",
    "# DB 연결\n",
    "client = MongoClient(\"mongodb://\" + USER + \":\" + PASSWORD + \"@j7e104.p.ssafy.io\", PORT)\n",
    "\n",
    "db = client.test\n",
    "dbcol_review = db.review\n",
    "dbcol_detail = db.ani_detail"
   ]
  },
  {
   "cell_type": "code",
   "execution_count": 29,
   "id": "fc3d7436",
   "metadata": {},
   "outputs": [],
   "source": [
    "from surprise import Dataset\n",
    "from surprise import Reader\n",
    "\n",
    "from collections import defaultdict\n",
    "import numpy as np\n",
    "import pandas as pd\n",
    "\n",
    "# 애니 정보 불러오기\n",
    "ani_df = pd.DataFrame(dbcol_detail.find({},{\"id\":1, \"name\":1}))\n",
    "ani_df.columns = [\"_id\", \"animation\", \"ani_name\"]\n",
    "\n",
    "# 평가 데이터 불러오기\n",
    "profile = list(dbcol_review.find({}))\n",
    "rating_df = pd.DataFrame(profile)\n",
    "rating_df = rating_df[[\"animation\", \"profile\", \"score\"]]\n",
    "rating_df[\"profile\"] = rating_df[\"profile\"].map(lambda x:x[\"id\"])\n",
    "rating_df.columns = [\"animation\", \"user_id\", \"score\"]\n",
    "\n",
    "ani_ratings = pd.merge(ani_df, rating_df, left_on='animation', right_on='animation')\n",
    "\n",
    "# 애니를 중심으로 평점을 보기 위한 데이터 프레임 생성\n",
    "ani_rating_summary = ani_ratings[[\"animation\", \"score\"]].groupby([\"animation\"]).agg([\"count\", \"median\", \"mean\"])\n",
    "# score 안에 count, median, mean으로 멀티 인덱스이므로 수정\n",
    "ani_rating_summary.columns = [\"count\", \"median\", \"mean\"]\n",
    "\n",
    "df = pd.DataFrame(ani_ratings, columns=['user_id', 'animation', 'score'])"
   ]
  },
  {
   "cell_type": "code",
   "execution_count": 30,
   "id": "5665801f",
   "metadata": {},
   "outputs": [
    {
     "name": "stdout",
     "output_type": "stream",
     "text": [
      "user: 3234638    item: 13395      r_ui = 0.00   est = 5.00   {'was_impossible': False}\n",
      "user: 605066     item: 15980      r_ui = 5.00   est = 5.00   {'was_impossible': False}\n",
      "user: 3598578    item: 39990      r_ui = 0.00   est = 5.00   {'was_impossible': False}\n",
      "user: 218403     item: 40372      r_ui = 0.00   est = 5.00   {'was_impossible': False}\n",
      "user: 433237     item: 40165      r_ui = 4.50   est = 5.00   {'was_impossible': False}\n",
      "user: 21875      item: 40695      r_ui = 3.00   est = 5.00   {'was_impossible': False}\n",
      "user: 163676     item: 33234      r_ui = 2.00   est = 5.00   {'was_impossible': False}\n",
      "user: 1153896    item: 39499      r_ui = 5.00   est = 5.00   {'was_impossible': False}\n",
      "user: 1864254    item: 23698      r_ui = 0.00   est = 5.00   {'was_impossible': False}\n",
      "user: 2367974    item: 38106      r_ui = 3.50   est = 5.00   {'was_impossible': False}\n",
      "RMSE: 2.8340\n"
     ]
    },
    {
     "data": {
      "text/plain": [
       "2.8340215695705155"
      ]
     },
     "execution_count": 30,
     "metadata": {},
     "output_type": "execute_result"
    }
   ],
   "source": [
    "from surprise import Reader, Dataset, SVD, accuracy\n",
    "from surprise.model_selection import cross_validate\n",
    "from surprise.model_selection import train_test_split\n",
    "\n",
    "# 데이터 변환\n",
    "# reader = Reader(rating_scale=(0.5, 5))\n",
    "# data = Dataset.load_from_df(df, reader)\n",
    "reader = Reader(line_format = 'user item rating', rating_scale=(0.5,5))\n",
    "data = Dataset.load_from_df(df[['user_id', 'animation', 'score']], reader)\n",
    "\n",
    "# 훈련 및 테스트 데이터 분리\n",
    "trainset, testset = train_test_split(data, test_size=.25, random_state=0)\n",
    " \n",
    "# 수행시마다 동일한 결과 도출을 위해 random_state 설정\n",
    "algo = SVD(n_factors=50, random_state=0)\n",
    " \n",
    "# 학습 데이터 세트로 학습 후 테스트 데이터 세트로 평점 예측 후 RMSE 평가\n",
    "algo.fit(trainset)\n",
    "predictions = algo.test(testset)\n",
    "for i in range(10):\n",
    "    print(predictions[i])\n",
    "\n",
    "accuracy.rmse(predictions)"
   ]
  },
  {
   "cell_type": "code",
   "execution_count": 31,
   "id": "fee39e4b",
   "metadata": {},
   "outputs": [
    {
     "name": "stdout",
     "output_type": "stream",
     "text": [
      "98072\n"
     ]
    }
   ],
   "source": [
    "print(len(predictions))\n",
    "for i in range(98070):\n",
    "    if predictions[i][3] != 5:\n",
    "        print(predictions[i])\n",
    "#     print(predictions[i][2], predictions[i][3])"
   ]
  },
  {
   "cell_type": "markdown",
   "id": "5a8396e5",
   "metadata": {},
   "source": [
    "zero 제거"
   ]
  },
  {
   "cell_type": "code",
   "execution_count": 32,
   "id": "7e6d7503",
   "metadata": {},
   "outputs": [],
   "source": [
    "from surprise import Dataset\n",
    "from surprise import Reader\n",
    "\n",
    "from collections import defaultdict\n",
    "import numpy as np\n",
    "import pandas as pd\n",
    "\n",
    "# 애니 정보 불러오기\n",
    "ani_df = pd.DataFrame(dbcol_detail.find({},{\"id\":1, \"name\":1}))\n",
    "ani_df.columns = [\"_id\", \"animation\", \"ani_name\"]\n",
    "\n",
    "# 평가 데이터 불러오기\n",
    "profile = list(dbcol_review.find({}))\n",
    "rating_df = pd.DataFrame(profile)\n",
    "rating_df = rating_df[[\"animation\", \"profile\", \"score\"]]\n",
    "rating_df[\"profile\"] = rating_df[\"profile\"].map(lambda x:x[\"id\"])\n",
    "rating_df.columns = [\"animation\", \"user_id\", \"score\"]\n",
    "drop_index = rating_df[rating_df['score'] == 0].index\n",
    "rating_df.drop(drop_index, inplace=True)\n",
    "\n",
    "ani_ratings = pd.merge(ani_df, rating_df, left_on='animation', right_on='animation')\n",
    "\n",
    "# 애니를 중심으로 평점을 보기 위한 데이터 프레임 생성\n",
    "ani_rating_summary = ani_ratings[[\"animation\", \"score\"]].groupby([\"animation\"]).agg([\"count\", \"median\", \"mean\"])\n",
    "# score 안에 count, median, mean으로 멀티 인덱스이므로 수정\n",
    "ani_rating_summary.columns = [\"count\", \"median\", \"mean\"]\n",
    "\n",
    "df = pd.DataFrame(ani_ratings, columns=['user_id', 'animation', 'score'])"
   ]
  },
  {
   "cell_type": "code",
   "execution_count": 33,
   "id": "87038692",
   "metadata": {},
   "outputs": [
    {
     "name": "stdout",
     "output_type": "stream",
     "text": [
      "user: 3696467    item: 40697      r_ui = 4.00   est = 5.00   {'was_impossible': False}\n",
      "user: 900431     item: 23056      r_ui = 5.00   est = 5.00   {'was_impossible': False}\n",
      "user: 2734490    item: 39367      r_ui = 2.50   est = 5.00   {'was_impossible': False}\n",
      "user: 2509539    item: 39847      r_ui = 5.00   est = 5.00   {'was_impossible': False}\n",
      "user: 2617787    item: 39985      r_ui = 5.00   est = 5.00   {'was_impossible': False}\n",
      "user: 337571     item: 39081      r_ui = 4.00   est = 5.00   {'was_impossible': False}\n",
      "user: 2206431    item: 39192      r_ui = 5.00   est = 5.00   {'was_impossible': False}\n",
      "user: 1146059    item: 39887      r_ui = 0.50   est = 5.00   {'was_impossible': False}\n",
      "user: 1200342    item: 37189      r_ui = 0.50   est = 5.00   {'was_impossible': False}\n",
      "user: 3347208    item: 39708      r_ui = 5.00   est = 5.00   {'was_impossible': False}\n",
      "RMSE: nan\n"
     ]
    },
    {
     "data": {
      "text/plain": [
       "nan"
      ]
     },
     "execution_count": 33,
     "metadata": {},
     "output_type": "execute_result"
    }
   ],
   "source": [
    "from surprise import Reader, Dataset, SVD, accuracy\n",
    "from surprise.model_selection import cross_validate\n",
    "from surprise.model_selection import train_test_split\n",
    "\n",
    "# 데이터 변환\n",
    "# reader = Reader(rating_scale=(0.5, 5))\n",
    "# data = Dataset.load_from_df(df, reader)\n",
    "reader = Reader(line_format = 'user item rating', rating_scale=(0.5,5))\n",
    "data = Dataset.load_from_df(df[['user_id', 'animation', 'score']], reader)\n",
    "\n",
    "# 훈련 및 테스트 데이터 분리\n",
    "trainset, testset = train_test_split(data, test_size=.25, random_state=0)\n",
    " \n",
    "# 수행시마다 동일한 결과 도출을 위해 random_state 설정\n",
    "algo = SVD(n_factors=50, random_state=0)\n",
    " \n",
    "# 학습 데이터 세트로 학습 후 테스트 데이터 세트로 평점 예측 후 RMSE 평가\n",
    "algo.fit(trainset)\n",
    "predictions = algo.test(testset)\n",
    "for i in range(10):\n",
    "    print(predictions[i])\n",
    "\n",
    "accuracy.rmse(predictions)"
   ]
  },
  {
   "cell_type": "code",
   "execution_count": 35,
   "id": "ebc50d35",
   "metadata": {},
   "outputs": [
    {
     "name": "stdout",
     "output_type": "stream",
     "text": [
      "71057\n"
     ]
    }
   ],
   "source": [
    "print(len(predictions))\n",
    "for i in range(71057):\n",
    "    if predictions[i][3] != 5:\n",
    "        print(predictions[i])\n",
    "#     print(predictions[i][2], predictions[i][3])"
   ]
  }
 ],
 "metadata": {
  "kernelspec": {
   "display_name": "Python 3 (ipykernel)",
   "language": "python",
   "name": "python3"
  },
  "language_info": {
   "codemirror_mode": {
    "name": "ipython",
    "version": 3
   },
   "file_extension": ".py",
   "mimetype": "text/x-python",
   "name": "python",
   "nbconvert_exporter": "python",
   "pygments_lexer": "ipython3",
   "version": "3.8.0"
  }
 },
 "nbformat": 4,
 "nbformat_minor": 5
}
