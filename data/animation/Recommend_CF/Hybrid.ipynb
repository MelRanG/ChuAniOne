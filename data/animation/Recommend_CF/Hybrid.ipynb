{
 "cells": [
  {
   "cell_type": "markdown",
   "id": "f321cb09",
   "metadata": {},
   "source": [
    "#  📌 하이브리드 추천 (SVD + TF-IDF)"
   ]
  },
  {
   "cell_type": "markdown",
   "id": "32100df0",
   "metadata": {},
   "source": [
    "## 1. 한 번만 실행"
   ]
  },
  {
   "cell_type": "markdown",
   "id": "ef856d02",
   "metadata": {},
   "source": [
    "### ✏️ DB 연결"
   ]
  },
  {
   "cell_type": "code",
   "execution_count": 1,
   "id": "3d60e14e",
   "metadata": {},
   "outputs": [],
   "source": [
    "import dotenv\n",
    "import os\n",
    "from pymongo import MongoClient\n",
    "\n",
    "# 환경변수 불러오기\n",
    "dotenv.load_dotenv(dotenv.find_dotenv())\n",
    "USER = os.environ[\"MONGODB_USER\"] # MongoDB user\n",
    "PASSWORD = os.environ[\"MONGODB_PW\"] # MongoDB password\n",
    "PORT = int(os.environ[\"MONGODB_PORT\"]) # MongoDB port\n",
    "\n",
    "# DB 연결\n",
    "client = MongoClient(\"mongodb://\" + USER + \":\" + PASSWORD + \"@j7e104.p.ssafy.io\", PORT)\n",
    "\n",
    "db = client.animation\n",
    "dbcol_detail = db.ani_info\n",
    "dbcol_review = db.review\n",
    "dbcol_feat = db.ani_feature"
   ]
  },
  {
   "cell_type": "markdown",
   "id": "a998d87d",
   "metadata": {},
   "source": [
    "### ✏️ import"
   ]
  },
  {
   "cell_type": "code",
   "execution_count": 2,
   "id": "324f8b75",
   "metadata": {},
   "outputs": [],
   "source": [
    "import pandas as pd\n",
    "import numpy as np\n",
    "from scipy.sparse.linalg import svds\n",
    "from sklearn.feature_extraction.text import TfidfVectorizer\n",
    "from sklearn.metrics.pairwise import cosine_similarity"
   ]
  },
  {
   "cell_type": "markdown",
   "id": "27c9f8a4",
   "metadata": {},
   "source": [
    "### ✏️ DataFrame 가져오고 columns 수정"
   ]
  },
  {
   "cell_type": "code",
   "execution_count": 3,
   "id": "16df6d21",
   "metadata": {},
   "outputs": [],
   "source": [
    "# 애니 정보 불러오기\n",
    "ani_df = pd.DataFrame(dbcol_detail.find({},{\"id\":1, \"name\":1, \"series_id\":1}))\n",
    "ani_df.drop('_id', axis = 1, inplace = True)\n",
    "ani_df.columns = [\"ani_id\", \"ani_name\", \"series_id\"]\n",
    "\n",
    "# 평가 데이터 불러오기\n",
    "profile = list(dbcol_review.find({}))\n",
    "rating_df = pd.DataFrame(profile)\n",
    "rating_df = rating_df[[\"profile\", \"animation\", \"score\"]]\n",
    "rating_df.columns = [\"user_id\", \"ani_id\", \"score\"]\n",
    "\n",
    "# 형태소 분석이 이뤄진 데이터 불러오기\n",
    "feat_df = pd.DataFrame(dbcol_feat.find({},{\"id\":1, \"feat_str\":1}))"
   ]
  },
  {
   "cell_type": "markdown",
   "id": "3d03bf63",
   "metadata": {},
   "source": [
    "### ✏️ Matrix로 변경"
   ]
  },
  {
   "cell_type": "code",
   "execution_count": 4,
   "id": "07312aa2",
   "metadata": {},
   "outputs": [],
   "source": [
    "# 사용자 - 애니 pivot table 생성\n",
    "user_ani_ratings_df = rating_df.pivot(\n",
    "    index='user_id',\n",
    "    columns='ani_id',\n",
    "    values='score'\n",
    ").fillna(0)"
   ]
  },
  {
   "cell_type": "markdown",
   "id": "02289159",
   "metadata": {},
   "source": [
    "### ✏️ id, idx, series, name, feat을 통해 다른 것을 찾는 코드들"
   ]
  },
  {
   "cell_type": "code",
   "execution_count": 5,
   "id": "06f88e8a",
   "metadata": {},
   "outputs": [],
   "source": [
    "ani_df_id_to_idx = dict(zip(ani_df[\"ani_id\"], ani_df.index))\n",
    "ani_df_idx_to_series = dict(zip(ani_df.index, ani_df[\"series_id\"]))\n",
    "ani_df_id_to_series = dict(zip(ani_df[\"ani_id\"], ani_df[\"series_id\"]))\n",
    "ani_df_id_to_name = dict(zip(ani_df[\"ani_id\"], ani_df[\"ani_name\"]))\n",
    "feat_df_id_to_idx = dict(zip(feat_df[\"id\"], feat_df.index))\n",
    "feat_df_idx_to_feat = dict(zip(feat_df.index, feat_df[\"feat_str\"]))"
   ]
  },
  {
   "cell_type": "markdown",
   "id": "d38e18e5",
   "metadata": {},
   "source": [
    "### ✏️ SVD를 활용한 애니메이션 30개 추천 함수"
   ]
  },
  {
   "cell_type": "code",
   "execution_count": 6,
   "id": "4746028d",
   "metadata": {},
   "outputs": [],
   "source": [
    "def recommend_ani(df_svd_preds, userId, ori_ani_df, ori_score_df):\n",
    "    \n",
    "    # 최종적으로 만든 pred_df에서 사용자 index에 따라 애니 데이터 정렬 -> 애니 평점이 높은 순으로 정렬 됌\n",
    "    sorted_user_predictions = df_svd_preds.loc[userId].sort_values(ascending=False)\n",
    "    print(sorted_user_predictions)\n",
    "    # 원본 평점 데이터에서 user id에 해당하는 데이터를 뽑아낸다. \n",
    "    user_data = ori_score_df[ori_score_df.user_id == userId]\n",
    "    \n",
    "    # 위에서 뽑은 user_data와 원본 애니 데이터를 합친다. \n",
    "    user_history = user_data.merge(ori_ani_df, on = 'ani_id').sort_values(['score'], ascending=False)\n",
    "    \n",
    "    # 유저가 이미 본 애니 id를 뽑는다. (TF-IDF에 사용)\n",
    "    user_history_list = user_history['ani_id'].values.tolist()\n",
    "    \n",
    "    # 유저가 이미 본 애니 series id를 뽑는다.\n",
    "    user_history_series_list_all = user_history['series_id'].values.tolist()\n",
    "    user_history_series_list = []\n",
    "    for id in user_history_series_list_all:\n",
    "        # 시리즈가 미리 추가되어 있지 않고 nan이 아니면 히스토리 시리즈 리스트에 추가\n",
    "        if id not in user_history_series_list and np.isnan(id) == False:\n",
    "            user_history_series_list.append(id)\n",
    "    \n",
    "    # 원본 애니 데이터에서 사용자가 본 애니 데이터를 제외한 데이터를 추출\n",
    "    recommendations = ori_ani_df[~ori_ani_df['ani_id'].isin(user_history['ani_id'])]\n",
    "    \n",
    "    # 사용자의 애니 평점이 높은 순으로 정렬된 데이터와 위 recommendations을 합친다. \n",
    "    recommendations = recommendations.merge(pd.DataFrame(sorted_user_predictions).reset_index(), on = 'ani_id')\n",
    "    \n",
    "    # 컬럼 이름 바꾸고 정렬해서 return\n",
    "    recommendation_list_all = list(recommendations.sort_values(userId, ascending = False)['ani_id'])\n",
    "\n",
    "    # 추천 애니메이션 저장 리스트\n",
    "    recommendation_list = []\n",
    "    \n",
    "    # 시리즈 저장 리스트\n",
    "    series_list = user_history_series_list[:]\n",
    "    \n",
    "    for id in recommendation_list_all:\n",
    "        \n",
    "        # 선택한 애니메이션의 인덱스 가져옴\n",
    "        idx = ani_df_id_to_idx[id]\n",
    "\n",
    "        # 해당 인덱스의 시리즈 아이디 가져옴\n",
    "        series = ani_df_idx_to_series[idx]\n",
    "        \n",
    "        # 시리즈가 미리 추가되어 있지 않다면 추천결과에 추가\n",
    "        if series not in series_list:\n",
    "            recommendation_list.append(id)\n",
    "            # nan이 아니면 시리즈 리스트에 추가\n",
    "            if np.isnan(series) == False:\n",
    "                series_list.append(series)\n",
    "        \n",
    "        # 30개가 추천되면 종료\n",
    "        if len(recommendation_list) == 30:\n",
    "            return user_history_list, recommendation_list"
   ]
  },
  {
   "cell_type": "markdown",
   "id": "c6bb8c77",
   "metadata": {},
   "source": [
    "### ✏️ TF-IDF를 활용한 애니메이션 30->14개 추천 함수"
   ]
  },
  {
   "cell_type": "code",
   "execution_count": 7,
   "id": "4e028679",
   "metadata": {},
   "outputs": [],
   "source": [
    "def recommend_ani_2(user_history_list, recommendation_list):\n",
    "    tf_idf_list = list()\n",
    "    user_feat = ''\n",
    "    for i in user_history_list:\n",
    "        idx = feat_df_id_to_idx[i]\n",
    "        feat = feat_df_idx_to_feat[idx]\n",
    "        user_feat += feat\n",
    "        user_feat += ' '\n",
    "    tf_idf_list.append(user_feat)\n",
    "    for j in recommendation_list:\n",
    "        idx = feat_df_id_to_idx[j]\n",
    "        reco_feat = feat_df_idx_to_feat[idx]\n",
    "        tf_idf_list.append(reco_feat)\n",
    "    \n",
    "    tf_idf = TfidfVectorizer()\n",
    "    tf_idf_matrix = tf_idf.fit_transform(tf_idf_list)\n",
    "    cosine_sim = cosine_similarity(tf_idf_matrix, tf_idf_matrix)\n",
    "    sim_scores = list(enumerate(cosine_sim[0]))\n",
    "    sim_scores = sorted(sim_scores, key=lambda x: x[1], reverse=True)\n",
    "    sim_scores = sim_scores[1:15]\n",
    "\n",
    "    id_list = list()\n",
    "    for num in range(14):\n",
    "        id_list.append(recommendation_list[sim_scores[num][0]-1])\n",
    "    \n",
    "    return id_list"
   ]
  },
  {
   "cell_type": "markdown",
   "id": "86d2a39b",
   "metadata": {},
   "source": [
    "## 2. 유저가 리뷰를 남길 때마다 실행"
   ]
  },
  {
   "cell_type": "markdown",
   "id": "94d46e9e",
   "metadata": {},
   "source": [
    "#### 1. 리뷰를 남기면 user_id, ani_id, score를 가지고 옴\n",
    "\n",
    "#### 2. DB와 rating_df에 데이터 추가\n",
    "\n",
    "#### 3. user_ani_rating_df의 index에 user_id가 없으면 0으로 이뤄진 행 추가 \n",
    "\n",
    "#### 4. 행(user_id), 열(ani_id)에 값을 0점에서 값(score)로 업데이트"
   ]
  },
  {
   "cell_type": "code",
   "execution_count": 8,
   "id": "0f8af598",
   "metadata": {},
   "outputs": [],
   "source": [
    "# 리뷰를 남기면 불러오기\n",
    "new_data = {\n",
    "#     \"user_id\" : 6000001,\n",
    "#     \"ani_id\" : 164,\n",
    "#     \"score\" : 4.0,\n",
    "    \n",
    "#     \"user_id\" : 6000002,\n",
    "#     \"ani_id\" : 9450,\n",
    "#     \"score\" : 4.0,\n",
    "    \n",
    "    \"user_id\" : 6000002,\n",
    "    \"ani_id\" : 41053,\n",
    "    \"score\" : 4.0,\n",
    "}\n",
    "\n",
    "# DB에 추가\n",
    "dbcol_review.insert_one({\"profile\": new_data[\"user_id\"], \"score\": new_data[\"score\"], \"animation\": new_data[\"ani_id\"]})\n",
    "\n",
    "# rating_df에 데이터 추가\n",
    "rating_data = [[new_data[\"user_id\"], new_data[\"ani_id\"], new_data[\"score\"]]]\n",
    "temp_col = ['user_id', 'ani_id', 'score']\n",
    "temp1 = pd.DataFrame(data=rating_data, columns=temp_col)\n",
    "rating_df = pd.concat([rating_df, temp1], ignore_index=True)\n",
    "\n",
    "# 리뷰를 처음 남기는 사람이라면 0으로 이뤄진 행 추가\n",
    "if new_data[\"user_id\"] not in user_ani_ratings_df.index:\n",
    "    temp = [0 for i in range(4586)]\n",
    "    temp2 = pd.DataFrame([temp], index=[new_data[\"user_id\"]], columns = user_ani_ratings_df.columns)\n",
    "    temp2.index.names = [\"user_id\"]\n",
    "    user_ani_ratings_df = pd.concat([user_ani_ratings_df, temp2])\n",
    "\n",
    "# 0점을 score값으로 변경\n",
    "user_ani_ratings_df.loc[new_data[\"user_id\"], new_data[\"ani_id\"]] = new_data[\"score\"]"
   ]
  },
  {
   "cell_type": "code",
   "execution_count": 9,
   "id": "31de856a",
   "metadata": {},
   "outputs": [],
   "source": [
    "# matrix는 pivot_table 값을 numpy matrix로 만든 것 \n",
    "matrix = user_ani_ratings_df.values\n",
    "\n",
    "# user_ratings_mean은 사용자의 평균 평점 \n",
    "user_ratings_mean = np.mean(matrix, axis = 1)\n",
    "\n",
    "# R_user_mean : 사용자-애니에 대해 사용자 평균 평점을 뺀 것.\n",
    "matrix_user_mean = matrix - user_ratings_mean.reshape(-1, 1)\n",
    "\n",
    "# U 행렬, sigma 행렬, V 전치 행렬을 반환.\n",
    "U, sigma, Vt = svds(matrix_user_mean, k = 12)\n",
    "\n",
    "# 위는 0이 아닌 값만 포함되었기에 0이 포함된 대칭행렬로 diag를 이용해 변환\n",
    "sigma = np.diag(sigma)\n",
    "\n",
    "# U, Sigma, Vt의 내적을 수행하면, 다시 원본 행렬로 복원이 된다. \n",
    "# 거기에 아까 평균을 빼었으니 다시 사용자 평균 rating 더한다. \n",
    "svd_user_predicted_ratings = np.dot(np.dot(U, sigma), Vt) + user_ratings_mean.reshape(-1, 1)\n",
    "df_svd_preds = pd.DataFrame(svd_user_predicted_ratings, index = user_ani_ratings_df.index, columns = user_ani_ratings_df.columns)"
   ]
  },
  {
   "cell_type": "code",
   "execution_count": 10,
   "id": "8c5aa0cd",
   "metadata": {},
   "outputs": [
    {
     "name": "stdout",
     "output_type": "stream",
     "text": [
      "ani_id\n",
      "16187    0.001019\n",
      "14619    0.001019\n",
      "15295    0.001019\n",
      "35645    0.001019\n",
      "14816    0.001019\n",
      "           ...   \n",
      "39431   -0.002254\n",
      "38921   -0.002323\n",
      "28764   -0.002731\n",
      "24217   -0.003560\n",
      "40110   -0.003749\n",
      "Name: 6000002, Length: 4586, dtype: float64\n"
     ]
    }
   ],
   "source": [
    "# input_user_id = 4523846\n",
    "# input_user_id = 4810880\n",
    "# input_user_id = 6000001\n",
    "input_user_id = new_data[\"user_id\"]\n",
    "\n",
    "user_history_list, recommendation_list = recommend_ani(df_svd_preds, input_user_id, ani_df, rating_df)\n",
    "\n",
    "# 최종 추천 애니 id 리스트\n",
    "id_list = recommend_ani_2(user_history_list, recommendation_list)"
   ]
  },
  {
   "cell_type": "code",
   "execution_count": 11,
   "id": "ff6fe42d",
   "metadata": {},
   "outputs": [
    {
     "name": "stdout",
     "output_type": "stream",
     "text": [
      "##### 내가 본 애니!\n",
      "(자막) 이 멋진 세계에 축복을! 1기 OVA\n",
      " \n",
      "##### 추천받은 애니!\n",
      "세기말구세주전설 북두의 권\n",
      "77단의 비밀\n",
      "구피와 도날드\n",
      "괴수 대전쟁\n",
      "태권동자 마루치 아라치\n",
      "은하철도 999:유리의 클레어\n",
      "독수리 오형제 F\n",
      "스머프와 마술피리\n",
      "84태권V\n",
      "초합금로보트 쏠라 원투쓰리\n",
      "사이보그 009 1979년판\n",
      "캡틴 아메리카\n",
      "레이디와 트램프\n",
      "트랜스포머\n"
     ]
    }
   ],
   "source": [
    "print(\"##### 내가 본 애니!\")\n",
    "for result in user_history_list:\n",
    "    print(ani_df_id_to_name[result])\n",
    "print(\" \")\n",
    "print(\"##### 추천받은 애니!\")\n",
    "for result in id_list:\n",
    "    print(ani_df_id_to_name[result])"
   ]
  },
  {
   "cell_type": "code",
   "execution_count": 16,
   "id": "e1872a35",
   "metadata": {},
   "outputs": [],
   "source": [
    "# user_ani_ratings_df\n",
    "# dbcol_review.find_one({\"profile\": new_data[\"user_id\"]})\n",
    "# dbcol_review.insert_one({\"profile\": new_data[\"user_id\"], \"score\": new_data[\"score\"], \"animation\": new_data[\"ani_id\"]})\n",
    "# dbcol_review.delete_one({\"profile\": new_data[\"user_id\"]})"
   ]
  }
 ],
 "metadata": {
  "kernelspec": {
   "display_name": "Python 3 (ipykernel)",
   "language": "python",
   "name": "python3"
  },
  "language_info": {
   "codemirror_mode": {
    "name": "ipython",
    "version": 3
   },
   "file_extension": ".py",
   "mimetype": "text/x-python",
   "name": "python",
   "nbconvert_exporter": "python",
   "pygments_lexer": "ipython3",
   "version": "3.8.0"
  }
 },
 "nbformat": 4,
 "nbformat_minor": 5
}
