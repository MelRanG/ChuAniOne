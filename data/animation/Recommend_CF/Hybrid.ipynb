{
 "cells": [
  {
   "cell_type": "markdown",
   "id": "f321cb09",
   "metadata": {},
   "source": [
    "#  📌 하이브리드 추천 (SVD + TF-IDF)"
   ]
  },
  {
   "cell_type": "markdown",
   "id": "32100df0",
   "metadata": {},
   "source": [
    "## 1. 한 번만 실행"
   ]
  },
  {
   "cell_type": "markdown",
   "id": "ef856d02",
   "metadata": {},
   "source": [
    "### ✏️ DB 연결"
   ]
  },
  {
   "cell_type": "code",
   "execution_count": 1,
   "id": "3d60e14e",
   "metadata": {},
   "outputs": [],
   "source": [
    "import dotenv\n",
    "import os\n",
    "from pymongo import MongoClient\n",
    "\n",
    "# 환경변수 불러오기\n",
    "dotenv.load_dotenv(dotenv.find_dotenv())\n",
    "USER = os.environ[\"MONGODB_USER\"] # MongoDB user\n",
    "PASSWORD = os.environ[\"MONGODB_PW\"] # MongoDB password\n",
    "PORT = int(os.environ[\"MONGODB_PORT\"]) # MongoDB port\n",
    "\n",
    "# DB 연결\n",
    "client = MongoClient(\"mongodb://\" + USER + \":\" + PASSWORD + \"@j7e104.p.ssafy.io\", PORT)\n",
    "\n",
    "db = client.animation\n",
    "dbcol_detail = db.ani_info\n",
    "dbcol_review = db.review\n",
    "dbcol_feat = db.ani_feature"
   ]
  },
  {
   "cell_type": "markdown",
   "id": "a998d87d",
   "metadata": {},
   "source": [
    "### ✏️ import"
   ]
  },
  {
   "cell_type": "code",
   "execution_count": 2,
   "id": "324f8b75",
   "metadata": {},
   "outputs": [],
   "source": [
    "import pandas as pd\n",
    "import numpy as np\n",
    "from scipy.sparse.linalg import svds\n",
    "from sklearn.feature_extraction.text import TfidfVectorizer\n",
    "from sklearn.metrics.pairwise import cosine_similarity"
   ]
  },
  {
   "cell_type": "markdown",
   "id": "27c9f8a4",
   "metadata": {},
   "source": [
    "### ✏️ DataFrame 가져오고 columns 수정"
   ]
  },
  {
   "cell_type": "code",
   "execution_count": 3,
   "id": "16df6d21",
   "metadata": {},
   "outputs": [],
   "source": [
    "# 애니 정보 불러오기\n",
    "ani_df = pd.DataFrame(dbcol_detail.find({},{\"id\":1, \"name\":1, \"series_id\":1}))\n",
    "ani_df.drop('_id', axis = 1, inplace = True)\n",
    "ani_df.columns = [\"ani_id\", \"ani_name\", \"series_id\"]\n",
    "\n",
    "# 평가 데이터 불러오기\n",
    "profile = list(dbcol_review.find({}))\n",
    "rating_df = pd.DataFrame(profile)\n",
    "rating_df = rating_df[[\"profile\", \"animation\", \"score\"]]\n",
    "rating_df.columns = [\"user_id\", \"ani_id\", \"score\"]\n",
    "\n",
    "# 형태소 분석이 이뤄진 데이터 불러오기\n",
    "feat_df = pd.DataFrame(dbcol_feat.find({},{\"id\":1, \"feat_str\":1}))"
   ]
  },
  {
   "cell_type": "markdown",
   "id": "3d03bf63",
   "metadata": {},
   "source": [
    "### ✏️ Matrix로 변경"
   ]
  },
  {
   "cell_type": "code",
   "execution_count": 4,
   "id": "07312aa2",
   "metadata": {},
   "outputs": [],
   "source": [
    "# 사용자 - 애니 pivot table 생성\n",
    "user_ani_ratings_df = rating_df.pivot(\n",
    "    index='user_id',\n",
    "    columns='ani_id',\n",
    "    values='score'\n",
    ").fillna(0)"
   ]
  },
  {
   "cell_type": "markdown",
   "id": "02289159",
   "metadata": {},
   "source": [
    "### ✏️ id, idx, series, name, feat을 통해 다른 것을 찾는 코드들"
   ]
  },
  {
   "cell_type": "code",
   "execution_count": 5,
   "id": "06f88e8a",
   "metadata": {},
   "outputs": [],
   "source": [
    "ani_df_id_to_idx = dict(zip(ani_df[\"ani_id\"], ani_df.index))\n",
    "ani_df_idx_to_series = dict(zip(ani_df.index, ani_df[\"series_id\"]))\n",
    "ani_df_id_to_series = dict(zip(ani_df[\"ani_id\"], ani_df[\"series_id\"]))\n",
    "ani_df_id_to_name = dict(zip(ani_df[\"ani_id\"], ani_df[\"ani_name\"]))\n",
    "feat_df_id_to_idx = dict(zip(feat_df[\"id\"], feat_df.index))\n",
    "feat_df_idx_to_feat = dict(zip(feat_df.index, feat_df[\"feat_str\"]))"
   ]
  },
  {
   "cell_type": "markdown",
   "id": "d38e18e5",
   "metadata": {},
   "source": [
    "### ✏️ SVD를 활용한 애니메이션 30개 추천 함수"
   ]
  },
  {
   "cell_type": "code",
   "execution_count": 6,
   "id": "4746028d",
   "metadata": {},
   "outputs": [],
   "source": [
    "def recommend_ani(df_svd_preds, userId, ori_ani_df, ori_score_df):\n",
    "    \n",
    "    # 최종적으로 만든 pred_df에서 사용자 index에 따라 애니 데이터 정렬 -> 애니 평점이 높은 순으로 정렬 됌\n",
    "    sorted_user_predictions = df_svd_preds.loc[userId].sort_values(ascending=False)\n",
    "    \n",
    "    # 원본 평점 데이터에서 user id에 해당하는 데이터를 뽑아낸다. \n",
    "    user_data = ori_score_df[ori_score_df.user_id == userId]\n",
    "    \n",
    "    # 위에서 뽑은 user_data와 원본 애니 데이터를 합친다. \n",
    "    user_history = user_data.merge(ori_ani_df, on = 'ani_id').sort_values(['score'], ascending=False)\n",
    "    \n",
    "    # 유저가 이미 본 애니 id를 뽑는다. (TF-IDF에 사용)\n",
    "    user_history_list = user_history['ani_id'].values.tolist()\n",
    "    \n",
    "    # 유저가 이미 본 애니 series id를 뽑는다.\n",
    "    user_history_series_list_all = user_history['series_id'].values.tolist()\n",
    "    user_history_series_list = []\n",
    "    for id in user_history_series_list_all:\n",
    "        # 시리즈가 미리 추가되어 있지 않고 nan이 아니면 히스토리 시리즈 리스트에 추가\n",
    "        if id not in user_history_series_list and np.isnan(id) == False:\n",
    "            user_history_series_list.append(id)\n",
    "    \n",
    "    # 원본 애니 데이터에서 사용자가 본 애니 데이터를 제외한 데이터를 추출\n",
    "    recommendations = ori_ani_df[~ori_ani_df['ani_id'].isin(user_history['ani_id'])]\n",
    "    \n",
    "    # 사용자의 애니 평점이 높은 순으로 정렬된 데이터와 위 recommendations을 합친다. \n",
    "    recommendations = recommendations.merge(pd.DataFrame(sorted_user_predictions).reset_index(), on = 'ani_id')\n",
    "    \n",
    "    # 컬럼 이름 바꾸고 정렬해서 return\n",
    "    recommendation_list_all = list(recommendations.sort_values(userId, ascending = False)['ani_id'])\n",
    "\n",
    "    # 추천 애니메이션 저장 리스트\n",
    "    recommendation_list = []\n",
    "    \n",
    "    # 시리즈 저장 리스트\n",
    "    series_list = user_history_series_list[:]\n",
    "    \n",
    "    for id in recommendation_list_all:\n",
    "        \n",
    "        # 선택한 애니메이션의 인덱스 가져옴\n",
    "        idx = ani_df_id_to_idx[id]\n",
    "\n",
    "        # 해당 인덱스의 시리즈 아이디 가져옴\n",
    "        series = ani_df_idx_to_series[idx]\n",
    "        \n",
    "        # 시리즈가 미리 추가되어 있지 않다면 추천결과에 추가\n",
    "        if series not in series_list:\n",
    "            recommendation_list.append(id)\n",
    "            # nan이 아니면 시리즈 리스트에 추가\n",
    "            if np.isnan(series) == False:\n",
    "                series_list.append(series)\n",
    "        \n",
    "        # 30개가 추천되면 종료\n",
    "        if len(recommendation_list) == 30:\n",
    "            return user_history_list, recommendation_list"
   ]
  },
  {
   "cell_type": "markdown",
   "id": "c6bb8c77",
   "metadata": {},
   "source": [
    "### ✏️ TF-IDF를 활용한 애니메이션 30->14개 추천 함수"
   ]
  },
  {
   "cell_type": "code",
   "execution_count": 16,
   "id": "4e028679",
   "metadata": {},
   "outputs": [],
   "source": [
    "def recommend_ani_2(user_history_list, recommendation_list):\n",
    "    tf_idf_list = list()\n",
    "    user_feat = ''\n",
    "    for i in user_history_list:\n",
    "        idx = feat_df_id_to_idx[i]\n",
    "        feat = feat_df_idx_to_feat[idx]\n",
    "        user_feat += feat\n",
    "        user_feat += ' '\n",
    "    tf_idf_list.append(user_feat)\n",
    "    for j in recommendation_list:\n",
    "        idx = feat_df_id_to_idx[j]\n",
    "        reco_feat = feat_df_idx_to_feat[idx]\n",
    "        tf_idf_list.append(reco_feat)\n",
    "    \n",
    "    tf_idf = TfidfVectorizer()\n",
    "    tf_idf_matrix = tf_idf.fit_transform(tf_idf_list)\n",
    "    cosine_sim = cosine_similarity(tf_idf_matrix, tf_idf_matrix)\n",
    "    sim_scores = list(enumerate(cosine_sim[0]))\n",
    "    sim_scores = sorted(sim_scores, key=lambda x: x[1], reverse=True)\n",
    "    sim_scores = sim_scores[1:15]\n",
    "\n",
    "    id_list = list()\n",
    "    for num in range(14):\n",
    "        id_list.append(recommendation_list[sim_scores[num][0]-1])\n",
    "    \n",
    "    return id_list"
   ]
  },
  {
   "cell_type": "markdown",
   "id": "86d2a39b",
   "metadata": {},
   "source": [
    "## 2. 유저가 리뷰를 남길 때마다 실행?"
   ]
  },
  {
   "cell_type": "markdown",
   "id": "94d46e9e",
   "metadata": {},
   "source": [
    "#### 1. 리뷰를 남기면 DB와 rating_df에 데이터 추가\n",
    "\n",
    "#### 2-1. user_ani_rating_df에 행(user_id), 열(ani_id), 값(score)를 추가\n",
    "#### 2-2. 만약 리뷰를 남긴 적이 있으면 score의 값을 0점에서 평가점수로 업데이트"
   ]
  },
  {
   "cell_type": "code",
   "execution_count": 30,
   "id": "31de856a",
   "metadata": {},
   "outputs": [],
   "source": [
    "# matrix는 pivot_table 값을 numpy matrix로 만든 것 \n",
    "matrix = user_ani_ratings_df.values\n",
    "\n",
    "# user_ratings_mean은 사용자의 평균 평점 \n",
    "user_ratings_mean = np.mean(matrix, axis = 1)\n",
    "\n",
    "# R_user_mean : 사용자-애니에 대해 사용자 평균 평점을 뺀 것.\n",
    "matrix_user_mean = matrix - user_ratings_mean.reshape(-1, 1)\n",
    "\n",
    "# U 행렬, sigma 행렬, V 전치 행렬을 반환.\n",
    "U, sigma, Vt = svds(matrix_user_mean, k = 12)\n",
    "\n",
    "# 위는 0이 아닌 값만 포함되었기에 0이 포함된 대칭행렬로 diag를 이용해 변환\n",
    "sigma = np.diag(sigma)\n",
    "\n",
    "# U, Sigma, Vt의 내적을 수행하면, 다시 원본 행렬로 복원이 된다. \n",
    "# 거기에 아까 평균을 빼었으니 다시 사용자 평균 rating 더한다. \n",
    "svd_user_predicted_ratings = np.dot(np.dot(U, sigma), Vt) + user_ratings_mean.reshape(-1, 1)\n",
    "df_svd_preds = pd.DataFrame(svd_user_predicted_ratings, index = user_ani_ratings_df.index, columns = user_ani_ratings_df.columns)"
   ]
  },
  {
   "cell_type": "code",
   "execution_count": 21,
   "id": "8c5aa0cd",
   "metadata": {},
   "outputs": [],
   "source": [
    "# input_user_id = 4523846\n",
    "input_user_id = 4810880\n",
    "\n",
    "user_history_list, recommendation_list = recommend_ani(df_svd_preds, input_user_id, ani_df, rating_df)\n",
    "id_list = recommend_ani_2(user_history_list, recommendation_list)"
   ]
  },
  {
   "cell_type": "code",
   "execution_count": 24,
   "id": "ff6fe42d",
   "metadata": {},
   "outputs": [
    {
     "name": "stdout",
     "output_type": "stream",
     "text": [
      "##### 내가 본 애니!\n",
      "귀멸의 칼날 : 환락의 거리편\n",
      "호리미야\n",
      "(자막) 극장판 원피스 1기 : 황금의 대해적 우난\n",
      "나루토 1기\n",
      "청춘 돼지는 바니걸 선배의 꿈을 꾸지 않는다\n",
      "진격의 거인 The FINAL part 2\n",
      "단간론파 : 희망의 학교와 절망의 고교생\n",
      "나루토 질풍전 1기\n",
      "주술회전 part 1\n",
      "신의 탑\n",
      "(자막) 시간을 달리는 소녀\n",
      "글레이프니르\n",
      "역시 내 청춘 러브코메디는 잘못됐다. 속 - 판권 부활\n",
      "역시 내 청춘 러브코메디는 잘못됐다. 완\n",
      "역시 내 청춘 러브코메디는 잘못됐다.\n",
      "원펀맨\n",
      "어서오세요 실력 지상주의 교실에\n",
      "도쿄 리벤저스 part 1\n",
      "약속의 네버랜드 1기\n",
      "무직전생 : 이세계에 갔으면 최선을 다한다 1기\n",
      "쓰레기의 본망\n",
      "Re : 제로부터 시작하는 이세계 생활 감독판\n",
      "달링 인 더 프랑키스\n",
      "우리들의 리메이크\n",
      "친구 게임\n",
      "도메스틱한 그녀\n",
      "이윽고 네가 된다\n",
      "옆자리 괴물군\n",
      "살육의 천사\n",
      "그녀도 여친\n",
      "귀엽기만 한 게 아닌 시키모리 양\n",
      "소꿉친구가 절대로 지지 않는 러브 코미디\n",
      " \n",
      "##### 추천받은 애니!\n",
      "(자막) 나의 히어로 아카데미아 5기\n",
      "괴물사변\n",
      "(자막) 이 멋진 세계에 축복을! 1기\n",
      "방패 용사 성공담 Season 1\n",
      "전생했더니 슬라임이었던 건에 대하여 2기 1부\n",
      "카구야 님은 고백받고 싶어 ~천재들의 연애 두뇌전~ 2기\n",
      "나만이 없는 거리\n",
      "불멸의 그대에게 part 1\n",
      "목소리의 형태\n",
      "어쨌든 귀여워\n",
      "소드 아트 온라인 1기\n",
      "4월은 너의 거짓말\n",
      "암살교실 1기\n",
      "월간순정 노자키 군\n"
     ]
    }
   ],
   "source": [
    "print(\"##### 내가 본 애니!\")\n",
    "for result in user_history_list:\n",
    "    print(ani_df_id_to_name[result])\n",
    "print(\" \")\n",
    "print(\"##### 추천받은 애니!\")\n",
    "for result in id_list:\n",
    "    print(ani_df_id_to_name[result])"
   ]
  },
  {
   "cell_type": "code",
   "execution_count": null,
   "id": "16f2d926",
   "metadata": {},
   "outputs": [],
   "source": []
  }
 ],
 "metadata": {
  "kernelspec": {
   "display_name": "Python 3 (ipykernel)",
   "language": "python",
   "name": "python3"
  },
  "language_info": {
   "codemirror_mode": {
    "name": "ipython",
    "version": 3
   },
   "file_extension": ".py",
   "mimetype": "text/x-python",
   "name": "python",
   "nbconvert_exporter": "python",
   "pygments_lexer": "ipython3",
   "version": "3.8.0"
  }
 },
 "nbformat": 4,
 "nbformat_minor": 5
}
