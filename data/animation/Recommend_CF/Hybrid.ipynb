{
 "cells": [
  {
   "cell_type": "markdown",
   "id": "f321cb09",
   "metadata": {},
   "source": [
    "#  📌 하이브리드 추천 (SVD + TF-IDF)"
   ]
  },
  {
   "cell_type": "markdown",
   "id": "32100df0",
   "metadata": {},
   "source": [
    "## 1. 한 번만 실행"
   ]
  },
  {
   "cell_type": "markdown",
   "id": "ef856d02",
   "metadata": {},
   "source": [
    "### ✏️ DB 연결"
   ]
  },
  {
   "cell_type": "code",
   "execution_count": 193,
   "id": "3d60e14e",
   "metadata": {},
   "outputs": [],
   "source": [
    "import dotenv\n",
    "import os\n",
    "from pymongo import MongoClient\n",
    "\n",
    "# 환경변수 불러오기\n",
    "dotenv.load_dotenv(dotenv.find_dotenv())\n",
    "USER = os.environ[\"MONGODB_USER\"] # MongoDB user\n",
    "PASSWORD = os.environ[\"MONGODB_PW\"] # MongoDB password\n",
    "PORT = int(os.environ[\"MONGODB_PORT\"]) # MongoDB port\n",
    "\n",
    "# DB 연결\n",
    "client = MongoClient(\"mongodb://\" + USER + \":\" + PASSWORD + \"@j7e104.p.ssafy.io\", PORT)\n",
    "\n",
    "db = client.animation\n",
    "dbcol_detail = db.ani_info\n",
    "dbcol_review = db.review\n",
    "dbcol_feat = db.ani_feature"
   ]
  },
  {
   "cell_type": "markdown",
   "id": "a998d87d",
   "metadata": {},
   "source": [
    "### ✏️ import"
   ]
  },
  {
   "cell_type": "code",
   "execution_count": 194,
   "id": "324f8b75",
   "metadata": {},
   "outputs": [],
   "source": [
    "import pandas as pd\n",
    "import numpy as np\n",
    "from scipy.sparse.linalg import svds\n",
    "from sklearn.feature_extraction.text import TfidfVectorizer\n",
    "from sklearn.metrics.pairwise import cosine_similarity"
   ]
  },
  {
   "cell_type": "markdown",
   "id": "27c9f8a4",
   "metadata": {},
   "source": [
    "### ✏️ DataFrame 가져오고 columns 수정"
   ]
  },
  {
   "cell_type": "code",
   "execution_count": 195,
   "id": "16df6d21",
   "metadata": {},
   "outputs": [],
   "source": [
    "# 애니 정보 불러오기\n",
    "ani_df = pd.DataFrame(dbcol_detail.find({},{\"id\":1, \"name\":1, \"series_id\":1}))\n",
    "ani_df.drop('_id', axis = 1, inplace = True)\n",
    "ani_df.columns = [\"ani_id\", \"ani_name\", \"series_id\"]\n",
    "\n",
    "# 평가 데이터 불러오기\n",
    "profile = list(dbcol_review.find({}))\n",
    "rating_df = pd.DataFrame(profile)\n",
    "rating_df = rating_df[[\"profile\", \"animation\", \"score\"]]\n",
    "rating_df.columns = [\"user_id\", \"ani_id\", \"score\"]\n",
    "# rating_df = rating_df.sort_values(by = [\"user_id\", \"ani_id\"])\n",
    "\n",
    "# 형태소 분석이 이뤄진 데이터 불러오기\n",
    "feat_df = pd.DataFrame(dbcol_feat.find({},{\"id\":1, \"feat_str\":1}))"
   ]
  },
  {
   "cell_type": "markdown",
   "id": "3d03bf63",
   "metadata": {},
   "source": [
    "### ✏️ Matrix로 변경"
   ]
  },
  {
   "cell_type": "code",
   "execution_count": 196,
   "id": "07312aa2",
   "metadata": {},
   "outputs": [],
   "source": [
    "# 사용자 - 애니 pivot table 생성\n",
    "user_ani_ratings_df = rating_df.pivot(\n",
    "    index='user_id',\n",
    "    columns='ani_id',\n",
    "    values='score'\n",
    ").fillna(0)"
   ]
  },
  {
   "cell_type": "markdown",
   "id": "02289159",
   "metadata": {},
   "source": [
    "### ✏️ id, idx, series, name, feat을 통해 다른 것을 찾는 코드들"
   ]
  },
  {
   "cell_type": "code",
   "execution_count": 197,
   "id": "06f88e8a",
   "metadata": {},
   "outputs": [],
   "source": [
    "ani_df_id_to_idx = dict(zip(ani_df[\"ani_id\"], ani_df.index))\n",
    "ani_df_idx_to_series = dict(zip(ani_df.index, ani_df[\"series_id\"]))\n",
    "ani_df_id_to_series = dict(zip(ani_df[\"ani_id\"], ani_df[\"series_id\"]))\n",
    "ani_df_id_to_name = dict(zip(ani_df[\"ani_id\"], ani_df[\"ani_name\"]))\n",
    "feat_df_id_to_idx = dict(zip(feat_df[\"id\"], feat_df.index))\n",
    "feat_df_idx_to_feat = dict(zip(feat_df.index, feat_df[\"feat_str\"]))"
   ]
  },
  {
   "cell_type": "markdown",
   "id": "d38e18e5",
   "metadata": {},
   "source": [
    "### ✏️ SVD를 활용한 애니메이션 30개 추천 함수"
   ]
  },
  {
   "cell_type": "code",
   "execution_count": 200,
   "id": "4746028d",
   "metadata": {},
   "outputs": [],
   "source": [
    "def recommend_ani(df_svd_preds, userId, ori_ani_df, ori_score_df, n):\n",
    "    \n",
    "    # 최종적으로 만든 pred_df에서 사용자 index에 따라 애니 데이터 정렬 -> 애니 평점이 높은 순으로 정렬 됌\n",
    "    sorted_user_predictions = df_svd_preds.loc[userId].sort_values(ascending=False)\n",
    "    print(sorted_user_predictions)\n",
    "    # 원본 평점 데이터에서 user id에 해당하는 데이터를 뽑아낸다. \n",
    "    user_data = ori_score_df[ori_score_df.user_id == userId]\n",
    "    \n",
    "    # 위에서 뽑은 user_data와 원본 애니 데이터를 합친다. \n",
    "    user_history = user_data.merge(ori_ani_df, on = 'ani_id').sort_values(['score'], ascending=False)\n",
    "    \n",
    "    # 유저가 이미 본 애니 id를 뽑는다. (TF-IDF에 사용)\n",
    "    user_history_list = user_history['ani_id'].values.tolist()\n",
    "    \n",
    "    # 유저가 이미 본 애니 series id를 뽑는다.\n",
    "    user_history_series_list_all = user_history['series_id'].values.tolist()\n",
    "    user_history_series_list = []\n",
    "    for id in user_history_series_list_all:\n",
    "        # 시리즈가 미리 추가되어 있지 않고 nan이 아니면 히스토리 시리즈 리스트에 추가\n",
    "        if id not in user_history_series_list and np.isnan(id) == False:\n",
    "            user_history_series_list.append(id)\n",
    "    \n",
    "    # 원본 애니 데이터에서 사용자가 본 애니 데이터를 제외한 데이터를 추출\n",
    "    recommendations = ori_ani_df[~ori_ani_df['ani_id'].isin(user_history['ani_id'])]\n",
    "    \n",
    "    # 사용자의 애니 평점이 높은 순으로 정렬된 데이터와 위 recommendations을 합친다. \n",
    "    recommendations = recommendations.merge(pd.DataFrame(sorted_user_predictions).reset_index(), on = 'ani_id')\n",
    "    \n",
    "    # 컬럼 이름 바꾸고 정렬해서 return\n",
    "    recommendation_list_all = list(recommendations.sort_values(userId, ascending = False)['ani_id'])\n",
    "\n",
    "    # 추천 애니메이션 저장 리스트\n",
    "    recommendation_list = []\n",
    "    \n",
    "    # 시리즈 저장 리스트\n",
    "    series_list = user_history_series_list[:]\n",
    "    \n",
    "    for id in recommendation_list_all:\n",
    "        \n",
    "        # 선택한 애니메이션의 인덱스 가져옴\n",
    "        idx = ani_df_id_to_idx[id]\n",
    "\n",
    "        # 해당 인덱스의 시리즈 아이디 가져옴\n",
    "        series = ani_df_idx_to_series[idx]\n",
    "        \n",
    "        # 시리즈가 미리 추가되어 있지 않다면 추천결과에 추가\n",
    "        if series not in series_list:\n",
    "            recommendation_list.append(id)\n",
    "            # nan이 아니면 시리즈 리스트에 추가\n",
    "            if np.isnan(series) == False:\n",
    "                series_list.append(series)\n",
    "        \n",
    "        # 30개가 추천되면 종료\n",
    "        if len(recommendation_list) == n:\n",
    "            return user_history_list, recommendation_list"
   ]
  },
  {
   "cell_type": "markdown",
   "id": "c6bb8c77",
   "metadata": {},
   "source": [
    "### ✏️ TF-IDF를 활용한 애니메이션 30->14개 추천 함수"
   ]
  },
  {
   "cell_type": "code",
   "execution_count": 208,
   "id": "4e028679",
   "metadata": {},
   "outputs": [],
   "source": [
    "def recommend_ani_2(user_history_list, recommendation_list, n):\n",
    "    tf_idf_list = list()\n",
    "    user_feat = ''\n",
    "    for i in user_history_list:\n",
    "        idx = feat_df_id_to_idx[i]\n",
    "        feat = feat_df_idx_to_feat[idx]\n",
    "        user_feat += feat\n",
    "        user_feat += ' '\n",
    "    tf_idf_list.append(user_feat)\n",
    "    for j in recommendation_list:\n",
    "        idx = feat_df_id_to_idx[j]\n",
    "        reco_feat = feat_df_idx_to_feat[idx]\n",
    "        tf_idf_list.append(reco_feat)\n",
    "    \n",
    "    tf_idf = TfidfVectorizer()\n",
    "    tf_idf_matrix = tf_idf.fit_transform(tf_idf_list)\n",
    "    cosine_sim = cosine_similarity(tf_idf_matrix, tf_idf_matrix)\n",
    "    sim_scores = list(enumerate(cosine_sim[0]))\n",
    "    sim_scores = sorted(sim_scores, key=lambda x: x[1], reverse=True)\n",
    "    sim_scores = sim_scores[1:(n+1)]\n",
    "\n",
    "    id_list = list()\n",
    "    for num in range(n):\n",
    "        id_list.append(recommendation_list[sim_scores[num][0]-1])\n",
    "    \n",
    "    return id_list"
   ]
  },
  {
   "cell_type": "markdown",
   "id": "86d2a39b",
   "metadata": {},
   "source": [
    "## 2. 유저가 리뷰를 남길 때마다 실행"
   ]
  },
  {
   "cell_type": "markdown",
   "id": "94d46e9e",
   "metadata": {},
   "source": [
    "#### 1. 리뷰를 남기면 user_id, ani_id, score를 가지고 옴\n",
    "\n",
    "#### 2. DB와 rating_df에 데이터 추가\n",
    "\n",
    "#### 3. user_ani_rating_df의 index에 user_id가 없으면 0으로 이뤄진 행 추가 \n",
    "\n",
    "#### 4. 행(user_id), 열(ani_id)에 값을 0점에서 값(score)로 업데이트"
   ]
  },
  {
   "cell_type": "code",
   "execution_count": 202,
   "id": "0f8af598",
   "metadata": {},
   "outputs": [],
   "source": [
    "# 리뷰를 남기면 불러오기\n",
    "new_data = {\n",
    "    \"user_id\" : 6000001,\n",
    "    \"ani_id\" : 164,\n",
    "    \"score\" : 4.0,\n",
    "    \n",
    "#     \"user_id\" : 6000002,\n",
    "#     \"ani_id\" : 9450,\n",
    "#     \"score\" : 4.0,\n",
    "    \n",
    "#     \"user_id\" : 6000002,\n",
    "#     \"ani_id\" : 41053,\n",
    "#     \"score\" : 4.0,\n",
    "}\n",
    "\n",
    "# DB에 추가\n",
    "dbcol_review.insert_one({\"profile\": new_data[\"user_id\"], \"score\": new_data[\"score\"], \"animation\": new_data[\"ani_id\"]})\n",
    "\n",
    "# rating_df에 데이터 추가\n",
    "rating_data = [[new_data[\"user_id\"], new_data[\"ani_id\"], new_data[\"score\"]]]\n",
    "temp_col = ['user_id', 'ani_id', 'score']\n",
    "temp1 = pd.DataFrame(data=rating_data, columns=temp_col)\n",
    "rating_df = pd.concat([rating_df, temp1], ignore_index=True)\n",
    "\n",
    "# 리뷰를 처음 남기는 사람이라면 0으로 이뤄진 행 추가\n",
    "if new_data[\"user_id\"] not in user_ani_ratings_df.index:\n",
    "    temp = [0 for i in range(4586)]\n",
    "    temp2 = pd.DataFrame([temp], index=[new_data[\"user_id\"]], columns = user_ani_ratings_df.columns)\n",
    "    temp2.index.names = [\"user_id\"]\n",
    "    user_ani_ratings_df = pd.concat([user_ani_ratings_df, temp2])\n",
    "\n",
    "# 0점을 score값으로 변경\n",
    "user_ani_ratings_df.loc[new_data[\"user_id\"], new_data[\"ani_id\"]] = new_data[\"score\"]"
   ]
  },
  {
   "cell_type": "code",
   "execution_count": 203,
   "id": "31de856a",
   "metadata": {},
   "outputs": [],
   "source": [
    "# matrix는 pivot_table 값을 numpy matrix로 만든 것 \n",
    "matrix = user_ani_ratings_df.values\n",
    "\n",
    "# user_ratings_mean은 사용자의 평균 평점 \n",
    "user_ratings_mean = np.mean(matrix, axis = 1)\n",
    "\n",
    "# R_user_mean : 사용자-애니에 대해 사용자 평균 평점을 뺀 것.\n",
    "matrix_user_mean = matrix - user_ratings_mean.reshape(-1, 1)\n",
    "\n",
    "# U 행렬, sigma 행렬, V 전치 행렬을 반환.\n",
    "U, sigma, Vt = svds(matrix_user_mean, k = 12)\n",
    "\n",
    "# 위는 0이 아닌 값만 포함되었기에 0이 포함된 대칭행렬로 diag를 이용해 변환\n",
    "sigma = np.diag(sigma)\n",
    "\n",
    "# U, Sigma, Vt의 내적을 수행하면, 다시 원본 행렬로 복원이 된다. \n",
    "# 거기에 아까 평균을 빼었으니 다시 사용자 평균 rating 더한다. \n",
    "svd_user_predicted_ratings = np.dot(np.dot(U, sigma), Vt) + user_ratings_mean.reshape(-1, 1)\n",
    "df_svd_preds = pd.DataFrame(svd_user_predicted_ratings, index = user_ani_ratings_df.index, columns = user_ani_ratings_df.columns)"
   ]
  },
  {
   "cell_type": "code",
   "execution_count": 204,
   "id": "1f761d1d",
   "metadata": {},
   "outputs": [],
   "source": [
    "# pd.DataFrame(matrix_user_mean, index = user_ani_ratings_df.index, columns = user_ani_ratings_df.columns)\n",
    "# df_svd_preds\n",
    "# svd_user_predicted_ratings"
   ]
  },
  {
   "cell_type": "code",
   "execution_count": 205,
   "id": "8c5aa0cd",
   "metadata": {},
   "outputs": [
    {
     "name": "stdout",
     "output_type": "stream",
     "text": [
      "ani_id\n",
      "24217    0.003099\n",
      "23661    0.002654\n",
      "40655    0.002178\n",
      "13494    0.001920\n",
      "13176    0.001824\n",
      "           ...   \n",
      "40520   -0.002804\n",
      "40156   -0.002907\n",
      "39992   -0.003126\n",
      "40157   -0.004041\n",
      "40110   -0.004082\n",
      "Name: 6000001, Length: 4586, dtype: float64\n"
     ]
    }
   ],
   "source": [
    "# input_user_id = 4523846\n",
    "# input_user_id = 4810880\n",
    "# input_user_id = 6000001\n",
    "input_user_id = new_data[\"user_id\"]\n",
    "\n",
    "user_history_list, recommendation_list = recommend_ani(df_svd_preds, input_user_id, ani_df, rating_df, 28)\n",
    "\n",
    "# 최종 추천 애니 id 리스트\n",
    "id_list = recommend_ani_2(user_history_list, recommendation_list, 14)"
   ]
  },
  {
   "cell_type": "code",
   "execution_count": 206,
   "id": "ff6fe42d",
   "metadata": {},
   "outputs": [
    {
     "name": "stdout",
     "output_type": "stream",
     "text": [
      "##### 내가 본 애니!\n",
      "라바 시즌 1\n",
      " \n",
      "##### 추천받은 애니!\n",
      "(더빙) 디지몬 어드벤처\n",
      "천원돌파 그렌라간\n",
      "네모바지 스폰지밥\n",
      "극장판 짱구는 못말려 22기 : 정면승부! 로봇아빠의 역습\n",
      "코드기아스 반역의 를르슈 R2\n",
      "PSYCHO-PASS 1기\n",
      "(자막) 초속 5센티미터\n",
      "(더빙) 원피스 1기\n",
      "그 비스크 돌은 사랑을 한다\n",
      "바케모노가타리\n",
      "암살교실 1기\n",
      "강철의 연금술사 오리지널\n",
      "4월은 너의 거짓말\n",
      "(더빙) 강철의 연금술사 BROTHERHOOD\n"
     ]
    }
   ],
   "source": [
    "print(\"##### 내가 본 애니!\")\n",
    "for result in user_history_list:\n",
    "    print(ani_df_id_to_name[result])\n",
    "print(\" \")\n",
    "print(\"##### 추천받은 애니!\")\n",
    "for result in id_list:\n",
    "    print(ani_df_id_to_name[result])"
   ]
  },
  {
   "cell_type": "code",
   "execution_count": 71,
   "id": "e1872a35",
   "metadata": {},
   "outputs": [],
   "source": [
    "# rating_df\n",
    "# user_ani_ratings_df\n",
    "# dbcol_review.find_one({\"profile\": new_data[\"user_id\"]})\n",
    "# dbcol_review.insert_one({\"profile\": new_data[\"user_id\"], \"score\": new_data[\"score\"], \"animation\": new_data[\"ani_id\"]})\n",
    "# dbcol_review.delete_one({\"profile\": new_data[\"user_id\"]})"
   ]
  },
  {
   "cell_type": "markdown",
   "id": "2e104f0c",
   "metadata": {},
   "source": [
    "### 정확도 (~ing(인터넷 이슈..))\n",
    "기존 추천은 시리즈를 고려하여 추천하기에 올바른 테스트가 진행되지 않음.  \n",
    "추천하는 과정에서 같은 시리즈면 추천하지 않는다는 부분을 제외하고 진행해볼 예정.\n",
    "정확도 이전까지가 거진 확정이라 할 수 있으며 변경사항은 30, 14와 같은 숫자를 지정해뒀던 것을 n이라는 숫자를 넣었다는 것과 30 대신 28로 하였다는 것 정도.\n",
    "정확도를 하기 위해서 추천 함수를 손대어야 하는데 Test를 위함이기에 복사해서 따로 함수를 새로 만들어서 테스트 할 예정.\n",
    "그리고 테스트 후 파일 분리하여 push할 예정."
   ]
  },
  {
   "cell_type": "code",
   "execution_count": 229,
   "id": "dad4a290",
   "metadata": {},
   "outputs": [
    {
     "name": "stdout",
     "output_type": "stream",
     "text": [
      "ani_id\n",
      "40562    5.220644\n",
      "40815    4.985821\n",
      "40372    1.383859\n",
      "40825    1.285888\n",
      "39431    1.107148\n",
      "           ...   \n",
      "40520   -0.267890\n",
      "25004   -0.351012\n",
      "24217   -0.459784\n",
      "39986   -0.622442\n",
      "23661   -0.812886\n",
      "Name: 23, Length: 4586, dtype: float64\n"
     ]
    },
    {
     "data": {
      "text/plain": [
       "[40510,\n",
       " 39081,\n",
       " 39745,\n",
       " 40261,\n",
       " 40655,\n",
       " 39985,\n",
       " 39992,\n",
       " 39648,\n",
       " 39996,\n",
       " 40790,\n",
       " 40794,\n",
       " 39856,\n",
       " 40630,\n",
       " 40159,\n",
       " 40532,\n",
       " 40829]"
      ]
     },
     "execution_count": 229,
     "metadata": {},
     "output_type": "execute_result"
    }
   ],
   "source": [
    "# user_id로 그룹화해서 count\n",
    "rating_group = rating_df.groupby(\"user_id\").count()\n",
    "# user_id를 기준으로 ani_id, score가 count되어서 합쳐졌기에 10개 이상인 것의 user_id만 list로\n",
    "group_list = rating_group[rating_group[\"ani_id\"] >= 10].index.tolist()\n",
    "# rating_df에서 위의 리스트에 속하는 것들만 따로 추출\n",
    "rating_filter_df = rating_df[rating_df[\"user_id\"].isin(group_list)]\n",
    "# 추출한 것에서 for문으로 하나씩 테스트\n",
    "\n",
    "# user_id에 맞는 행들만 따로 추출\n",
    "rating_userid_df = rating_filter_df.groupby(\"user_id\").get_group(group_list[0])\n",
    "# 20%를 test하기 위한 데이터로 추출\n",
    "test = rating_userid_df.sample(frac=0.1)\n",
    "# 결과 예측할 때 사용하기 위한 n\n",
    "test_n = len(test)\n",
    "# 이 데이터의 ani_id만 list로\n",
    "test_ani_id = list(test[\"ani_id\"])\n",
    "# user_id가 일치하고 ani_id가 test_ani_id에 속하는 것의 index만 추출\n",
    "test_idx_list = list(rating_df[(rating_df[\"user_id\"] == group_list[0]) & (rating_df[\"ani_id\"].isin(test_ani_id))].index)\n",
    "# rating_df를 복사\n",
    "rating_df_temp = rating_df.copy()\n",
    "# rating_df에서 본 것을 삭제\n",
    "rating_df_temp = rating_df_temp.drop(test_idx_list)\n",
    "# user_ani_ratings_df를 복사\n",
    "user_ani_ratings_df_temp = user_ani_ratings_df.copy()\n",
    "# score값을 0점으로 변경\n",
    "for t in test_ani_id:\n",
    "    user_ani_ratings_df_temp.loc[group_list[0], t] = 0\n",
    "\n",
    "# SVD\n",
    "matrix = user_ani_ratings_df_temp.values\n",
    "user_ratings_mean = np.mean(matrix, axis = 1)\n",
    "matrix_user_mean = matrix - user_ratings_mean.reshape(-1, 1)\n",
    "U, sigma, Vt = svds(matrix_user_mean, k = 12)\n",
    "sigma = np.diag(sigma)\n",
    "svd_user_predicted_ratings = np.dot(np.dot(U, sigma), Vt) + user_ratings_mean.reshape(-1, 1)\n",
    "df_svd_preds = pd.DataFrame(svd_user_predicted_ratings, index = user_ani_ratings_df_temp.index, columns = user_ani_ratings_df_temp.columns)\n",
    "\n",
    "input_user_id = group_list[0]\n",
    "user_history_list, recommendation_list = recommend_ani(df_svd_preds, input_user_id, ani_df, rating_df_temp, (test_n)*4)\n",
    "# 최종 추천 애니 id 리스트\n",
    "id_list = recommend_ani_2(user_history_list, recommendation_list, (test_n)*4)"
   ]
  },
  {
   "cell_type": "code",
   "execution_count": 230,
   "id": "042763fd",
   "metadata": {},
   "outputs": [
    {
     "data": {
      "text/plain": [
       "[40655, 40681, 39072, 40615]"
      ]
     },
     "execution_count": 230,
     "metadata": {},
     "output_type": "execute_result"
    }
   ],
   "source": [
    "# id_list\n",
    "# test_ani_id"
   ]
  },
  {
   "cell_type": "code",
   "execution_count": 231,
   "id": "745b4931",
   "metadata": {},
   "outputs": [
    {
     "name": "stdout",
     "output_type": "stream",
     "text": [
      "40655\n"
     ]
    }
   ],
   "source": [
    "for t in test_ani_id:\n",
    "    if t in id_list:\n",
    "        print(t)"
   ]
  },
  {
   "cell_type": "code",
   "execution_count": 228,
   "id": "ba57add9",
   "metadata": {},
   "outputs": [
    {
     "name": "stdout",
     "output_type": "stream",
     "text": [
      "##### 내가 본 애니!\n",
      "귀멸의 칼날 : 환락의 거리편\n",
      "샤를로트\n",
      "라이플 이즈 뷰티풀\n",
      "평온세대의 위타천들\n",
      "마나리아 프렌즈\n",
      "논논비요리 : 논스톱\n",
      "괴인 개발부의 쿠로이츠 씨\n",
      "히나마츠리\n",
      "감옥학원\n",
      "아케비의 세일러복\n",
      "나를 좋아하는 건 너뿐이냐\n",
      "유루캠△ 1기 - 판권 부활\n",
      "이 게임 폐인이 사는 법\n",
      "(자막) 스파이 패밀리 part 1\n",
      "쟈히님은 기죽지 않아!\n",
      "(자막, 무삭제) 이 멋진 세계에 축복을! 2기\n",
      "최애가 부도칸에 가 준다면 난 죽어도 좋아\n",
      "리아데일의 대지에서\n",
      "그 비스크 돌은 사랑을 한다\n",
      "카구야 님은 고백받고 싶어 ~천재들의 연애 두뇌전~ 1기\n",
      "코바야시네 메이드래곤 S\n",
      "세계 최고의 암살자, 이세계 귀족으로 전생하다\n",
      "이세계 미소녀 수육 아저씨와\n",
      "귀멸의 칼날 : 무한열차편\n",
      "다가시카시 2기\n",
      "카구야 님은 고백받고 싶어 ~천재들의 연애 두뇌전~ 2기\n",
      "하코즈메 ~파출소 여자의 역습~\n",
      "현실주의 용사의 왕국 재건기 2기\n",
      "흔해빠진 직업으로 세계최강 2기\n",
      "뻐꾸기 커플\n",
      "마왕학원의 부적합자\n",
      "종말의 하렘\n",
      "게이머즈!\n",
      "흔해빠진 직업으로 세계최강 1기\n",
      "달링 인 더 프랑키스\n",
      "현자의 제자를 자칭하는 현자\n",
      "현실주의 용사의 왕국 재건기 1기\n",
      " \n",
      "##### 추천받은 애니!\n",
      "무직전생 : 이세계에 갔으면 최선을 다한다 2기\n",
      "방패 용사 성공담 Season 1\n",
      "마왕성에서 잘 자요\n",
      "어쨌든 귀여워\n",
      "아하렌 양은 알 수가 없어\n",
      "귀엽기만 한 게 아닌 시키모리 양\n",
      "장난을 잘 치는 타카기 양 3기\n",
      "천재 왕자의 적자국가 재생술\n",
      " \n",
      "##### Test로 뺀 애니!\n",
      "장난을 잘 치는 타카기 양 3기\n",
      "조난입니까?\n",
      "(무삭제) 이종족 리뷰어스\n",
      "전생했더니 슬라임이었던 건에 대하여 2기 1부\n"
     ]
    }
   ],
   "source": [
    "print(\"##### 내가 본 애니!\")\n",
    "for result in user_history_list:\n",
    "    print(ani_df_id_to_name[result])\n",
    "print(\" \")\n",
    "print(\"##### 추천받은 애니!\")\n",
    "for result in id_list:\n",
    "    print(ani_df_id_to_name[result])\n",
    "print(\" \")\n",
    "print(\"##### Test로 뺀 애니!\")\n",
    "for result in test_ani_id:\n",
    "    print(ani_df_id_to_name[result])"
   ]
  }
 ],
 "metadata": {
  "kernelspec": {
   "display_name": "Python 3 (ipykernel)",
   "language": "python",
   "name": "python3"
  },
  "language_info": {
   "codemirror_mode": {
    "name": "ipython",
    "version": 3
   },
   "file_extension": ".py",
   "mimetype": "text/x-python",
   "name": "python",
   "nbconvert_exporter": "python",
   "pygments_lexer": "ipython3",
   "version": "3.8.0"
  }
 },
 "nbformat": 4,
 "nbformat_minor": 5
}
