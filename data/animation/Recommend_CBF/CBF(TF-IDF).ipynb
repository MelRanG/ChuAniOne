{
 "cells": [
  {
   "cell_type": "markdown",
   "id": "e90715f7",
   "metadata": {},
   "source": [
    "#  📌 비슷한 애니메이션 추천(TF-IDF)\n",
    "### ✏️ DB 연결"
   ]
  },
  {
   "cell_type": "code",
   "execution_count": 186,
   "id": "76977bf2",
   "metadata": {},
   "outputs": [],
   "source": [
    "import dotenv\n",
    "import os\n",
    "from pymongo import MongoClient\n",
    "\n",
    "# 환경변수 불러오기\n",
    "dotenv.load_dotenv(dotenv.find_dotenv())\n",
    "USER = os.environ[\"MONGODB_USER\"] # MongoDB user\n",
    "PASSWORD = os.environ[\"MONGODB_PW\"] # MongoDB password\n",
    "PORT = int(os.environ[\"MONGODB_PORT\"]) # MongoDB port\n",
    "\n",
    "# DB 연결\n",
    "client = MongoClient(\"mongodb://\" + USER + \":\" + PASSWORD + \"@j7e104.p.ssafy.io\", PORT)\n",
    "\n",
    "db = client.animation\n",
    "dbcol_detail = db.ani_detail"
   ]
  },
  {
   "cell_type": "markdown",
   "id": "631118d6",
   "metadata": {},
   "source": [
    "### ✏️ DataFrame 가져오기"
   ]
  },
  {
   "cell_type": "code",
   "execution_count": 187,
   "id": "64bc48c4",
   "metadata": {},
   "outputs": [
    {
     "name": "stdout",
     "output_type": "stream",
     "text": [
      "6229\n"
     ]
    }
   ],
   "source": [
    "import pandas as pd\n",
    "\n",
    "# id, name, genres, content, tags, series_id 불러오기\n",
    "df = pd.DataFrame(dbcol_detail.find({},{\"id\":1, \"name\":1, \"genres\":1, \"content\":1, \"tags\":1, \"series_id\":1}))\n",
    "print(len(df))"
   ]
  },
  {
   "cell_type": "markdown",
   "id": "584f97cb",
   "metadata": {},
   "source": [
    "### ✏️ 결측값 확인 및 대체"
   ]
  },
  {
   "cell_type": "code",
   "execution_count": 188,
   "id": "617cf79d",
   "metadata": {},
   "outputs": [
    {
     "data": {
      "text/html": [
       "<div>\n",
       "<style scoped>\n",
       "    .dataframe tbody tr th:only-of-type {\n",
       "        vertical-align: middle;\n",
       "    }\n",
       "\n",
       "    .dataframe tbody tr th {\n",
       "        vertical-align: top;\n",
       "    }\n",
       "\n",
       "    .dataframe thead th {\n",
       "        text-align: right;\n",
       "    }\n",
       "</style>\n",
       "<table border=\"1\" class=\"dataframe\">\n",
       "  <thead>\n",
       "    <tr style=\"text-align: right;\">\n",
       "      <th></th>\n",
       "      <th>0</th>\n",
       "    </tr>\n",
       "  </thead>\n",
       "  <tbody>\n",
       "    <tr>\n",
       "      <th>content</th>\n",
       "      <td>0</td>\n",
       "    </tr>\n",
       "    <tr>\n",
       "      <th>genres</th>\n",
       "      <td>0</td>\n",
       "    </tr>\n",
       "    <tr>\n",
       "      <th>name</th>\n",
       "      <td>0</td>\n",
       "    </tr>\n",
       "    <tr>\n",
       "      <th>tags</th>\n",
       "      <td>0</td>\n",
       "    </tr>\n",
       "    <tr>\n",
       "      <th>series_id</th>\n",
       "      <td>0</td>\n",
       "    </tr>\n",
       "  </tbody>\n",
       "</table>\n",
       "</div>"
      ],
      "text/plain": [
       "           0\n",
       "content    0\n",
       "genres     0\n",
       "name       0\n",
       "tags       0\n",
       "series_id  0"
      ]
     },
     "execution_count": 188,
     "metadata": {},
     "output_type": "execute_result"
    }
   ],
   "source": [
    "def missing_values(data):\n",
    "    missing = pd.DataFrame([\n",
    "    df[\"content\"].isnull().sum(), \n",
    "    df[\"genres\"].isnull().sum(), \n",
    "    df[\"name\"].isnull().sum(),\n",
    "    df[\"tags\"].isnull().sum(), \n",
    "    df[\"series_id\"].isnull().sum()], index = [\"content\", \"genres\", \"name\", \"tags\", \"series_id\"])\n",
    "    return missing\n",
    "\n",
    "\n",
    "def replace_missing(data):\n",
    "    data[\"genres\"] = data[\"genres\"].fillna(\"\")\n",
    "    data[\"content\"] = data[\"content\"].fillna(\"\")\n",
    "    data[\"name\"] = data[\"name\"].fillna(\"\")\n",
    "    data[\"tags\"] = data[\"tags\"].fillna(\"\")\n",
    "    data[\"series_id\"] = data[\"series_id\"].fillna(\"\")\n",
    "    \n",
    "\n",
    "missing_values(df)\n",
    "replace_missing(df)\n",
    "\n",
    "missing_values(df)"
   ]
  },
  {
   "cell_type": "markdown",
   "id": "374e0841",
   "metadata": {},
   "source": [
    "### ✏️ 불용어 설정"
   ]
  },
  {
   "cell_type": "code",
   "execution_count": null,
   "id": "f0104b94",
   "metadata": {},
   "outputs": [],
   "source": [
    "# stopwords 다운로드\n",
    "# import nltk\n",
    "# nltk.download('stopwords')\n",
    "# C:\\Users\\SSAFY\\AppData\\Roaming\\nltk_data\\corpora\\stopwords에 korean 파일 생성 후 텍스트 추가하여 불러오기\n",
    "\n",
    "from nltk.corpus import stopwords\n",
    "stop_words = stopwords.words(\"korean\")"
   ]
  },
  {
   "cell_type": "markdown",
   "id": "d2a492ca",
   "metadata": {},
   "source": [
    "### ✏️ 형태소 분석 후 DB 저장"
   ]
  },
  {
   "cell_type": "code",
   "execution_count": null,
   "id": "21282437",
   "metadata": {},
   "outputs": [],
   "source": [
    "# db_ani = db.animation\n",
    "dbcol_feat = db.ani_feature"
   ]
  },
  {
   "cell_type": "code",
   "execution_count": null,
   "id": "968e8db0",
   "metadata": {},
   "outputs": [],
   "source": [
    "import re\n",
    "\n",
    "# 한글, 숫자, 영문만 가져옴\n",
    "def sub_special(s):\n",
    "    return re.sub(r'[^ㄱ-ㅎㅏ-ㅣ가-힣0-9a-zA-Z ]','',s)"
   ]
  },
  {
   "cell_type": "code",
   "execution_count": null,
   "id": "6925940c",
   "metadata": {},
   "outputs": [],
   "source": [
    "# Okt 활용\n",
    "from konlpy.tag import Okt\n",
    "okt = Okt()\n",
    "\n",
    "\n",
    "# 리스트를 문자열로 변환\n",
    "def list_to_str(list):\n",
    "    str = \" \".join(list)\n",
    "    return str\n",
    "    \n",
    "# 형태소 분석\n",
    "def morph_and_stopword(data):\n",
    "    \n",
    "    text = \"\"\n",
    "    text += list_to_str(data[\"genres\"]) + \" \"\n",
    "    text += list_to_str(data[\"tags\"]) + \" \"\n",
    "    text += data[\"content\"]\n",
    "    \n",
    "    # 특수문자 제거\n",
    "    text = sub_special(text)\n",
    "    \n",
    "    #형태소 분석\n",
    "    words = okt.morphs(text, stem=True)\n",
    "    \n",
    "    # 형태소 분석 결과 담을 리스트\n",
    "    feature = []\n",
    "    \n",
    "    #불용어 처리\n",
    "    for word in words:\n",
    "        if word not in stop_words and len(word) > 1:\n",
    "            feature.append(word)\n",
    "\n",
    "    feat_str = list_to_str(feature)\n",
    "    \n",
    "    # 애니메이션 아이디, 분석 결과, 시리즈 아이디 DB 저장\n",
    "    dbcol_feat.update_one({\"id\": data[\"id\"]}, {\"$set\": {\"id\": data[\"id\"], \"series_id\": data[\"series_id\"], \"feature\": feature, \"feat_str\": feat_str}}, upsert = True)"
   ]
  },
  {
   "cell_type": "code",
   "execution_count": null,
   "id": "bd970c22",
   "metadata": {},
   "outputs": [],
   "source": [
    "df.apply(morph_and_stopword, axis=1)\n",
    "print(\"형태소 분석 및 DB 저장 완료\")"
   ]
  },
  {
   "cell_type": "markdown",
   "id": "e7bc41c9",
   "metadata": {},
   "source": [
    "### ✏️ TEST TF-IDF"
   ]
  },
  {
   "cell_type": "code",
   "execution_count": 189,
   "id": "fbc75e60",
   "metadata": {
    "scrolled": false
   },
   "outputs": [
    {
     "name": "stdout",
     "output_type": "stream",
     "text": [
      "TF-IDF 행렬의 크기(shape):  (6229, 25185)\n",
      "코사인 유사도 연산 결과:  (6229, 6229)\n"
     ]
    }
   ],
   "source": [
    "from sklearn.feature_extraction.text import TfidfVectorizer\n",
    "from sklearn.metrics.pairwise import cosine_similarity\n",
    "import pandas as pd\n",
    "import numpy as np\n",
    "\n",
    "df_feat = pd.DataFrame(dbcol_feat.find())\n",
    "\n",
    "feat_str_list = df_feat[\"feat_str\"].tolist()\n",
    "\n",
    "# TF-IDF 분석\n",
    "tf_idf = TfidfVectorizer()\n",
    "tf_idf_matrix = tf_idf.fit_transform(feat_str_list)\n",
    "print(\"TF-IDF 행렬의 크기(shape): \", tf_idf_matrix.shape)\n",
    "\n",
    "cosine_sim = cosine_similarity(tf_idf_matrix, tf_idf_matrix)\n",
    "print(\"코사인 유사도 연산 결과: \",cosine_sim.shape)"
   ]
  },
  {
   "cell_type": "markdown",
   "id": "423d449f",
   "metadata": {},
   "source": [
    "### ✏️ 애니메이션 아이디: 인덱스, 인덱스: 시리즈"
   ]
  },
  {
   "cell_type": "code",
   "execution_count": 190,
   "id": "76e0ae83",
   "metadata": {},
   "outputs": [],
   "source": [
    "id_to_idx = dict(zip(df[\"id\"], df.index))\n",
    "idx_to_series = dict(zip(df.index, df[\"series_id\"]))\n",
    "id_to_series = dict(zip(df[\"id\"], df[\"series_id\"]))\n",
    "\n",
    "# float를 int로\n",
    "for keys in idx_to_series:\n",
    "    try:\n",
    "        idx_to_series[keys] = int(idx_to_series[keys])\n",
    "    except ValueError:\n",
    "        pass"
   ]
  },
  {
   "cell_type": "markdown",
   "id": "09b0129f",
   "metadata": {},
   "source": [
    "### ✏️ TEST RECOMM"
   ]
  },
  {
   "cell_type": "code",
   "execution_count": 191,
   "id": "121e9119",
   "metadata": {},
   "outputs": [],
   "source": [
    "# dict의 value로 key 찾기\n",
    "def get_key(val, dict):\n",
    "    for key, value in dict.items():\n",
    "         if val == value:\n",
    "                return key"
   ]
  },
  {
   "cell_type": "code",
   "execution_count": 196,
   "id": "c8030184",
   "metadata": {},
   "outputs": [],
   "source": [
    "def get_recommendations(id, cosine_sim=cosine_sim):\n",
    "    \n",
    "    # 선택한 애니메이션의 인덱스 가져옴\n",
    "    idx = id_to_idx[id]\n",
    "    \n",
    "    # 해당 인덱스의 시리즈 아이디 가져옴\n",
    "    series = idx_to_series[idx]\n",
    "    \n",
    "    # 해당 애니와의 유사도를 가져온다. (애니 - 전체 애니)\n",
    "    sim_scores = list(enumerate(cosine_sim[idx]))\n",
    "    \n",
    "    # 유사도에 따라 애니 정렬\n",
    "    sim_scores = sorted(sim_scores, key=lambda x: x[1], reverse=True)\n",
    "    \n",
    "    # 유사한 애니메이션 저장 리스트\n",
    "    id_list = []\n",
    "    \n",
    "    # 유사한 애니메이션 중 같은 시리즈 체크 리스트\n",
    "    series_list = [series]\n",
    "    \n",
    "    for index, value in enumerate(sim_scores):\n",
    "        \n",
    "        # 해당 애니의 index\n",
    "        ani_idx =  get_key(value[0], id_to_idx)\n",
    "        \n",
    "        # 유사도가 0.95를 넘지 않고 이미 시리즈가 속해져있지 않다면 추가\n",
    "        if value[1] < 0.95 and id_to_series[ani_idx] not in series_list:\n",
    "            id_list.append(get_key(value[0], id_to_idx))\n",
    "            \n",
    "            # 다른 시리즈가 있는 경우에만 시리즈 체크 리스트에 추가\n",
    "            if id_to_series[ani_idx] != \"\":\n",
    "                series_list.append(id_to_series[ani_idx])\n",
    "                \n",
    "        # 10개가 채워지면 stop\n",
    "        if len(id_list) == 10:\n",
    "            break\n",
    "            \n",
    "    return id_list"
   ]
  },
  {
   "cell_type": "markdown",
   "id": "db60851c",
   "metadata": {},
   "source": [
    "### ✏️ 해당 애니메이션 아이디 값으로 결과 추출\n",
    "| 애니메이션 번호 | 제목 |\n",
    "| --- | --- |\n",
    "| 40260 | 도쿄 리벤저스 part 1 |\n",
    "| 16075 | 은혼 1기 |\n",
    "| 38912 | 전생했더니 슬라임이었던 건에 대하여 1기 |\n",
    "| 39431 | (무삭제) 귀멸의 칼날 |\n",
    "| 40815 | (자막) 스파이 패밀리 |\n"
   ]
  },
  {
   "cell_type": "code",
   "execution_count": 197,
   "id": "df87c670",
   "metadata": {
    "scrolled": true
   },
   "outputs": [
    {
     "name": "stdout",
     "output_type": "stream",
     "text": [
      "[40161, 15650, 40181, 40674, 38912, 14374, 19080, 18925, 39022, 40677]\n"
     ]
    }
   ],
   "source": [
    "relation_ani = get_recommendations(40260)\n",
    "print(relation_ani)"
   ]
  },
  {
   "cell_type": "markdown",
   "id": "06284be1",
   "metadata": {},
   "source": [
    "### ✨ 유사한 애니메이션 결과값 미리보기"
   ]
  },
  {
   "cell_type": "code",
   "execution_count": 201,
   "id": "472f5d7b",
   "metadata": {},
   "outputs": [],
   "source": [
    "def get_ani_detail(id):\n",
    "    return dbcol_info.find_one({\"id\": id})\n",
    "\n",
    "result = []\n",
    "\n",
    "for r in relation_ani:\n",
    "    result.append(get_ani_detail(r))"
   ]
  },
  {
   "cell_type": "code",
   "execution_count": 204,
   "id": "b1e80bee",
   "metadata": {
    "scrolled": true
   },
   "outputs": [
    {
     "data": {
      "text/html": [
       "<div>\n",
       "<style scoped>\n",
       "    .dataframe tbody tr th:only-of-type {\n",
       "        vertical-align: middle;\n",
       "    }\n",
       "\n",
       "    .dataframe tbody tr th {\n",
       "        vertical-align: top;\n",
       "    }\n",
       "\n",
       "    .dataframe thead th {\n",
       "        text-align: right;\n",
       "    }\n",
       "</style>\n",
       "<table border=\"1\" class=\"dataframe\">\n",
       "  <thead>\n",
       "    <tr style=\"text-align: right;\">\n",
       "      <th></th>\n",
       "      <th>id</th>\n",
       "      <th>name</th>\n",
       "      <th>genres</th>\n",
       "      <th>tags</th>\n",
       "      <th>series_id</th>\n",
       "    </tr>\n",
       "  </thead>\n",
       "  <tbody>\n",
       "    <tr>\n",
       "      <th>0</th>\n",
       "      <td>40161</td>\n",
       "      <td>약캐 토모자키 군</td>\n",
       "      <td>[로맨스, 드라마]</td>\n",
       "      <td>[성장, 게임, 아싸, 로맨스, 학교, 이 라이트노벨이 대단하다, 드라마, 소설 원작]</td>\n",
       "      <td>NaN</td>\n",
       "    </tr>\n",
       "    <tr>\n",
       "      <th>1</th>\n",
       "      <td>15650</td>\n",
       "      <td>흑장미 부인의 문방구</td>\n",
       "      <td>[판타지, 미스터리]</td>\n",
       "      <td>[판타지, 미스터리]</td>\n",
       "      <td>NaN</td>\n",
       "    </tr>\n",
       "    <tr>\n",
       "      <th>2</th>\n",
       "      <td>40181</td>\n",
       "      <td>괴물사변</td>\n",
       "      <td>[판타지, 액션, 미스터리]</td>\n",
       "      <td>[성장, 요괴 및 괴물, 열혈, 판타지, 액션, 미스터리]</td>\n",
       "      <td>NaN</td>\n",
       "    </tr>\n",
       "    <tr>\n",
       "      <th>3</th>\n",
       "      <td>40674</td>\n",
       "      <td>굿바이, 돈 그리즈!</td>\n",
       "      <td>[드라마]</td>\n",
       "      <td>[우정, 발랄가볍, 드라마]</td>\n",
       "      <td>NaN</td>\n",
       "    </tr>\n",
       "    <tr>\n",
       "      <th>4</th>\n",
       "      <td>38912</td>\n",
       "      <td>전생했더니 슬라임이었던 건에 대하여 1기</td>\n",
       "      <td>[이세계, 판타지, 액션, 개그, 모험]</td>\n",
       "      <td>[마법, 요괴 및 괴물, 전쟁, 이능력, 악마 또는 천사, 마왕, 환생, 발랄가볍,...</td>\n",
       "      <td>3856.0</td>\n",
       "    </tr>\n",
       "    <tr>\n",
       "      <th>5</th>\n",
       "      <td>14374</td>\n",
       "      <td>거신 고그</td>\n",
       "      <td>[미스터리]</td>\n",
       "      <td>[미스터리]</td>\n",
       "      <td>NaN</td>\n",
       "    </tr>\n",
       "    <tr>\n",
       "      <th>6</th>\n",
       "      <td>19080</td>\n",
       "      <td>텔레파시 소녀 란</td>\n",
       "      <td>[미스터리]</td>\n",
       "      <td>[미스터리]</td>\n",
       "      <td>NaN</td>\n",
       "    </tr>\n",
       "    <tr>\n",
       "      <th>7</th>\n",
       "      <td>18925</td>\n",
       "      <td>페르소나 트리니티 소울</td>\n",
       "      <td>[판타지, 액션, 미스터리]</td>\n",
       "      <td>[성장, 이능력, 살인, 좀비, 무거움, 카리스마, 판타지, 액션, 미스터리, 학교]</td>\n",
       "      <td>3690.0</td>\n",
       "    </tr>\n",
       "    <tr>\n",
       "      <th>8</th>\n",
       "      <td>39022</td>\n",
       "      <td>물드는 세계의 내일로부터</td>\n",
       "      <td>[판타지, 치유, 드라마]</td>\n",
       "      <td>[성장, 마법, 감동, 판타지, 치유, 학교, 드라마]</td>\n",
       "      <td>NaN</td>\n",
       "    </tr>\n",
       "    <tr>\n",
       "      <th>9</th>\n",
       "      <td>40677</td>\n",
       "      <td>극장판 DEEMO: 너의 연주는 마음을 수놓아</td>\n",
       "      <td>[음악, 드라마, 판타지]</td>\n",
       "      <td>[감동, 판타지, 음악, 드라마]</td>\n",
       "      <td>NaN</td>\n",
       "    </tr>\n",
       "  </tbody>\n",
       "</table>\n",
       "</div>"
      ],
      "text/plain": [
       "      id                       name                  genres  \\\n",
       "0  40161                  약캐 토모자키 군              [로맨스, 드라마]   \n",
       "1  15650                흑장미 부인의 문방구             [판타지, 미스터리]   \n",
       "2  40181                       괴물사변         [판타지, 액션, 미스터리]   \n",
       "3  40674                굿바이, 돈 그리즈!                   [드라마]   \n",
       "4  38912     전생했더니 슬라임이었던 건에 대하여 1기  [이세계, 판타지, 액션, 개그, 모험]   \n",
       "5  14374                      거신 고그                  [미스터리]   \n",
       "6  19080                  텔레파시 소녀 란                  [미스터리]   \n",
       "7  18925               페르소나 트리니티 소울         [판타지, 액션, 미스터리]   \n",
       "8  39022              물드는 세계의 내일로부터          [판타지, 치유, 드라마]   \n",
       "9  40677  극장판 DEEMO: 너의 연주는 마음을 수놓아          [음악, 드라마, 판타지]   \n",
       "\n",
       "                                                tags  series_id  \n",
       "0   [성장, 게임, 아싸, 로맨스, 학교, 이 라이트노벨이 대단하다, 드라마, 소설 원작]        NaN  \n",
       "1                                        [판타지, 미스터리]        NaN  \n",
       "2                   [성장, 요괴 및 괴물, 열혈, 판타지, 액션, 미스터리]        NaN  \n",
       "3                                    [우정, 발랄가볍, 드라마]        NaN  \n",
       "4  [마법, 요괴 및 괴물, 전쟁, 이능력, 악마 또는 천사, 마왕, 환생, 발랄가볍,...     3856.0  \n",
       "5                                             [미스터리]        NaN  \n",
       "6                                             [미스터리]        NaN  \n",
       "7    [성장, 이능력, 살인, 좀비, 무거움, 카리스마, 판타지, 액션, 미스터리, 학교]     3690.0  \n",
       "8                     [성장, 마법, 감동, 판타지, 치유, 학교, 드라마]        NaN  \n",
       "9                                 [감동, 판타지, 음악, 드라마]        NaN  "
      ]
     },
     "execution_count": 204,
     "metadata": {},
     "output_type": "execute_result"
    }
   ],
   "source": [
    "df_result = pd.DataFrame(result)\n",
    "df_result[[\"id\", \"name\", \"genres\", \"tags\", \"series_id\"]]"
   ]
  }
 ],
 "metadata": {
  "kernelspec": {
   "display_name": "Python 3 (ipykernel)",
   "language": "python",
   "name": "python3"
  },
  "language_info": {
   "codemirror_mode": {
    "name": "ipython",
    "version": 3
   },
   "file_extension": ".py",
   "mimetype": "text/x-python",
   "name": "python",
   "nbconvert_exporter": "python",
   "pygments_lexer": "ipython3",
   "version": "3.9.12"
  },
  "vscode": {
   "interpreter": {
    "hash": "eebaf1173d8d9c3c4ee9a7b8bb1432a7f576348d6cb7a26bc263375fbc310797"
   }
  }
 },
 "nbformat": 4,
 "nbformat_minor": 5
}
