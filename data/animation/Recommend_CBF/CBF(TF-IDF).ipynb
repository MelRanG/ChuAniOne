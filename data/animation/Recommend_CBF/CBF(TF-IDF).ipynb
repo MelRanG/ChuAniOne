{
 "cells": [
  {
   "cell_type": "markdown",
   "id": "e90715f7",
   "metadata": {},
   "source": [
    "#  📌 비슷한 애니메이션 추천(TF-IDF)\n",
    "### ✏️ DB 연결"
   ]
  },
  {
   "cell_type": "code",
   "execution_count": 238,
   "id": "76977bf2",
   "metadata": {},
   "outputs": [],
   "source": [
    "import dotenv\n",
    "import os\n",
    "from pymongo import MongoClient\n",
    "\n",
    "# 환경변수 불러오기\n",
    "dotenv.load_dotenv(dotenv.find_dotenv())\n",
    "USER = os.environ[\"MONGODB_USER\"] # MongoDB user\n",
    "PASSWORD = os.environ[\"MONGODB_PW\"] # MongoDB password\n",
    "PORT = int(os.environ[\"MONGODB_PORT\"]) # MongoDB port\n",
    "\n",
    "# DB 연결\n",
    "client = MongoClient(\"mongodb://\" + USER + \":\" + PASSWORD + \"@j7e104.p.ssafy.io\", PORT)\n",
    "\n",
    "db = client.animation\n",
    "dbcol_detail = db.ani_detail\n",
    "dbcol_feat = db.ani_feature"
   ]
  },
  {
   "cell_type": "markdown",
   "id": "631118d6",
   "metadata": {},
   "source": [
    "### ✏️ DataFrame 가져오기"
   ]
  },
  {
   "cell_type": "code",
   "execution_count": 239,
   "id": "64bc48c4",
   "metadata": {},
   "outputs": [
    {
     "name": "stdout",
     "output_type": "stream",
     "text": [
      "6229\n"
     ]
    }
   ],
   "source": [
    "import pandas as pd\n",
    "\n",
    "# id, name, genres, content, tags, series_id 불러오기\n",
    "df = pd.DataFrame(dbcol_detail.find({},{\"id\":1, \"name\":1, \"genres\":1, \"content\":1, \"tags\":1, \"series_id\":1}))\n",
    "print(len(df))"
   ]
  },
  {
   "cell_type": "markdown",
   "id": "584f97cb",
   "metadata": {},
   "source": [
    "### ✏️ 결측값 확인 및 대체"
   ]
  },
  {
   "cell_type": "code",
   "execution_count": 240,
   "id": "617cf79d",
   "metadata": {},
   "outputs": [
    {
     "data": {
      "text/html": [
       "<div>\n",
       "<style scoped>\n",
       "    .dataframe tbody tr th:only-of-type {\n",
       "        vertical-align: middle;\n",
       "    }\n",
       "\n",
       "    .dataframe tbody tr th {\n",
       "        vertical-align: top;\n",
       "    }\n",
       "\n",
       "    .dataframe thead th {\n",
       "        text-align: right;\n",
       "    }\n",
       "</style>\n",
       "<table border=\"1\" class=\"dataframe\">\n",
       "  <thead>\n",
       "    <tr style=\"text-align: right;\">\n",
       "      <th></th>\n",
       "      <th>0</th>\n",
       "    </tr>\n",
       "  </thead>\n",
       "  <tbody>\n",
       "    <tr>\n",
       "      <th>content</th>\n",
       "      <td>0</td>\n",
       "    </tr>\n",
       "    <tr>\n",
       "      <th>genres</th>\n",
       "      <td>0</td>\n",
       "    </tr>\n",
       "    <tr>\n",
       "      <th>name</th>\n",
       "      <td>0</td>\n",
       "    </tr>\n",
       "    <tr>\n",
       "      <th>tags</th>\n",
       "      <td>0</td>\n",
       "    </tr>\n",
       "    <tr>\n",
       "      <th>series_id</th>\n",
       "      <td>0</td>\n",
       "    </tr>\n",
       "  </tbody>\n",
       "</table>\n",
       "</div>"
      ],
      "text/plain": [
       "           0\n",
       "content    0\n",
       "genres     0\n",
       "name       0\n",
       "tags       0\n",
       "series_id  0"
      ]
     },
     "execution_count": 240,
     "metadata": {},
     "output_type": "execute_result"
    }
   ],
   "source": [
    "def missing_values(data):\n",
    "    missing = pd.DataFrame([\n",
    "    df[\"content\"].isnull().sum(), \n",
    "    df[\"genres\"].isnull().sum(), \n",
    "    df[\"name\"].isnull().sum(),\n",
    "    df[\"tags\"].isnull().sum(), \n",
    "    df[\"series_id\"].isnull().sum()], index = [\"content\", \"genres\", \"name\", \"tags\", \"series_id\"])\n",
    "    return missing\n",
    "\n",
    "\n",
    "def replace_missing(data):\n",
    "    data[\"genres\"] = data[\"genres\"].fillna(\"\")\n",
    "    data[\"content\"] = data[\"content\"].fillna(\"\")\n",
    "    data[\"name\"] = data[\"name\"].fillna(\"\")\n",
    "    data[\"tags\"] = data[\"tags\"].fillna(\"\")\n",
    "    data[\"series_id\"] = data[\"series_id\"].fillna(\"\")\n",
    "    \n",
    "\n",
    "missing_values(df)\n",
    "replace_missing(df)\n",
    "\n",
    "missing_values(df)"
   ]
  },
  {
   "cell_type": "markdown",
   "id": "374e0841",
   "metadata": {},
   "source": [
    "### ✏️ 불용어 설정"
   ]
  },
  {
   "cell_type": "code",
   "execution_count": 241,
   "id": "f0104b94",
   "metadata": {},
   "outputs": [],
   "source": [
    "# stopwords 다운로드\n",
    "# import nltk\n",
    "# nltk.download('stopwords')\n",
    "# C:\\Users\\SSAFY\\AppData\\Roaming\\nltk_data\\corpora\\stopwords에 korean 파일 생성 후 텍스트 추가하여 불러오기\n",
    "\n",
    "from nltk.corpus import stopwords\n",
    "stop_words = stopwords.words(\"korean\")"
   ]
  },
  {
   "cell_type": "markdown",
   "id": "d2a492ca",
   "metadata": {},
   "source": [
    "### ✏️ 형태소 분석 후 DB 저장"
   ]
  },
  {
   "cell_type": "code",
   "execution_count": 242,
   "id": "21282437",
   "metadata": {},
   "outputs": [],
   "source": [
    "# db_ani = db.animation\n",
    "dbcol_feat = db.ani_feature"
   ]
  },
  {
   "cell_type": "code",
   "execution_count": 243,
   "id": "968e8db0",
   "metadata": {},
   "outputs": [],
   "source": [
    "import re\n",
    "\n",
    "# 한글, 숫자, 영문만 가져옴\n",
    "def sub_special(s):\n",
    "    return re.sub(r'[^ㄱ-ㅎㅏ-ㅣ가-힣0-9a-zA-Z ]','',s)"
   ]
  },
  {
   "cell_type": "code",
   "execution_count": 244,
   "id": "6925940c",
   "metadata": {},
   "outputs": [],
   "source": [
    "# Okt 활용\n",
    "from konlpy.tag import Okt\n",
    "okt = Okt()\n",
    "\n",
    "\n",
    "# 리스트를 문자열로 변환\n",
    "def list_to_str(list):\n",
    "    str = \" \".join(list)\n",
    "    return str\n",
    "    \n",
    "# 형태소 분석\n",
    "def morph_and_stopword(data):\n",
    "    \n",
    "    text = \"\"\n",
    "    text += list_to_str(data[\"genres\"]) + \" \"\n",
    "    text += list_to_str(data[\"tags\"]) + \" \"\n",
    "    text += data[\"content\"]\n",
    "    \n",
    "    # 특수문자 제거\n",
    "    text = sub_special(text)\n",
    "    \n",
    "    #형태소 분석\n",
    "    words = okt.morphs(text, stem=True)\n",
    "    \n",
    "    # 형태소 분석 결과 담을 리스트\n",
    "    feature = []\n",
    "    \n",
    "    #불용어 처리\n",
    "    for word in words:\n",
    "        if word not in stop_words and len(word) > 1:\n",
    "            feature.append(word)\n",
    "\n",
    "    feat_str = list_to_str(feature)\n",
    "    \n",
    "    # 애니메이션 아이디, 분석 결과, 시리즈 아이디 DB 저장\n",
    "    dbcol_feat.update_one({\"id\": data[\"id\"]}, {\"$set\": {\"id\": data[\"id\"], \"series_id\": data[\"series_id\"], \"feature\": feature, \"feat_str\": feat_str}}, upsert = True)"
   ]
  },
  {
   "cell_type": "code",
   "execution_count": 245,
   "id": "bd970c22",
   "metadata": {},
   "outputs": [
    {
     "name": "stdout",
     "output_type": "stream",
     "text": [
      "형태소 분석 및 DB 저장 완료\n"
     ]
    }
   ],
   "source": [
    "df.apply(morph_and_stopword, axis=1)\n",
    "print(\"형태소 분석 및 DB 저장 완료\")"
   ]
  },
  {
   "cell_type": "markdown",
   "id": "e7bc41c9",
   "metadata": {},
   "source": [
    "### ✏️ TEST TF-IDF"
   ]
  },
  {
   "cell_type": "code",
   "execution_count": 246,
   "id": "fbc75e60",
   "metadata": {
    "scrolled": false
   },
   "outputs": [
    {
     "name": "stdout",
     "output_type": "stream",
     "text": [
      "TF-IDF 행렬의 크기(shape):  (6229, 25185)\n",
      "코사인 유사도 연산 결과:  (6229, 6229)\n"
     ]
    }
   ],
   "source": [
    "from sklearn.feature_extraction.text import TfidfVectorizer\n",
    "from sklearn.metrics.pairwise import cosine_similarity\n",
    "import pandas as pd\n",
    "import numpy as np\n",
    "\n",
    "df_feat = pd.DataFrame(dbcol_feat.find())\n",
    "\n",
    "feat_str_list = df_feat[\"feat_str\"].tolist()\n",
    "\n",
    "# TF-IDF 분석\n",
    "tf_idf = TfidfVectorizer()\n",
    "tf_idf_matrix = tf_idf.fit_transform(feat_str_list)\n",
    "print(\"TF-IDF 행렬의 크기(shape): \", tf_idf_matrix.shape)\n",
    "\n",
    "cosine_sim = cosine_similarity(tf_idf_matrix, tf_idf_matrix)\n",
    "print(\"코사인 유사도 연산 결과: \",cosine_sim.shape)"
   ]
  },
  {
   "cell_type": "markdown",
   "id": "423d449f",
   "metadata": {},
   "source": [
    "### ✏️ 애니메이션 아이디: 인덱스, 인덱스: 시리즈"
   ]
  },
  {
   "cell_type": "code",
   "execution_count": 247,
   "id": "76e0ae83",
   "metadata": {},
   "outputs": [],
   "source": [
    "id_to_idx = dict(zip(df[\"id\"], df.index))\n",
    "idx_to_series = dict(zip(df.index, df[\"series_id\"]))\n",
    "id_to_series = dict(zip(df[\"id\"], df[\"series_id\"]))\n",
    "\n",
    "# float를 int로\n",
    "for keys in idx_to_series:\n",
    "    try:\n",
    "        idx_to_series[keys] = int(idx_to_series[keys])\n",
    "    except ValueError:\n",
    "        pass"
   ]
  },
  {
   "cell_type": "markdown",
   "id": "09b0129f",
   "metadata": {},
   "source": [
    "### ✏️ TEST RECOMM"
   ]
  },
  {
   "cell_type": "code",
   "execution_count": 248,
   "id": "121e9119",
   "metadata": {},
   "outputs": [],
   "source": [
    "# dict의 value로 key 찾기\n",
    "def get_key(val, dict):\n",
    "    for key, value in dict.items():\n",
    "         if val == value:\n",
    "                return key"
   ]
  },
  {
   "cell_type": "code",
   "execution_count": 255,
   "id": "c8030184",
   "metadata": {},
   "outputs": [],
   "source": [
    "def get_recommendations(data, cosine_sim=cosine_sim):\n",
    "    id = data[\"id\"]\n",
    "    # 선택한 애니메이션의 인덱스 가져옴\n",
    "    idx = id_to_idx[id]\n",
    "    \n",
    "    # 해당 인덱스의 시리즈 아이디 가져옴\n",
    "    series = idx_to_series[idx]\n",
    "    \n",
    "    # 해당 애니와의 유사도를 가져온다. (애니 - 전체 애니)\n",
    "    sim_scores = list(enumerate(cosine_sim[idx]))\n",
    "    \n",
    "    # 유사도에 따라 애니 정렬\n",
    "    sim_scores = sorted(sim_scores, key=lambda x: x[1], reverse=True)\n",
    "    \n",
    "    # 유사한 애니메이션 저장 리스트\n",
    "    id_list = []\n",
    "    \n",
    "    # 유사한 애니메이션 중 같은 시리즈 체크 리스트\n",
    "    series_list = [series]\n",
    "    \n",
    "    for index, value in enumerate(sim_scores):\n",
    "        \n",
    "        # 해당 애니의 index\n",
    "        ani_idx =  get_key(value[0], id_to_idx)\n",
    "        \n",
    "        # 유사도가 0.95를 넘지 않고 이미 시리즈가 속해져있지 않다면 추가\n",
    "        if value[1] < 0.95 and id_to_series[ani_idx] not in series_list:\n",
    "            id_list.append(get_key(value[0], id_to_idx))\n",
    "            \n",
    "            # 다른 시리즈가 있는 경우에만 시리즈 체크 리스트에 추가\n",
    "            if id_to_series[ani_idx] != \"\":\n",
    "                series_list.append(id_to_series[ani_idx])\n",
    "                \n",
    "        # 10개가 채워지면 stop\n",
    "        if len(id_list) == 10:\n",
    "            break\n",
    "    \n",
    "    dbcol_feat.update_one({\"id\": id}, {\"$set\": {\"related\": id_list}}, upsert = True)\n",
    "    \n",
    "    return id_list"
   ]
  },
  {
   "cell_type": "markdown",
   "id": "db60851c",
   "metadata": {},
   "source": [
    "### ✏️ 해당 애니메이션 아이디 값으로 결과 추출\n",
    "| 애니메이션 번호 | 제목 |\n",
    "| --- | --- |\n",
    "| 40260 | 도쿄 리벤저스 part 1 |\n",
    "| 16075 | 은혼 1기 |\n",
    "| 38912 | 전생했더니 슬라임이었던 건에 대하여 1기 |\n",
    "| 39431 | (무삭제) 귀멸의 칼날 |\n",
    "| 40815 | (자막) 스파이 패밀리 |\n"
   ]
  },
  {
   "cell_type": "code",
   "execution_count": 271,
   "id": "df87c670",
   "metadata": {
    "scrolled": true
   },
   "outputs": [
    {
     "name": "stdout",
     "output_type": "stream",
     "text": [
      "[18029, 14678, 40371, 15454, 40040, 39268, 40375, 24255, 40195, 13706]\n"
     ]
    }
   ],
   "source": []
  },
  {
   "cell_type": "markdown",
   "id": "06284be1",
   "metadata": {},
   "source": [
    "### ✨ 유사한 애니메이션 결과값 미리보기"
   ]
  },
  {
   "cell_type": "code",
   "execution_count": 275,
   "id": "472f5d7b",
   "metadata": {},
   "outputs": [
    {
     "name": "stdout",
     "output_type": "stream",
     "text": [
      "[18029, 14678, 40371, 15454, 40040, 39268, 40375, 24255, 40195, 13706]\n"
     ]
    },
    {
     "data": {
      "text/html": [
       "<div>\n",
       "<style scoped>\n",
       "    .dataframe tbody tr th:only-of-type {\n",
       "        vertical-align: middle;\n",
       "    }\n",
       "\n",
       "    .dataframe tbody tr th {\n",
       "        vertical-align: top;\n",
       "    }\n",
       "\n",
       "    .dataframe thead th {\n",
       "        text-align: right;\n",
       "    }\n",
       "</style>\n",
       "<table border=\"1\" class=\"dataframe\">\n",
       "  <thead>\n",
       "    <tr style=\"text-align: right;\">\n",
       "      <th></th>\n",
       "      <th>id</th>\n",
       "      <th>name</th>\n",
       "      <th>genres</th>\n",
       "      <th>tags</th>\n",
       "      <th>series_id</th>\n",
       "    </tr>\n",
       "  </thead>\n",
       "  <tbody>\n",
       "    <tr>\n",
       "      <th>0</th>\n",
       "      <td>18029</td>\n",
       "      <td>개골개골 마법사</td>\n",
       "      <td>[]</td>\n",
       "      <td>[]</td>\n",
       "      <td>NaN</td>\n",
       "    </tr>\n",
       "    <tr>\n",
       "      <th>1</th>\n",
       "      <td>14678</td>\n",
       "      <td>잠자는 숲속의 미녀</td>\n",
       "      <td>[로맨스]</td>\n",
       "      <td>[로맨스]</td>\n",
       "      <td>NaN</td>\n",
       "    </tr>\n",
       "    <tr>\n",
       "      <th>2</th>\n",
       "      <td>40371</td>\n",
       "      <td>바니타스의 수기 1기</td>\n",
       "      <td>[판타지]</td>\n",
       "      <td>[요괴 및 괴물, 미소년, 판타지, 만화 원작]</td>\n",
       "      <td>4155.0</td>\n",
       "    </tr>\n",
       "    <tr>\n",
       "      <th>3</th>\n",
       "      <td>15454</td>\n",
       "      <td>하울의 움직이는 성</td>\n",
       "      <td>[판타지, 치유]</td>\n",
       "      <td>[가족, 감동, 몽환, 귀여움, 판타지, 치유, 농촌]</td>\n",
       "      <td>4018.0</td>\n",
       "    </tr>\n",
       "    <tr>\n",
       "      <th>4</th>\n",
       "      <td>40040</td>\n",
       "      <td>(더빙) 소피루비</td>\n",
       "      <td>[판타지, 아동]</td>\n",
       "      <td>[마법, 마법소녀, 서양풍, 발랄가볍, 판타지, 아동, 마을, 오리지널 애니메이션 작품]</td>\n",
       "      <td>4032.0</td>\n",
       "    </tr>\n",
       "    <tr>\n",
       "      <th>5</th>\n",
       "      <td>39268</td>\n",
       "      <td>후르츠 바스켓 1기</td>\n",
       "      <td>[판타지, 로맨스, 치유]</td>\n",
       "      <td>[삼각관계, 동물, 감동, 무거움, 슬픔, 판타지, 로맨스, 치유, 학교, 집, 만...</td>\n",
       "      <td>3831.0</td>\n",
       "    </tr>\n",
       "    <tr>\n",
       "      <th>6</th>\n",
       "      <td>40375</td>\n",
       "      <td>사신 도련님과 검은 메이드</td>\n",
       "      <td>[로맨스, 개그, 판타지]</td>\n",
       "      <td>[서양풍, 판타지, 개그, 로맨스, 만화 원작]</td>\n",
       "      <td>NaN</td>\n",
       "    </tr>\n",
       "    <tr>\n",
       "      <th>7</th>\n",
       "      <td>24255</td>\n",
       "      <td>경계의 저편: 에피소드 제로</td>\n",
       "      <td>[판타지, 액션, 개그, 로맨스]</td>\n",
       "      <td>[요괴 및 괴물, 이능력, 퇴마, 감동, 귀여움, 먼치킨, 판타지, 액션, 개그, ...</td>\n",
       "      <td>3885.0</td>\n",
       "    </tr>\n",
       "    <tr>\n",
       "      <th>8</th>\n",
       "      <td>40195</td>\n",
       "      <td>나의 히어로 아카데미아 : 구해라! 구조 훈련!</td>\n",
       "      <td>[판타지, 액션, SF]</td>\n",
       "      <td>[우정, 성장, 배틀, 히어로, 이능력, 먼치킨, 판타지, 액션, SF, 학교, 마...</td>\n",
       "      <td>3890.0</td>\n",
       "    </tr>\n",
       "    <tr>\n",
       "      <th>9</th>\n",
       "      <td>13706</td>\n",
       "      <td>사쿠라 대전 : 르 누보 파리</td>\n",
       "      <td>[액션, 로맨스, 시대물]</td>\n",
       "      <td>[미소녀, 전쟁, 액션, 로맨스, 시대물]</td>\n",
       "      <td>3999.0</td>\n",
       "    </tr>\n",
       "  </tbody>\n",
       "</table>\n",
       "</div>"
      ],
      "text/plain": [
       "      id                        name              genres  \\\n",
       "0  18029                    개골개골 마법사                  []   \n",
       "1  14678                  잠자는 숲속의 미녀               [로맨스]   \n",
       "2  40371                 바니타스의 수기 1기               [판타지]   \n",
       "3  15454                  하울의 움직이는 성           [판타지, 치유]   \n",
       "4  40040                   (더빙) 소피루비           [판타지, 아동]   \n",
       "5  39268                  후르츠 바스켓 1기      [판타지, 로맨스, 치유]   \n",
       "6  40375              사신 도련님과 검은 메이드      [로맨스, 개그, 판타지]   \n",
       "7  24255             경계의 저편: 에피소드 제로  [판타지, 액션, 개그, 로맨스]   \n",
       "8  40195  나의 히어로 아카데미아 : 구해라! 구조 훈련!       [판타지, 액션, SF]   \n",
       "9  13706            사쿠라 대전 : 르 누보 파리      [액션, 로맨스, 시대물]   \n",
       "\n",
       "                                                tags  series_id  \n",
       "0                                                 []        NaN  \n",
       "1                                              [로맨스]        NaN  \n",
       "2                         [요괴 및 괴물, 미소년, 판타지, 만화 원작]     4155.0  \n",
       "3                     [가족, 감동, 몽환, 귀여움, 판타지, 치유, 농촌]     4018.0  \n",
       "4  [마법, 마법소녀, 서양풍, 발랄가볍, 판타지, 아동, 마을, 오리지널 애니메이션 작품]     4032.0  \n",
       "5  [삼각관계, 동물, 감동, 무거움, 슬픔, 판타지, 로맨스, 치유, 학교, 집, 만...     3831.0  \n",
       "6                         [서양풍, 판타지, 개그, 로맨스, 만화 원작]        NaN  \n",
       "7  [요괴 및 괴물, 이능력, 퇴마, 감동, 귀여움, 먼치킨, 판타지, 액션, 개그, ...     3885.0  \n",
       "8  [우정, 성장, 배틀, 히어로, 이능력, 먼치킨, 판타지, 액션, SF, 학교, 마...     3890.0  \n",
       "9                            [미소녀, 전쟁, 액션, 로맨스, 시대물]     3999.0  "
      ]
     },
     "execution_count": 275,
     "metadata": {},
     "output_type": "execute_result"
    }
   ],
   "source": [
    "def get_ani_detail(id):\n",
    "    return dbcol_info.find_one({\"id\": id})\n",
    "\n",
    "relation_ani = get_recommendations(dbcol_feat.find_one({\"id\": 39986}))\n",
    "print(relation_ani)\n",
    "\n",
    "result = []\n",
    "\n",
    "for r in relation_ani:\n",
    "    result.append(get_ani_detail(r))\n",
    "\n",
    "df_result = pd.DataFrame(result)\n",
    "df_result[[\"id\", \"name\", \"genres\", \"tags\", \"series_id\"]]"
   ]
  },
  {
   "cell_type": "markdown",
   "id": "3d724549",
   "metadata": {},
   "source": [
    "### ✏️ 비슷한 애니메이션 id DB 삽입"
   ]
  },
  {
   "cell_type": "code",
   "execution_count": 276,
   "id": "ceffa9b5",
   "metadata": {
    "scrolled": true
   },
   "outputs": [],
   "source": [
    "df_id = pd.DataFrame(dbcol_info.find({}, {\"id\": 1}))"
   ]
  },
  {
   "cell_type": "code",
   "execution_count": 254,
   "id": "205e99de",
   "metadata": {},
   "outputs": [
    {
     "name": "stdout",
     "output_type": "stream",
     "text": [
      "저장 완료\n"
     ]
    }
   ],
   "source": [
    "df_id.apply(get_recommendations, axis=1)\n",
    "print(\"저장 완료\")"
   ]
  }
 ],
 "metadata": {
  "kernelspec": {
   "display_name": "Python 3 (ipykernel)",
   "language": "python",
   "name": "python3"
  },
  "language_info": {
   "codemirror_mode": {
    "name": "ipython",
    "version": 3
   },
   "file_extension": ".py",
   "mimetype": "text/x-python",
   "name": "python",
   "nbconvert_exporter": "python",
   "pygments_lexer": "ipython3",
   "version": "3.9.12"
  },
  "vscode": {
   "interpreter": {
    "hash": "eebaf1173d8d9c3c4ee9a7b8bb1432a7f576348d6cb7a26bc263375fbc310797"
   }
  }
 },
 "nbformat": 4,
 "nbformat_minor": 5
}
