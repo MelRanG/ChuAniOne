{
 "cells": [
  {
   "cell_type": "code",
   "execution_count": 110,
   "id": "76977bf2",
   "metadata": {},
   "outputs": [],
   "source": [
    "import dotenv\n",
    "import os\n",
    "from pymongo import MongoClient\n",
    "\n",
    "# 환경변수 불러오기\n",
    "dotenv.load_dotenv(dotenv.find_dotenv())\n",
    "USER = os.environ[\"MONGODB_USER\"] # MongoDB user\n",
    "PASSWORD = os.environ[\"MONGODB_PW\"] # MongoDB password\n",
    "PORT = int(os.environ[\"MONGODB_PORT\"]) # MongoDB port\n",
    "\n",
    "# DB 연결\n",
    "client = MongoClient(\"mongodb://\" + USER + \":\" + PASSWORD + \"@j7e104.p.ssafy.io\", PORT)\n",
    "\n",
    "db = client.test\n",
    "dbcol_detail = db.ani_detail\n",
    "# print(dbcol_detail.find_one({}))"
   ]
  },
  {
   "cell_type": "code",
   "execution_count": 111,
   "id": "64bc48c4",
   "metadata": {},
   "outputs": [],
   "source": [
    "import pandas as pd\n",
    "from sklearn.feature_extraction.text import TfidfVectorizer\n",
    "from sklearn.metrics.pairwise import cosine_similarity\n",
    "\n",
    "# name, genres, content, tags, series_id 불러오기\n",
    "data = pd.DataFrame(list(dbcol_detail.find({},{\"id\":1, \"name\":1, \"genres\":1, \"content\":1, \"tags\":1, \"series_id\":1})))"
   ]
  },
  {
   "cell_type": "code",
   "execution_count": 112,
   "id": "617cf79d",
   "metadata": {},
   "outputs": [
    {
     "name": "stdout",
     "output_type": "stream",
     "text": [
      "_id                                   6322bfd5db337b16410bfe29\n",
      "id                                                       39986\n",
      "content      소년은 싸운다 --- '올바른 죽음'을 위해 \\r\\n\\r\\n쓰라린 고통, 후회, 치...\n",
      "genres                                               [판타지, 액션]\n",
      "name                                               주술회전 part 1\n",
      "series_id                                               4057.0\n",
      "tags         [성장, 요괴 및 괴물, 이능력, 열혈, 교복, 판타지, 액션, 학교, 마을, 작화...\n",
      "feature                                                       \n",
      "Name: 0, dtype: object\n",
      "content 열의 결측값의 수: 14\n",
      "genres 열의 결측값의 수: 14\n",
      "name 열의 결측값의 수: 14\n",
      "tags 열의 결측값의 수: 14\n",
      "series_id 열의 결측값의 수: 2585\n",
      "content 열의 결측값의 수: 0\n",
      "genres 열의 결측값의 수: 0\n",
      "name 열의 결측값의 수: 0\n",
      "tags 열의 결측값의 수: 0\n",
      "series_id 열의 결측값의 수: 0\n"
     ]
    }
   ],
   "source": [
    "# 내용을 합칠 feature라는 열 만들고 결측값들 빈 값으로 대체\n",
    "data['feature'] = ''\n",
    "print(data.iloc[0])\n",
    "print('content 열의 결측값의 수:',data['content'].isnull().sum())\n",
    "print('genres 열의 결측값의 수:',data['genres'].isnull().sum())\n",
    "print('name 열의 결측값의 수:',data['name'].isnull().sum())\n",
    "print('tags 열의 결측값의 수:',data['tags'].isnull().sum())\n",
    "print('series_id 열의 결측값의 수:',data['series_id'].isnull().sum())\n",
    "data['genres'] = data['genres'].fillna('')\n",
    "data['content'] = data['content'].fillna('')\n",
    "data['name'] = data['name'].fillna('')\n",
    "data['tags'] = data['tags'].fillna('')\n",
    "data['series_id'] = data['series_id'].fillna('')\n",
    "print('content 열의 결측값의 수:',data['content'].isnull().sum())\n",
    "print('genres 열의 결측값의 수:',data['genres'].isnull().sum())\n",
    "print('name 열의 결측값의 수:',data['name'].isnull().sum())\n",
    "print('tags 열의 결측값의 수:',data['tags'].isnull().sum())\n",
    "print('series_id 열의 결측값의 수:',data['series_id'].isnull().sum())"
   ]
  },
  {
   "cell_type": "code",
   "execution_count": 113,
   "id": "f0104b94",
   "metadata": {},
   "outputs": [],
   "source": [
    "# stopwords 다운로드\n",
    "# import nltk\n",
    "# nltk.download('stopwords')\n",
    "# C:\\Users\\SSAFY\\AppData\\Roaming\\nltk_data\\corpora\\stopwords에 korean 파일 생성 후 텍스트 추가하여 불러오기\n",
    "from nltk.corpus import stopwords\n",
    "stop_words = stopwords.words(\"korean\")"
   ]
  },
  {
   "cell_type": "code",
   "execution_count": 114,
   "id": "91b608b0",
   "metadata": {},
   "outputs": [],
   "source": [
    "# # 불용어 추가를 위한 빈도수 확인\n",
    "# from konlpy.tag import Okt\n",
    "# from collections import Counter\n",
    "# from nltk.corpus import stopwords\n",
    "# import re\n",
    "\n",
    "# stop_words = stopwords.words(\"korean\")\n",
    "\n",
    "# def morph_and_stopword(s):\n",
    "#     token_ls = []\n",
    "#     #형태소 분석\n",
    "#     tmp = okt.morphs(s, stem=True)\n",
    "#     #불용어 처리\n",
    "#     for token in tmp:\n",
    "#         if token not in stop_words and len(token) > 1:\n",
    "#             token_ls.append(token)\n",
    "#     return token_ls\n",
    "\n",
    "\n",
    "# def sub_special(s):\n",
    "#     return re.sub(r'[^ㄱ-ㅎㅏ-ㅣ가-힣0-9a-zA-Z ]','',s)\n",
    "\n",
    "# okt = Okt()\n",
    "# N = len(data)\n",
    "# token_result = list()\n",
    "# for d in range(N):\n",
    "#     temp1 = ' '.join(data.loc[d]['genres'])\n",
    "#     temp2 = ' '.join(data.loc[d]['tags'])\n",
    "#     data.loc[d]['feature'] = temp1 + '\\n' + data.loc[d]['content']\n",
    "#     data.loc[d]['feature'] = temp1 + '\\n' + temp2 + '\\n' + data.loc[d]['content']\n",
    "#     token_result += morph_and_stopword(sub_special(data.loc[d]['feature']))\n",
    "# token_result_count = Counter(token_result)\n",
    "# print(token_result_count)"
   ]
  },
  {
   "cell_type": "code",
   "execution_count": 115,
   "id": "c9e87af2",
   "metadata": {},
   "outputs": [],
   "source": [
    "# Okt 활용\n",
    "from konlpy.tag import Okt\n",
    "okt = Okt()\n",
    "\n",
    "\n",
    "def morph_and_stopword(s):\n",
    "    token_ls = []\n",
    "    #형태소 분석\n",
    "    tmp = okt.morphs(s, stem=True)\n",
    "    #불용어 처리\n",
    "    for token in tmp:\n",
    "        if token not in stop_words and len(token) > 1:\n",
    "            token_ls.append(token)\n",
    "    return token_ls"
   ]
  },
  {
   "cell_type": "code",
   "execution_count": 143,
   "id": "96cb7d11",
   "metadata": {},
   "outputs": [
    {
     "name": "stdout",
     "output_type": "stream",
     "text": [
      "\n",
      "0        \n",
      "1        \n",
      "2        \n",
      "3        \n",
      "4        \n",
      "       ..\n",
      "6116     \n",
      "6117     \n",
      "6118     \n",
      "6119     \n",
      "6120     \n",
      "Name: feature, Length: 6121, dtype: object\n",
      "판타지 액션\n",
      "\n",
      "0        \n",
      "1        \n",
      "2        \n",
      "3        \n",
      "4        \n",
      "       ..\n",
      "6116     \n",
      "6117     \n",
      "6118     \n",
      "6119     \n",
      "6120     \n",
      "Name: feature, Length: 6121, dtype: object\n"
     ]
    },
    {
     "name": "stderr",
     "output_type": "stream",
     "text": [
      "C:\\Users\\SSAFY\\AppData\\Local\\Temp\\ipykernel_3844\\131592145.py:18: SettingWithCopyWarning: \n",
      "A value is trying to be set on a copy of a slice from a DataFrame\n",
      "\n",
      "See the caveats in the documentation: https://pandas.pydata.org/pandas-docs/stable/user_guide/indexing.html#returning-a-view-versus-a-copy\n",
      "  data.loc[d]['feature'] = temp1 + '\\n' + temp2\n"
     ]
    }
   ],
   "source": [
    "# 필터링\n",
    "import re\n",
    "\n",
    "def sub_special(s):\n",
    "    return re.sub(r'[^ㄱ-ㅎㅏ-ㅣ가-힣0-9a-zA-Z ]','',s)\n",
    "\n",
    "# data['feature'] = data['genres'] + data['tags']\n",
    "# data['feature'] = ' '.join(data['genres'] + '\\n' + data['tags'])\n",
    "# print(data['feature'])\n",
    "N = len(data)\n",
    "for d in range(N):\n",
    "#     # genres와 tags는 list 형식이므로 str로 변경\n",
    "    data['genres'] = ' '.join(data.loc[d]['genres']\n",
    "    data['tags'] = ' '.join(data.loc[d]['tags']\n",
    "#     temp1 = ' '.join(data.loc[d]['genres'].copy())\n",
    "#     temp2 = ' '.join(data.loc[d]['tags'].copy())\n",
    "# #     temp3 = data.loc[d]['content']\n",
    "#     # genres, tags, content 합치기\n",
    "#     data.loc[d]['feature'] = temp1 + '\\n' + temp2 + '\\n' + data.loc[d]['content']\n",
    "#     data.loc[d]['feature'] = ' '.join(data.loc[d]['feature'])\n",
    "#     data.loc[d]['feature'] += data.loc[d]['content']\n",
    "#     # none이면 join이 불가\n",
    "#     if len(data.loc[d]['feature']) > 2:\n",
    "#         data.loc[d]['feature'] = ' '.join(morph_and_stopword(sub_special(data.loc[d]['feature'])))\n",
    "                        "
   ]
  },
  {
   "cell_type": "code",
   "execution_count": 50,
   "id": "c09a25a1",
   "metadata": {},
   "outputs": [
    {
     "name": "stdout",
     "output_type": "stream",
     "text": [
      "_id                                   6322bfd5db337b16410bfe29\n",
      "content      소년은 싸운다 --- '올바른 죽음'을 위해 \\r\\n\\r\\n쓰라린 고통, 후회, 치...\n",
      "genres                                               [판타지, 액션]\n",
      "name                                               주술회전 part 1\n",
      "series_id                                               4057.0\n",
      "tags         [성장, 요괴 및 괴물, 이능력, 열혈, 교복, 판타지, 액션, 학교, 마을, 작화...\n",
      "feature      판타지 액션 성장 요괴 괴물 능력 교복 판타지 액션 학교 마을 작화 만화 블루레이 ...\n",
      "Name: 0, dtype: object\n"
     ]
    }
   ],
   "source": [
    "# print(data.loc[0]['feature'])\n",
    "print(data.loc[0])"
   ]
  },
  {
   "cell_type": "code",
   "execution_count": 53,
   "id": "308d43fc",
   "metadata": {},
   "outputs": [
    {
     "name": "stdout",
     "output_type": "stream",
     "text": [
      "TF-IDF 행렬의 크기(shape) : (6121, 25456)\n",
      "코사인 유사도 연산 결과 : (6121, 6121)\n",
      "6030\n"
     ]
    }
   ],
   "source": [
    "# TF-IDF 분석\n",
    "tfidf = TfidfVectorizer()\n",
    "tfidf_matrix = tfidf.fit_transform(data['feature'])\n",
    "print('TF-IDF 행렬의 크기(shape) :',tfidf_matrix.shape)\n",
    "cosine_sim = cosine_similarity(tfidf_matrix, tfidf_matrix)\n",
    "print('코사인 유사도 연산 결과 :',cosine_sim.shape)\n",
    "\n",
    "# 애니 인덱스를 리턴\n",
    "name_to_id = dict(zip(data['name'], data.id))\n",
    "find_id = name_to_id['포켓몬스터 새벽빛의 날개']\n",
    "print(find_id)\n",
    "# print(cosine_sim)"
   ]
  },
  {
   "cell_type": "code",
   "execution_count": 12,
   "id": "38971d0a",
   "metadata": {},
   "outputs": [],
   "source": [
    "def get_recommendations(name, cosine_sim=cosine_sim):\n",
    "    # id를 받아오고\n",
    "    find_id = name_to_id[name]\n",
    "    # 유사도를 가져오고\n",
    "    sim_scores = list(enumerate(cosine_sim[find_id]))\n",
    "    # 유사도에 따라 정렬하고\n",
    "    sim_scores = sorted(sim_scores, key=lambda x: x[1], reverse=True)\n",
    "    # 상위 10개의 튜플을 넣을 공간 ten과 같은 시리즈인지 확인하기 위한 temp_series_id 선언\n",
    "    ten = list()\n",
    "    temp_series_id = list()\n",
    "    # 대상이 되는 애니메이션의 시리즈가 추가되지 않도록 temp_series_id에 추가\n",
    "    temp_series_id.append(data['series_id'].iloc[find_id])\n",
    "    for index, value in enumerate(sim_scores):\n",
    "        # 유사도가 0.95를 넘지 않고 이미 시리즈가 속해져있지 않다면 추가\n",
    "        if value[1] < 0.95 and (data['series_id'].iloc[sim_scores[index][0]] not in temp_series_id):\n",
    "            ten.append(sim_scores[index])\n",
    "            temp_series_id.append(data['series_id'].iloc[sim_scores[index][0]])\n",
    "        # 10개가 채워지면 stop\n",
    "        if len(ten) == 10:\n",
    "            break\n",
    "    # 10개의 id 뽑기\n",
    "    ani_ids = [idx[0] for idx in ten]\n",
    "    # 인덱스를 활용해서 제목 뽑기\n",
    "    return data['name'].iloc[ani_ids]"
   ]
  },
  {
   "cell_type": "code",
   "execution_count": 48,
   "id": "c6b1a1ec",
   "metadata": {},
   "outputs": [
    {
     "data": {
      "text/plain": [
       "6030                 포켓몬스터 새벽빛의 날개\n",
       "3819                     디지몬 어드벤처:\n",
       "5176                       버츄어 파이터\n",
       "1550             던전 앤 파이터 : 역전의 바퀴\n",
       "3767           (자막) 요괴학원Y ~N과의 조우~\n",
       "4080                     마신영웅전 와타루\n",
       "2332                  (자막) 원피스 20기\n",
       "3790          죠죠의 기묘한 모험 6부: 스톤 오션\n",
       "875     나의 히어로 아카데미아 : 구해라! 구조 훈련!\n",
       "5618                     천상천하: 과거편\n",
       "Name: name, dtype: object"
      ]
     },
     "execution_count": 48,
     "metadata": {},
     "output_type": "execute_result"
    }
   ],
   "source": [
    "get_recommendations('(더빙) 원피스 3기')\n",
    "# DB에 넣는 것은 빅보카 있는 것을 보면 올려 놓은 것에서....... 빅보카에서 첫번째 쉘에 형태소 분석 함수가 있음. 그것을 참고해서.\n",
    "# 리스트 값 만들고. 반복문 안에서 하나씩 집어넣었음. 그것도 행렬만들 때. ? 참고해서 보면 될듯.\n",
    "# 업데이트 ? update_one -> 하나씩 수정하는거. 처음 조건 값은 아이디가 data['id']. $ 이거이거 여기에 셋하고 필드명 넣고.\n",
    "# 유사도라던가 그런거 넣고. 리스트를 한 행씩 짤라서 넣으면 됨.\n",
    "# 데이터 백업이 뭔데....\n",
    "# 유사도에 따라 정렬해서 10개까지만 뽑아서 정렬된거에 아이디가 있으니 그것만 저장하면 될 듯\n",
    "# 디테일에 넣기."
   ]
  },
  {
   "cell_type": "markdown",
   "id": "36f6e6e0",
   "metadata": {},
   "source": [
    "## 실행결과\n",
    "### get_recommendations('도쿄 리벤저스 part 1')  \n",
    "#### (수정전)  \n",
    "544                   약캐 토모자키 군  \n",
    "3        전생했더니 슬라임이었던 건에 대하여 1기  \n",
    "428     전생했더니 슬라임이었던 건에 대하여 OAD  \n",
    "281                        괴물사변  \n",
    "4209                  텔레파시 소녀 란  \n",
    "3726                    치팅 크래프트  \n",
    "5363               페르소나 트리니티 소울  \n",
    "6038                         버블  \n",
    "4949              물드는 세계의 내일로부터  \n",
    "4537                흑장미 부인의 문방구  \n",
    "  \n",
    "#### (stop_word 더 추가)  \n",
    "544                     약캐 토모자키 군  \n",
    "4537                  흑장미 부인의 문방구  \n",
    "281                          괴물사변  \n",
    "3          전생했더니 슬라임이었던 건에 대하여 1기  \n",
    "428       전생했더니 슬라임이었던 건에 대하여 OAD  \n",
    "4209                    텔레파시 소녀 란  \n",
    "5363                 페르소나 트리니티 소울  \n",
    "6038                           버블  \n",
    "4949                물드는 세계의 내일로부터  \n",
    "4390    극장판 DEEMO: 너의 연주는 마음을 수놓아  \n",
    "  \n",
    "#### (시리즈는 처음 나오는 하나만 나오도록 추가)  \n",
    "544                      약캐 토모자키 군  \n",
    "3           전생했더니 슬라임이었던 건에 대하여 1기  \n",
    "5363                  페르소나 트리니티 소울  \n",
    "2585                       바케모노가타리  \n",
    "798                (자막) 시간을 달리는 소녀  \n",
    "1537               (더빙) 시간을 달리는 소녀  \n",
    "870                        목소리의 형태  \n",
    "588                     진격의 거인 OAD  \n",
    "875     나의 히어로 아카데미아 : 구해라! 구조 훈련!  \n",
    "5445                        계 츠구모모  \n",
    "  \n",
    "  \n",
    "### get_recommendations('(더빙) 원피스 1기')  \n",
    "1877                         (자막) 원피스 스탬피드  \n",
    "2262                (자막) 토리코 x 원피스 콜라보 스페셜  \n",
    "2277    (자막) 토리코 x 원피스 x 드래곤볼 Z 최강 콜라보 스페셜  \n",
    "3027                         (더빙) 꼬마잠수함 올리  \n",
    "5111                        건강 전라계 수영부 우미쇼  \n",
    "363                   Free! Eternal Summer  \n",
    "4862                           코브라 디 애니메이션  \n",
    "6030                         포켓몬스터 새벽빛의 날개  \n",
    "2289                      극장판 뽀로로  보물섬 대모험  \n",
    "4369             (자막) 스페이스 독 3 : 트로피컬 어드벤처  \n",
    "  \n",
    "  \n",
    "### get_recommendations('(자막) 스파이 패밀리')  \n",
    "2399                 도사의 무녀 : 새겨진 일섬의 등불  \n",
    "5188                             애 천지무용!  \n",
    "6110    이과가 사랑에 빠졌기에 증명해보았다 r=1-sinθ(하트)  \n",
    "4424                  극장판 장난을 잘 치는 타카기 양  \n",
    "2763                            이웃집 야마다군  \n",
    "1825                           안녕 자두야 1기  \n",
    "3722                                곡스 2  \n",
    "3720                         비밀의 아코짱 제2기  \n",
    "4634                             조이드 퓨저스  \n",
    "4758                            최종시험 쿠지라  "
   ]
  },
  {
   "cell_type": "code",
   "execution_count": null,
   "id": "549d5b07",
   "metadata": {},
   "outputs": [],
   "source": []
  }
 ],
 "metadata": {
  "kernelspec": {
   "display_name": "Python 3 (ipykernel)",
   "language": "python",
   "name": "python3"
  },
  "language_info": {
   "codemirror_mode": {
    "name": "ipython",
    "version": 3
   },
   "file_extension": ".py",
   "mimetype": "text/x-python",
   "name": "python",
   "nbconvert_exporter": "python",
   "pygments_lexer": "ipython3",
   "version": "3.8.0"
  }
 },
 "nbformat": 4,
 "nbformat_minor": 5
}
